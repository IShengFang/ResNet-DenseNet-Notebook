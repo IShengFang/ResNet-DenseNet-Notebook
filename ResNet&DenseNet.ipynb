{
 "cells": [
  {
   "cell_type": "markdown",
   "metadata": {},
   "source": [
    "# ResNet(CVPR 2016), DenseNet 101\n",
    "## ResNet\n",
    "Deep Residual Learning for Image Recognition\n",
    "He, Kaiming, et al. \"Deep residual learning for image recognition.\" Proceedings of the IEEE conference on computer vision and pattern recognition. 2016.\n",
    "https://www.cv-foundation.org/openaccess/content_cvpr_2016/papers/He_Deep_Residual_Learning_CVPR_2016_paper.pdf\n",
    "## DenseNet\n",
    "Densely connected convolutional networks.\n",
    "Huang, Gao, et al. \"Densely connected convolutional networks.\" Proceedings of the IEEE conference on computer vision and pattern recognition. 2017.\n",
    "http://openaccess.thecvf.com/content_cvpr_2017/papers/Huang_Densely_Connected_Convolutional_CVPR_2017_paper.pdf"
   ]
  },
  {
   "cell_type": "markdown",
   "metadata": {},
   "source": [
    "### Import "
   ]
  },
  {
   "cell_type": "code",
   "execution_count": 1,
   "metadata": {
    "collapsed": true
   },
   "outputs": [],
   "source": [
    "%matplotlib inline\n",
    "import matplotlib.pyplot as plt\n",
    "import numpy as np"
   ]
  },
  {
   "cell_type": "code",
   "execution_count": 2,
   "metadata": {},
   "outputs": [
    {
     "name": "stderr",
     "output_type": "stream",
     "text": [
      "Using TensorFlow backend.\n"
     ]
    }
   ],
   "source": [
    "from keras.models import Model\n",
    "from keras.callbacks import *\n",
    "from keras.layers import Input, Dense, Flatten,Activation, BatchNormalization, Conv2D, Conv2DTranspose, MaxPooling2D, Add, AveragePooling2D\n",
    "from keras.activations import *\n",
    "from keras.datasets import cifar,cifar10,cifar100\n",
    "from keras.utils import to_categorical, plot_model\n",
    "from keras.optimizers import *"
   ]
  },
  {
   "cell_type": "code",
   "execution_count": 3,
   "metadata": {},
   "outputs": [],
   "source": [
    "(x_train, y_train), (x_test, y_test) = cifar100.load_data()"
   ]
  },
  {
   "cell_type": "code",
   "execution_count": 4,
   "metadata": {
    "collapsed": true
   },
   "outputs": [],
   "source": [
    "y_train = to_categorical(y_train, num_classes=100)\n",
    "y_test  = to_categorical(y_test, num_classes=100)"
   ]
  },
  {
   "cell_type": "code",
   "execution_count": 5,
   "metadata": {},
   "outputs": [
    {
     "data": {
      "text/plain": [
       "(50000, 32, 32, 3)"
      ]
     },
     "execution_count": 5,
     "metadata": {},
     "output_type": "execute_result"
    }
   ],
   "source": [
    "x_train.shape"
   ]
  },
  {
   "cell_type": "code",
   "execution_count": 6,
   "metadata": {},
   "outputs": [
    {
     "data": {
      "text/plain": [
       "(50000, 100)"
      ]
     },
     "execution_count": 6,
     "metadata": {},
     "output_type": "execute_result"
    }
   ],
   "source": [
    "y_train.shape"
   ]
  },
  {
   "cell_type": "code",
   "execution_count": 7,
   "metadata": {},
   "outputs": [
    {
     "data": {
      "text/plain": [
       "<matplotlib.image.AxesImage at 0x7fdf2cfdcf60>"
      ]
     },
     "execution_count": 7,
     "metadata": {},
     "output_type": "execute_result"
    },
    {
     "data": {
      "image/png": "[encoded data removed]",
      "text/plain": [
       "<matplotlib.figure.Figure at 0x7fdf9c5e7c50>"
      ]
     },
     "metadata": {},
     "output_type": "display_data"
    }
   ],
   "source": [
    "plt.imshow(x_train[87])"
   ]
  },
  {
   "cell_type": "markdown",
   "metadata": {},
   "source": [
    "## ResNet"
   ]
  },
  {
   "cell_type": "markdown",
   "metadata": {},
   "source": [
    "### What is Residual?\n",
    "Just a error of funtion output. o'_'o   \n",
    "For pretty simple PR reason, we cannot call our net is ErrorNet.   \n",
    ">**It was not OK.**   \n",
    "\n",
    "#### Definition \n",
    "If we have a function $f(x) =b$  \n",
    "Given an apporxination $x_0\\in X$, the *residual* of $f(x)$ is $$b-f(x_0)$$\n",
    "\n",
    "#### Residaul V. Error\n",
    "Error $$x-x_0$$\n",
    "Residual $$f(x)-f(x_0)$$\n",
    "\n",
    "#### How to use it in NN?\n",
    "It's pretty simple. \n",
    "> **Layer is a fucntion** (Roughly)\n",
    "\n",
    "\n",
    "Given we have two mapping of two layers $f,g$, identity function $i$, $H$ is desired mapping of whole block, $F$ is desired mapping of $g\\circ f$. $X$ is a vector space.\n",
    "$$X \\overset{f}{\\longrightarrow} X \\overset{g}{\\longrightarrow} X $$\n",
    "$$x \\longmapsto f(x)  \\longmapsto g\\circ f(x) $$\n",
    "$$i: X\\longrightarrow X$$\n",
    "$$  x \\longmapsto x $$\n",
    "$$H,F: X\\longrightarrow X$$\n",
    "we hope $ g\\circ f$ can be apporched $F$.  \n",
    "  \n",
    "Let $$ H(x) = F(x)+x$$\n",
    "so $$F(x) = H(x)-x$$\n",
    "Given $x_0$ is the apporch value we have.  \n",
    "And the residual of $H$ is $$H(x)-H(x_0)$$  \n",
    "Since\n",
    "$$H(x)= F(x)+x$$\n",
    "$$H(x_0)= F(x_0)+x_0$$\n",
    "we can know that\n",
    "$$ H(x)-H(x_0) = F(x)-F(x_0)+x-x_0$$\n",
    "  \n",
    "Also. If we consider $\\hat{H}, \\hat{F}$ is the mapping we have now.\n",
    "Since\n",
    "$$H(x)= F(x)+x$$\n",
    "$$\\hat{H}(x)=\\hat{F}(x)+x$$\n",
    "so we can get\n",
    "$$H(x)-\\hat{H}(x) = F(x)-\\hat{F}(x)$$\n",
    "\n"
   ]
  },
  {
   "cell_type": "markdown",
   "metadata": {},
   "source": [
    "#### Resdual Block"
   ]
  },
  {
   "cell_type": "code",
   "execution_count": 8,
   "metadata": {},
   "outputs": [
    {
     "name": "stdout",
     "output_type": "stream",
     "text": [
      "____________________________________________________________________________________________________\n",
      "Layer (type)                     Output Shape          Param #     Connected to                     \n",
      "====================================================================================================\n",
      "input_1 (InputLayer)             (None, 9, 4, 87)      0                                            \n",
      "____________________________________________________________________________________________________\n",
      "batch_normalization_1 (BatchNorm (None, 9, 4, 87)      348         input_1[0][0]                    \n",
      "____________________________________________________________________________________________________\n",
      "activation_1 (Activation)        (None, 9, 4, 87)      0           batch_normalization_1[0][0]      \n",
      "____________________________________________________________________________________________________\n",
      "conv2d_1 (Conv2D)                (None, 9, 4, 87)      68208       activation_1[0][0]               \n",
      "____________________________________________________________________________________________________\n",
      "batch_normalization_2 (BatchNorm (None, 9, 4, 87)      348         conv2d_1[0][0]                   \n",
      "____________________________________________________________________________________________________\n",
      "activation_2 (Activation)        (None, 9, 4, 87)      0           batch_normalization_2[0][0]      \n",
      "____________________________________________________________________________________________________\n",
      "conv2d_2 (Conv2D)                (None, 9, 4, 87)      68208       activation_2[0][0]               \n",
      "____________________________________________________________________________________________________\n",
      "add_1 (Add)                      (None, 9, 4, 87)      0           input_1[0][0]                    \n",
      "                                                                   conv2d_2[0][0]                   \n",
      "====================================================================================================\n",
      "Total params: 137,112\n",
      "Trainable params: 136,764\n",
      "Non-trainable params: 348\n",
      "____________________________________________________________________________________________________\n"
     ]
    }
   ],
   "source": [
    "res_block_input = Input((9,4,87))\n",
    "res_block_1     = BatchNormalization()(res_block_input)\n",
    "res_block_1     = Activation('relu')(res_block_1)\n",
    "res_block_1     = Conv2D(87, 3 , strides=1, padding='same')(res_block_1)\n",
    "res_block_2     = BatchNormalization()(res_block_1)\n",
    "res_block_2     = Activation('relu')(res_block_2)\n",
    "res_block_2     = Conv2D(87, 3 , strides=1, padding='same')(res_block_2)\n",
    "res_block_add   = Add()([res_block_input, res_block_2])\n",
    "\n",
    "res_block = Model(res_block_input, res_block_add, name='res_block')\n",
    "plot_model(res_block, 'resnres_block.png', show_layer_names=False)\n",
    "res_block.summary()"
   ]
  },
  {
   "cell_type": "markdown",
   "metadata": {},
   "source": [
    "### Original version ResNet(ReLu+Batch Normalization)"
   ]
  },
  {
   "cell_type": "markdown",
   "metadata": {
    "collapsed": true
   },
   "source": [
    "#### With Resdual Block"
   ]
  },
  {
   "cell_type": "code",
   "execution_count": 9,
   "metadata": {},
   "outputs": [
    {
     "name": "stdout",
     "output_type": "stream",
     "text": [
      "____________________________________________________________________________________________________\n",
      "Layer (type)                     Output Shape          Param #     Connected to                     \n",
      "====================================================================================================\n",
      "input_2 (InputLayer)             (None, 32, 32, 3)     0                                            \n",
      "____________________________________________________________________________________________________\n",
      "conv2d_3 (Conv2D)                (None, 16, 16, 64)    1792        input_2[0][0]                    \n",
      "____________________________________________________________________________________________________\n",
      "max_pooling2d_1 (MaxPooling2D)   (None, 8, 8, 64)      0           conv2d_3[0][0]                   \n",
      "____________________________________________________________________________________________________\n",
      "batch_normalization_3 (BatchNorm (None, 8, 8, 64)      256         max_pooling2d_1[0][0]            \n",
      "____________________________________________________________________________________________________\n",
      "activation_3 (Activation)        (None, 8, 8, 64)      0           batch_normalization_3[0][0]      \n",
      "____________________________________________________________________________________________________\n",
      "conv2d_4 (Conv2D)                (None, 8, 8, 64)      36928       activation_3[0][0]               \n",
      "____________________________________________________________________________________________________\n",
      "batch_normalization_4 (BatchNorm (None, 8, 8, 64)      256         conv2d_4[0][0]                   \n",
      "____________________________________________________________________________________________________\n",
      "activation_4 (Activation)        (None, 8, 8, 64)      0           batch_normalization_4[0][0]      \n",
      "____________________________________________________________________________________________________\n",
      "conv2d_5 (Conv2D)                (None, 8, 8, 64)      36928       activation_4[0][0]               \n",
      "____________________________________________________________________________________________________\n",
      "add_2 (Add)                      (None, 8, 8, 64)      0           max_pooling2d_1[0][0]            \n",
      "                                                                   conv2d_5[0][0]                   \n",
      "____________________________________________________________________________________________________\n",
      "batch_normalization_5 (BatchNorm (None, 8, 8, 64)      256         add_2[0][0]                      \n",
      "____________________________________________________________________________________________________\n",
      "activation_5 (Activation)        (None, 8, 8, 64)      0           batch_normalization_5[0][0]      \n",
      "____________________________________________________________________________________________________\n",
      "conv2d_6 (Conv2D)                (None, 8, 8, 64)      36928       activation_5[0][0]               \n",
      "____________________________________________________________________________________________________\n",
      "batch_normalization_6 (BatchNorm (None, 8, 8, 64)      256         conv2d_6[0][0]                   \n",
      "____________________________________________________________________________________________________\n",
      "activation_6 (Activation)        (None, 8, 8, 64)      0           batch_normalization_6[0][0]      \n",
      "____________________________________________________________________________________________________\n",
      "conv2d_7 (Conv2D)                (None, 8, 8, 64)      36928       activation_6[0][0]               \n",
      "____________________________________________________________________________________________________\n",
      "add_3 (Add)                      (None, 8, 8, 64)      0           add_2[0][0]                      \n",
      "                                                                   conv2d_7[0][0]                   \n",
      "____________________________________________________________________________________________________\n",
      "batch_normalization_7 (BatchNorm (None, 8, 8, 64)      256         add_3[0][0]                      \n",
      "____________________________________________________________________________________________________\n",
      "activation_7 (Activation)        (None, 8, 8, 64)      0           batch_normalization_7[0][0]      \n",
      "____________________________________________________________________________________________________\n",
      "conv2d_8 (Conv2D)                (None, 8, 8, 64)      36928       activation_7[0][0]               \n",
      "____________________________________________________________________________________________________\n",
      "batch_normalization_8 (BatchNorm (None, 8, 8, 64)      256         conv2d_8[0][0]                   \n",
      "____________________________________________________________________________________________________\n",
      "activation_8 (Activation)        (None, 8, 8, 64)      0           batch_normalization_8[0][0]      \n",
      "____________________________________________________________________________________________________\n",
      "conv2d_9 (Conv2D)                (None, 8, 8, 64)      36928       activation_8[0][0]               \n",
      "____________________________________________________________________________________________________\n",
      "add_4 (Add)                      (None, 8, 8, 64)      0           add_3[0][0]                      \n",
      "                                                                   conv2d_9[0][0]                   \n",
      "____________________________________________________________________________________________________\n",
      "conv2d_10 (Conv2D)               (None, 4, 4, 128)     73856       add_4[0][0]                      \n",
      "____________________________________________________________________________________________________\n",
      "conv2d_11 (Conv2D)               (None, 4, 4, 128)     147584      conv2d_10[0][0]                  \n",
      "____________________________________________________________________________________________________\n",
      "batch_normalization_9 (BatchNorm (None, 4, 4, 128)     512         conv2d_11[0][0]                  \n",
      "____________________________________________________________________________________________________\n",
      "activation_9 (Activation)        (None, 4, 4, 128)     0           batch_normalization_9[0][0]      \n",
      "____________________________________________________________________________________________________\n",
      "conv2d_12 (Conv2D)               (None, 4, 4, 128)     147584      activation_9[0][0]               \n",
      "____________________________________________________________________________________________________\n",
      "batch_normalization_10 (BatchNor (None, 4, 4, 128)     512         conv2d_12[0][0]                  \n",
      "____________________________________________________________________________________________________\n",
      "activation_10 (Activation)       (None, 4, 4, 128)     0           batch_normalization_10[0][0]     \n",
      "____________________________________________________________________________________________________\n",
      "conv2d_13 (Conv2D)               (None, 4, 4, 128)     147584      activation_10[0][0]              \n",
      "____________________________________________________________________________________________________\n",
      "add_5 (Add)                      (None, 4, 4, 128)     0           conv2d_11[0][0]                  \n",
      "                                                                   conv2d_13[0][0]                  \n",
      "____________________________________________________________________________________________________\n",
      "batch_normalization_11 (BatchNor (None, 4, 4, 128)     512         add_5[0][0]                      \n",
      "____________________________________________________________________________________________________\n",
      "activation_11 (Activation)       (None, 4, 4, 128)     0           batch_normalization_11[0][0]     \n",
      "____________________________________________________________________________________________________\n",
      "conv2d_14 (Conv2D)               (None, 4, 4, 128)     147584      activation_11[0][0]              \n",
      "____________________________________________________________________________________________________\n",
      "batch_normalization_12 (BatchNor (None, 4, 4, 128)     512         conv2d_14[0][0]                  \n",
      "____________________________________________________________________________________________________\n",
      "activation_12 (Activation)       (None, 4, 4, 128)     0           batch_normalization_12[0][0]     \n",
      "____________________________________________________________________________________________________\n",
      "conv2d_15 (Conv2D)               (None, 4, 4, 128)     147584      activation_12[0][0]              \n",
      "____________________________________________________________________________________________________\n",
      "add_6 (Add)                      (None, 4, 4, 128)     0           add_5[0][0]                      \n",
      "                                                                   conv2d_15[0][0]                  \n",
      "____________________________________________________________________________________________________\n",
      "batch_normalization_13 (BatchNor (None, 4, 4, 128)     512         add_6[0][0]                      \n",
      "____________________________________________________________________________________________________\n",
      "activation_13 (Activation)       (None, 4, 4, 128)     0           batch_normalization_13[0][0]     \n",
      "____________________________________________________________________________________________________\n",
      "conv2d_16 (Conv2D)               (None, 4, 4, 128)     147584      activation_13[0][0]              \n",
      "____________________________________________________________________________________________________\n",
      "batch_normalization_14 (BatchNor (None, 4, 4, 128)     512         conv2d_16[0][0]                  \n",
      "____________________________________________________________________________________________________\n",
      "activation_14 (Activation)       (None, 4, 4, 128)     0           batch_normalization_14[0][0]     \n",
      "____________________________________________________________________________________________________\n",
      "conv2d_17 (Conv2D)               (None, 4, 4, 128)     147584      activation_14[0][0]              \n",
      "____________________________________________________________________________________________________\n",
      "add_7 (Add)                      (None, 4, 4, 128)     0           add_6[0][0]                      \n",
      "                                                                   conv2d_17[0][0]                  \n",
      "____________________________________________________________________________________________________\n",
      "average_pooling2d_1 (AveragePool (None, 2, 2, 128)     0           add_7[0][0]                      \n",
      "____________________________________________________________________________________________________\n",
      "flatten_1 (Flatten)              (None, 512)           0           average_pooling2d_1[0][0]        \n",
      "____________________________________________________________________________________________________\n",
      "dense_1 (Dense)                  (None, 100)           51300       flatten_1[0][0]                  \n",
      "====================================================================================================\n",
      "Total params: 1,386,212\n",
      "Trainable params: 1,383,908\n",
      "Non-trainable params: 2,304\n",
      "____________________________________________________________________________________________________\n"
     ]
    }
   ],
   "source": [
    "cl_in      = Input(shape=x_train.shape[1:])\n",
    "cl_conv_1  = Conv2D(64, 3, strides=2, activation='selu', padding='same', kernel_initializer='lecun_normal')(cl_in)\n",
    "cl_pl_1    = MaxPooling2D()(cl_conv_1)\n",
    "cl_res_1_1 = BatchNormalization()(cl_pl_1)\n",
    "cl_res_1_1 = Activation('relu')(cl_res_1_1)\n",
    "cl_res_1_1 = Conv2D(64, 3, strides=1, padding='same', kernel_initializer='lecun_normal')(cl_res_1_1)\n",
    "cl_res_1_2 = BatchNormalization()(cl_res_1_1)\n",
    "cl_res_1_2 = Activation('relu')(cl_res_1_2)\n",
    "cl_res_1_2 = Conv2D(64, 3, strides=1, padding='same', kernel_initializer='lecun_normal')(cl_res_1_2)\n",
    "cl_res_1_a = Add()([cl_pl_1, cl_res_1_2])\n",
    "cl_res_2_1 = BatchNormalization()(cl_res_1_a)\n",
    "cl_res_2_1 = Activation('relu')(cl_res_2_1)\n",
    "cl_res_2_1 = Conv2D(64, 3, strides=1, padding='same', kernel_initializer='lecun_normal')(cl_res_2_1)\n",
    "cl_res_2_2 = BatchNormalization()(cl_res_2_1)\n",
    "cl_res_2_2 = Activation('relu')(cl_res_2_2)\n",
    "cl_res_2_2 = Conv2D(64, 3, strides=1, padding='same', kernel_initializer='lecun_normal')(cl_res_2_2)\n",
    "cl_res_2_a = Add()([cl_res_1_a, cl_res_2_2])\n",
    "cl_res_3_1 = BatchNormalization()(cl_res_2_a)\n",
    "cl_res_3_1 = Activation('relu')(cl_res_3_1)\n",
    "cl_res_3_1 = Conv2D(64, 3, strides=1, padding='same', kernel_initializer='lecun_normal')(cl_res_3_1)\n",
    "cl_res_3_2 = BatchNormalization()(cl_res_3_1)\n",
    "cl_res_3_2 = Activation('relu')(cl_res_3_2)\n",
    "cl_res_3_2 = Conv2D(64, 3, strides=1, padding='same', kernel_initializer='lecun_normal')(cl_res_3_2)\n",
    "cl_res_3_a = Add()([cl_res_2_a, cl_res_3_2])\n",
    "cl_conv_2  = Conv2D(128, 3, strides=2, padding='same', kernel_initializer='lecun_normal')(cl_res_3_a)\n",
    "cl_conv_2  = Conv2D(128, 3, strides=1, padding='same', kernel_initializer='lecun_normal')(cl_conv_2)\n",
    "cl_res_4_1 = BatchNormalization()(cl_conv_2)\n",
    "cl_res_4_1 = Activation('relu')(cl_res_4_1)\n",
    "cl_res_4_1 = Conv2D(128, 3, strides=1, padding='same', kernel_initializer='lecun_normal')(cl_res_4_1)\n",
    "cl_res_4_2 = BatchNormalization()(cl_res_4_1)\n",
    "cl_res_4_2 = Activation('relu')(cl_res_4_2)\n",
    "cl_res_4_2 = Conv2D(128, 3, strides=1, padding='same', kernel_initializer='lecun_normal')(cl_res_4_2)\n",
    "cl_res_4_a = Add()([cl_conv_2, cl_res_4_2])\n",
    "cl_res_5_1 = BatchNormalization()(cl_res_4_a)\n",
    "cl_res_5_1 = Activation('relu')(cl_res_5_1)\n",
    "cl_res_5_1 = Conv2D(128, 3, strides=1, padding='same', kernel_initializer='lecun_normal')(cl_res_5_1)\n",
    "cl_res_5_2 = BatchNormalization()(cl_res_5_1)\n",
    "cl_res_5_2 = Activation('relu')(cl_res_5_2)\n",
    "cl_res_5_2 = Conv2D(128, 3, strides=1, padding='same', kernel_initializer='lecun_normal')(cl_res_5_2)\n",
    "cl_res_5_a = Add()([cl_res_4_a, cl_res_5_2])\n",
    "cl_res_6_1 = BatchNormalization()(cl_res_5_a)\n",
    "cl_res_6_1 = Activation('relu')(cl_res_6_1)\n",
    "cl_res_6_1 = Conv2D(128, 3, strides=1, padding='same', kernel_initializer='lecun_normal')(cl_res_6_1)\n",
    "cl_res_6_2 = BatchNormalization()(cl_res_6_1)\n",
    "cl_res_6_2 = Activation('relu')(cl_res_6_2)\n",
    "cl_res_6_2 = Conv2D(128, 3, strides=1, padding='same', kernel_initializer='lecun_normal')(cl_res_6_2)\n",
    "cl_res_6_a = Add()([cl_res_5_a, cl_res_6_2])\n",
    "cl_pl_2    = AveragePooling2D()(cl_res_6_a)\n",
    "cl_flatten = Flatten()(cl_pl_2)\n",
    "cl_fc100   = Dense(100, activation='softmax')(cl_flatten)\n",
    "classifier_ReLUBN = Model(cl_in, cl_fc100)\n",
    "plot_model(classifier_ReLUBN, 'resnet_ReLUBN.png', show_layer_names=False)\n",
    "classifier_ReLUBN.summary()"
   ]
  },
  {
   "cell_type": "code",
   "execution_count": 10,
   "metadata": {
    "scrolled": true
   },
   "outputs": [
    {
     "name": "stdout",
     "output_type": "stream",
     "text": [
      "Train on 50000 samples, validate on 10000 samples\n",
      "Epoch 1/100\n",
      "50000/50000 [==============================] - 11s - loss: 0.2089 - binary_crossentropy: 0.2089 - mean_squared_error: 0.0182 - acc: 0.9806 - val_loss: 0.1989 - val_binary_crossentropy: 0.1989 - val_mean_squared_error: 0.0178 - val_acc: 0.9807\n",
      "Epoch 2/100\n",
      "50000/50000 [==============================] - 10s - loss: 0.1929 - binary_crossentropy: 0.1929 - mean_squared_error: 0.0175 - acc: 0.9809 - val_loss: 0.1879 - val_binary_crossentropy: 0.1879 - val_mean_squared_error: 0.0173 - val_acc: 0.9810\n",
      "Epoch 3/100\n",
      "50000/50000 [==============================] - 10s - loss: 0.1852 - binary_crossentropy: 0.1852 - mean_squared_error: 0.0171 - acc: 0.9812 - val_loss: 0.1809 - val_binary_crossentropy: 0.1809 - val_mean_squared_error: 0.0168 - val_acc: 0.9815\n",
      "Epoch 4/100\n",
      "50000/50000 [==============================] - 10s - loss: 0.1805 - binary_crossentropy: 0.1805 - mean_squared_error: 0.0168 - acc: 0.9814 - val_loss: 0.1786 - val_binary_crossentropy: 0.1786 - val_mean_squared_error: 0.0166 - val_acc: 0.9815\n",
      "Epoch 5/100\n",
      "50000/50000 [==============================] - 10s - loss: 0.1765 - binary_crossentropy: 0.1765 - mean_squared_error: 0.0165 - acc: 0.9816 - val_loss: 0.1766 - val_binary_crossentropy: 0.1766 - val_mean_squared_error: 0.0165 - val_acc: 0.9817\n",
      "Epoch 6/100\n",
      "50000/50000 [==============================] - 10s - loss: 0.1738 - binary_crossentropy: 0.1738 - mean_squared_error: 0.0163 - acc: 0.9818 - val_loss: 0.1728 - val_binary_crossentropy: 0.1728 - val_mean_squared_error: 0.0161 - val_acc: 0.9820\n",
      "Epoch 7/100\n",
      "50000/50000 [==============================] - 10s - loss: 0.1709 - binary_crossentropy: 0.1709 - mean_squared_error: 0.0160 - acc: 0.9821 - val_loss: 0.1707 - val_binary_crossentropy: 0.1707 - val_mean_squared_error: 0.0159 - val_acc: 0.9822\n",
      "Epoch 8/100\n",
      "50000/50000 [==============================] - 10s - loss: 0.1686 - binary_crossentropy: 0.1686 - mean_squared_error: 0.0158 - acc: 0.9823 - val_loss: 0.1691 - val_binary_crossentropy: 0.1691 - val_mean_squared_error: 0.0158 - val_acc: 0.9823\n",
      "Epoch 9/100\n",
      "50000/50000 [==============================] - 10s - loss: 0.1666 - binary_crossentropy: 0.1666 - mean_squared_error: 0.0156 - acc: 0.9825 - val_loss: 0.1681 - val_binary_crossentropy: 0.1681 - val_mean_squared_error: 0.0157 - val_acc: 0.9823\n",
      "Epoch 10/100\n",
      "50000/50000 [==============================] - 10s - loss: 0.1651 - binary_crossentropy: 0.1651 - mean_squared_error: 0.0154 - acc: 0.9826 - val_loss: 0.1656 - val_binary_crossentropy: 0.1656 - val_mean_squared_error: 0.0155 - val_acc: 0.9826\n",
      "Epoch 11/100\n",
      "50000/50000 [==============================] - 10s - loss: 0.1632 - binary_crossentropy: 0.1632 - mean_squared_error: 0.0152 - acc: 0.9829 - val_loss: 0.1645 - val_binary_crossentropy: 0.1645 - val_mean_squared_error: 0.0154 - val_acc: 0.9827\n",
      "Epoch 12/100\n",
      "50000/50000 [==============================] - 10s - loss: 0.1613 - binary_crossentropy: 0.1613 - mean_squared_error: 0.0150 - acc: 0.9831 - val_loss: 0.1626 - val_binary_crossentropy: 0.1626 - val_mean_squared_error: 0.0152 - val_acc: 0.9829\n",
      "Epoch 13/100\n",
      "50000/50000 [==============================] - 10s - loss: 0.1592 - binary_crossentropy: 0.1592 - mean_squared_error: 0.0149 - acc: 0.9833 - val_loss: 0.1604 - val_binary_crossentropy: 0.1604 - val_mean_squared_error: 0.0152 - val_acc: 0.9830\n",
      "Epoch 14/100\n",
      "50000/50000 [==============================] - 10s - loss: 0.1569 - binary_crossentropy: 0.1569 - mean_squared_error: 0.0147 - acc: 0.9835 - val_loss: 0.1575 - val_binary_crossentropy: 0.1575 - val_mean_squared_error: 0.0148 - val_acc: 0.9835\n",
      "Epoch 15/100\n",
      "50000/50000 [==============================] - 10s - loss: 0.1547 - binary_crossentropy: 0.1547 - mean_squared_error: 0.0146 - acc: 0.9837 - val_loss: 0.1550 - val_binary_crossentropy: 0.1550 - val_mean_squared_error: 0.0146 - val_acc: 0.9837\n",
      "Epoch 16/100\n",
      "50000/50000 [==============================] - 10s - loss: 0.1523 - binary_crossentropy: 0.1523 - mean_squared_error: 0.0144 - acc: 0.9838 - val_loss: 0.1543 - val_binary_crossentropy: 0.1543 - val_mean_squared_error: 0.0148 - val_acc: 0.9833\n",
      "Epoch 17/100\n",
      "50000/50000 [==============================] - 10s - loss: 0.1502 - binary_crossentropy: 0.1502 - mean_squared_error: 0.0142 - acc: 0.9841 - val_loss: 0.1507 - val_binary_crossentropy: 0.1507 - val_mean_squared_error: 0.0143 - val_acc: 0.9840\n",
      "Epoch 18/100\n",
      "50000/50000 [==============================] - 10s - loss: 0.1479 - binary_crossentropy: 0.1479 - mean_squared_error: 0.0141 - acc: 0.9842 - val_loss: 0.1490 - val_binary_crossentropy: 0.1490 - val_mean_squared_error: 0.0143 - val_acc: 0.9840\n",
      "Epoch 19/100\n",
      "50000/50000 [==============================] - 10s - loss: 0.1455 - binary_crossentropy: 0.1455 - mean_squared_error: 0.0140 - acc: 0.9844 - val_loss: 0.1469 - val_binary_crossentropy: 0.1469 - val_mean_squared_error: 0.0144 - val_acc: 0.9839\n",
      "Epoch 20/100\n",
      "50000/50000 [==============================] - 10s - loss: 0.1430 - binary_crossentropy: 0.1430 - mean_squared_error: 0.0138 - acc: 0.9846 - val_loss: 0.1447 - val_binary_crossentropy: 0.1447 - val_mean_squared_error: 0.0141 - val_acc: 0.9842\n",
      "Epoch 21/100\n",
      "50000/50000 [==============================] - 10s - loss: 0.1407 - binary_crossentropy: 0.1407 - mean_squared_error: 0.0137 - acc: 0.9848 - val_loss: 0.1418 - val_binary_crossentropy: 0.1418 - val_mean_squared_error: 0.0138 - val_acc: 0.9847\n",
      "Epoch 22/100\n",
      "50000/50000 [==============================] - 10s - loss: 0.1383 - binary_crossentropy: 0.1383 - mean_squared_error: 0.0135 - acc: 0.9850 - val_loss: 0.1389 - val_binary_crossentropy: 0.1389 - val_mean_squared_error: 0.0137 - val_acc: 0.9847\n",
      "Epoch 23/100\n",
      "50000/50000 [==============================] - 10s - loss: 0.1353 - binary_crossentropy: 0.1353 - mean_squared_error: 0.0134 - acc: 0.9851 - val_loss: 0.1363 - val_binary_crossentropy: 0.1363 - val_mean_squared_error: 0.0137 - val_acc: 0.9847\n",
      "Epoch 24/100\n",
      "50000/50000 [==============================] - 10s - loss: 0.1328 - binary_crossentropy: 0.1328 - mean_squared_error: 0.0132 - acc: 0.9853 - val_loss: 0.1344 - val_binary_crossentropy: 0.1344 - val_mean_squared_error: 0.0136 - val_acc: 0.9849\n",
      "Epoch 25/100\n",
      "50000/50000 [==============================] - 10s - loss: 0.1299 - binary_crossentropy: 0.1299 - mean_squared_error: 0.0131 - acc: 0.9855 - val_loss: 0.1308 - val_binary_crossentropy: 0.1308 - val_mean_squared_error: 0.0134 - val_acc: 0.9851\n",
      "Epoch 26/100\n",
      "50000/50000 [==============================] - 10s - loss: 0.1265 - binary_crossentropy: 0.1265 - mean_squared_error: 0.0130 - acc: 0.9856 - val_loss: 0.1274 - val_binary_crossentropy: 0.1274 - val_mean_squared_error: 0.0133 - val_acc: 0.9852\n",
      "Epoch 27/100\n",
      "50000/50000 [==============================] - 10s - loss: 0.1228 - binary_crossentropy: 0.1228 - mean_squared_error: 0.0129 - acc: 0.9857 - val_loss: 0.1244 - val_binary_crossentropy: 0.1244 - val_mean_squared_error: 0.0133 - val_acc: 0.9853\n",
      "Epoch 28/100\n",
      "50000/50000 [==============================] - 10s - loss: 0.1191 - binary_crossentropy: 0.1191 - mean_squared_error: 0.0127 - acc: 0.9859 - val_loss: 0.1205 - val_binary_crossentropy: 0.1205 - val_mean_squared_error: 0.0130 - val_acc: 0.9855\n",
      "Epoch 29/100\n",
      "50000/50000 [==============================] - 10s - loss: 0.1153 - binary_crossentropy: 0.1153 - mean_squared_error: 0.0126 - acc: 0.9861 - val_loss: 0.1159 - val_binary_crossentropy: 0.1159 - val_mean_squared_error: 0.0129 - val_acc: 0.9857\n",
      "Epoch 30/100\n",
      "50000/50000 [==============================] - 10s - loss: 0.1108 - binary_crossentropy: 0.1108 - mean_squared_error: 0.0124 - acc: 0.9862 - val_loss: 0.1126 - val_binary_crossentropy: 0.1126 - val_mean_squared_error: 0.0128 - val_acc: 0.9857\n",
      "Epoch 31/100\n",
      "50000/50000 [==============================] - 10s - loss: 0.1075 - binary_crossentropy: 0.1075 - mean_squared_error: 0.0122 - acc: 0.9865 - val_loss: 0.1098 - val_binary_crossentropy: 0.1098 - val_mean_squared_error: 0.0127 - val_acc: 0.9859\n",
      "Epoch 32/100\n"
     ]
    },
    {
     "name": "stdout",
     "output_type": "stream",
     "text": [
      "50000/50000 [==============================] - 10s - loss: 0.1038 - binary_crossentropy: 0.1038 - mean_squared_error: 0.0121 - acc: 0.9866 - val_loss: 0.1058 - val_binary_crossentropy: 0.1058 - val_mean_squared_error: 0.0125 - val_acc: 0.9861\n",
      "Epoch 33/100\n",
      "50000/50000 [==============================] - 10s - loss: 0.0993 - binary_crossentropy: 0.0993 - mean_squared_error: 0.0119 - acc: 0.9868 - val_loss: 0.1016 - val_binary_crossentropy: 0.1016 - val_mean_squared_error: 0.0124 - val_acc: 0.9863\n",
      "Epoch 34/100\n",
      "50000/50000 [==============================] - 10s - loss: 0.0936 - binary_crossentropy: 0.0936 - mean_squared_error: 0.0118 - acc: 0.9869 - val_loss: 0.0950 - val_binary_crossentropy: 0.0950 - val_mean_squared_error: 0.0122 - val_acc: 0.9864\n",
      "Epoch 35/100\n",
      "50000/50000 [==============================] - 10s - loss: 0.0880 - binary_crossentropy: 0.0880 - mean_squared_error: 0.0116 - acc: 0.9871 - val_loss: 0.0898 - val_binary_crossentropy: 0.0898 - val_mean_squared_error: 0.0122 - val_acc: 0.9865\n",
      "Epoch 36/100\n",
      "50000/50000 [==============================] - 10s - loss: 0.0820 - binary_crossentropy: 0.0820 - mean_squared_error: 0.0114 - acc: 0.9873 - val_loss: 0.0842 - val_binary_crossentropy: 0.0842 - val_mean_squared_error: 0.0120 - val_acc: 0.9866\n",
      "Epoch 37/100\n",
      "50000/50000 [==============================] - 10s - loss: 0.0761 - binary_crossentropy: 0.0761 - mean_squared_error: 0.0113 - acc: 0.9875 - val_loss: 0.0785 - val_binary_crossentropy: 0.0785 - val_mean_squared_error: 0.0119 - val_acc: 0.9868\n",
      "Epoch 38/100\n",
      "50000/50000 [==============================] - 10s - loss: 0.0709 - binary_crossentropy: 0.0709 - mean_squared_error: 0.0110 - acc: 0.9877 - val_loss: 0.0739 - val_binary_crossentropy: 0.0739 - val_mean_squared_error: 0.0115 - val_acc: 0.9872\n",
      "Epoch 39/100\n",
      "50000/50000 [==============================] - 10s - loss: 0.0665 - binary_crossentropy: 0.0665 - mean_squared_error: 0.0108 - acc: 0.9880 - val_loss: 0.0697 - val_binary_crossentropy: 0.0697 - val_mean_squared_error: 0.0114 - val_acc: 0.9873\n",
      "Epoch 40/100\n",
      "50000/50000 [==============================] - 10s - loss: 0.0626 - binary_crossentropy: 0.0626 - mean_squared_error: 0.0106 - acc: 0.9882 - val_loss: 0.0664 - val_binary_crossentropy: 0.0664 - val_mean_squared_error: 0.0112 - val_acc: 0.9874\n",
      "Epoch 41/100\n",
      "50000/50000 [==============================] - 10s - loss: 0.0596 - binary_crossentropy: 0.0596 - mean_squared_error: 0.0104 - acc: 0.9884 - val_loss: 0.0647 - val_binary_crossentropy: 0.0647 - val_mean_squared_error: 0.0110 - val_acc: 0.9877\n",
      "Epoch 42/100\n",
      "50000/50000 [==============================] - 10s - loss: 0.0571 - binary_crossentropy: 0.0571 - mean_squared_error: 0.0102 - acc: 0.9887 - val_loss: 0.0625 - val_binary_crossentropy: 0.0625 - val_mean_squared_error: 0.0109 - val_acc: 0.9879\n",
      "Epoch 43/100\n",
      "50000/50000 [==============================] - 10s - loss: 0.0551 - binary_crossentropy: 0.0551 - mean_squared_error: 0.0100 - acc: 0.9889 - val_loss: 0.0608 - val_binary_crossentropy: 0.0608 - val_mean_squared_error: 0.0107 - val_acc: 0.9881\n",
      "Epoch 44/100\n",
      "50000/50000 [==============================] - 10s - loss: 0.0534 - binary_crossentropy: 0.0534 - mean_squared_error: 0.0099 - acc: 0.9890 - val_loss: 0.0596 - val_binary_crossentropy: 0.0596 - val_mean_squared_error: 0.0107 - val_acc: 0.9881\n",
      "Epoch 45/100\n",
      "50000/50000 [==============================] - 10s - loss: 0.0518 - binary_crossentropy: 0.0518 - mean_squared_error: 0.0097 - acc: 0.9892 - val_loss: 0.0581 - val_binary_crossentropy: 0.0581 - val_mean_squared_error: 0.0105 - val_acc: 0.9884\n",
      "Epoch 46/100\n",
      "50000/50000 [==============================] - 10s - loss: 0.0504 - binary_crossentropy: 0.0504 - mean_squared_error: 0.0096 - acc: 0.9894 - val_loss: 0.0567 - val_binary_crossentropy: 0.0567 - val_mean_squared_error: 0.0104 - val_acc: 0.9884\n",
      "Epoch 47/100\n",
      "50000/50000 [==============================] - 10s - loss: 0.0491 - binary_crossentropy: 0.0491 - mean_squared_error: 0.0094 - acc: 0.9895 - val_loss: 0.0558 - val_binary_crossentropy: 0.0558 - val_mean_squared_error: 0.0103 - val_acc: 0.9885\n",
      "Epoch 48/100\n",
      "50000/50000 [==============================] - 10s - loss: 0.0478 - binary_crossentropy: 0.0478 - mean_squared_error: 0.0093 - acc: 0.9897 - val_loss: 0.0553 - val_binary_crossentropy: 0.0553 - val_mean_squared_error: 0.0103 - val_acc: 0.9886\n",
      "Epoch 49/100\n",
      "50000/50000 [==============================] - 10s - loss: 0.0467 - binary_crossentropy: 0.0467 - mean_squared_error: 0.0092 - acc: 0.9898 - val_loss: 0.0542 - val_binary_crossentropy: 0.0542 - val_mean_squared_error: 0.0102 - val_acc: 0.9886\n",
      "Epoch 50/100\n",
      "50000/50000 [==============================] - 10s - loss: 0.0457 - binary_crossentropy: 0.0457 - mean_squared_error: 0.0090 - acc: 0.9900 - val_loss: 0.0534 - val_binary_crossentropy: 0.0534 - val_mean_squared_error: 0.0101 - val_acc: 0.9887\n",
      "Epoch 51/100\n",
      "50000/50000 [==============================] - 10s - loss: 0.0447 - binary_crossentropy: 0.0447 - mean_squared_error: 0.0089 - acc: 0.9900 - val_loss: 0.0529 - val_binary_crossentropy: 0.0529 - val_mean_squared_error: 0.0101 - val_acc: 0.9888\n",
      "Epoch 52/100\n",
      "50000/50000 [==============================] - 10s - loss: 0.0438 - binary_crossentropy: 0.0438 - mean_squared_error: 0.0088 - acc: 0.9902 - val_loss: 0.0520 - val_binary_crossentropy: 0.0520 - val_mean_squared_error: 0.0100 - val_acc: 0.9889\n",
      "Epoch 53/100\n",
      "50000/50000 [==============================] - 10s - loss: 0.0430 - binary_crossentropy: 0.0430 - mean_squared_error: 0.0087 - acc: 0.9903 - val_loss: 0.0512 - val_binary_crossentropy: 0.0512 - val_mean_squared_error: 0.0099 - val_acc: 0.9890\n",
      "Epoch 54/100\n",
      "50000/50000 [==============================] - 10s - loss: 0.0422 - binary_crossentropy: 0.0422 - mean_squared_error: 0.0086 - acc: 0.9904 - val_loss: 0.0508 - val_binary_crossentropy: 0.0508 - val_mean_squared_error: 0.0098 - val_acc: 0.9890\n",
      "Epoch 55/100\n",
      "50000/50000 [==============================] - 10s - loss: 0.0414 - binary_crossentropy: 0.0414 - mean_squared_error: 0.0085 - acc: 0.9905 - val_loss: 0.0503 - val_binary_crossentropy: 0.0503 - val_mean_squared_error: 0.0098 - val_acc: 0.9891\n",
      "Epoch 56/100\n",
      "50000/50000 [==============================] - 10s - loss: 0.0407 - binary_crossentropy: 0.0407 - mean_squared_error: 0.0084 - acc: 0.9906 - val_loss: 0.0497 - val_binary_crossentropy: 0.0497 - val_mean_squared_error: 0.0097 - val_acc: 0.9892\n",
      "Epoch 57/100\n",
      "50000/50000 [==============================] - 10s - loss: 0.0400 - binary_crossentropy: 0.0400 - mean_squared_error: 0.0083 - acc: 0.9907 - val_loss: 0.0494 - val_binary_crossentropy: 0.0494 - val_mean_squared_error: 0.0097 - val_acc: 0.9891\n",
      "Epoch 58/100\n",
      "50000/50000 [==============================] - 10s - loss: 0.0393 - binary_crossentropy: 0.0393 - mean_squared_error: 0.0082 - acc: 0.9907 - val_loss: 0.0488 - val_binary_crossentropy: 0.0488 - val_mean_squared_error: 0.0096 - val_acc: 0.9893\n",
      "Epoch 59/100\n",
      "50000/50000 [==============================] - 10s - loss: 0.0387 - binary_crossentropy: 0.0387 - mean_squared_error: 0.0081 - acc: 0.9908 - val_loss: 0.0483 - val_binary_crossentropy: 0.0483 - val_mean_squared_error: 0.0096 - val_acc: 0.9893\n",
      "Epoch 60/100\n",
      "50000/50000 [==============================] - 10s - loss: 0.0382 - binary_crossentropy: 0.0382 - mean_squared_error: 0.0081 - acc: 0.9909 - val_loss: 0.0480 - val_binary_crossentropy: 0.0480 - val_mean_squared_error: 0.0095 - val_acc: 0.9893\n",
      "Epoch 61/100\n",
      "50000/50000 [==============================] - 10s - loss: 0.0375 - binary_crossentropy: 0.0375 - mean_squared_error: 0.0080 - acc: 0.9910 - val_loss: 0.0473 - val_binary_crossentropy: 0.0473 - val_mean_squared_error: 0.0094 - val_acc: 0.9894\n",
      "Epoch 62/100\n",
      "50000/50000 [==============================] - 10s - loss: 0.0370 - binary_crossentropy: 0.0370 - mean_squared_error: 0.0079 - acc: 0.9911 - val_loss: 0.0474 - val_binary_crossentropy: 0.0474 - val_mean_squared_error: 0.0095 - val_acc: 0.9894\n",
      "Epoch 63/100\n",
      "50000/50000 [==============================] - 10s - loss: 0.0365 - binary_crossentropy: 0.0365 - mean_squared_error: 0.0078 - acc: 0.9912 - val_loss: 0.0469 - val_binary_crossentropy: 0.0469 - val_mean_squared_error: 0.0094 - val_acc: 0.9895\n",
      "Epoch 64/100\n"
     ]
    },
    {
     "name": "stdout",
     "output_type": "stream",
     "text": [
      "50000/50000 [==============================] - 10s - loss: 0.0359 - binary_crossentropy: 0.0359 - mean_squared_error: 0.0077 - acc: 0.9913 - val_loss: 0.0466 - val_binary_crossentropy: 0.0466 - val_mean_squared_error: 0.0094 - val_acc: 0.9894\n",
      "Epoch 65/100\n",
      "50000/50000 [==============================] - 10s - loss: 0.0355 - binary_crossentropy: 0.0355 - mean_squared_error: 0.0076 - acc: 0.9914 - val_loss: 0.0461 - val_binary_crossentropy: 0.0461 - val_mean_squared_error: 0.0093 - val_acc: 0.9896\n",
      "Epoch 66/100\n",
      "50000/50000 [==============================] - 10s - loss: 0.0350 - binary_crossentropy: 0.0350 - mean_squared_error: 0.0076 - acc: 0.9914 - val_loss: 0.0459 - val_binary_crossentropy: 0.0459 - val_mean_squared_error: 0.0093 - val_acc: 0.9896\n",
      "Epoch 67/100\n",
      "50000/50000 [==============================] - 10s - loss: 0.0345 - binary_crossentropy: 0.0345 - mean_squared_error: 0.0075 - acc: 0.9915 - val_loss: 0.0455 - val_binary_crossentropy: 0.0455 - val_mean_squared_error: 0.0093 - val_acc: 0.9896\n",
      "Epoch 68/100\n",
      "50000/50000 [==============================] - 10s - loss: 0.0340 - binary_crossentropy: 0.0340 - mean_squared_error: 0.0074 - acc: 0.9916 - val_loss: 0.0455 - val_binary_crossentropy: 0.0455 - val_mean_squared_error: 0.0092 - val_acc: 0.9896\n",
      "Epoch 69/100\n",
      "50000/50000 [==============================] - 10s - loss: 0.0336 - binary_crossentropy: 0.0336 - mean_squared_error: 0.0073 - acc: 0.9916 - val_loss: 0.0456 - val_binary_crossentropy: 0.0456 - val_mean_squared_error: 0.0093 - val_acc: 0.9896\n",
      "Epoch 70/100\n",
      "50000/50000 [==============================] - 10s - loss: 0.0332 - binary_crossentropy: 0.0332 - mean_squared_error: 0.0073 - acc: 0.9917 - val_loss: 0.0447 - val_binary_crossentropy: 0.0447 - val_mean_squared_error: 0.0092 - val_acc: 0.9896\n",
      "Epoch 71/100\n",
      "50000/50000 [==============================] - 10s - loss: 0.0327 - binary_crossentropy: 0.0327 - mean_squared_error: 0.0072 - acc: 0.9918 - val_loss: 0.0448 - val_binary_crossentropy: 0.0448 - val_mean_squared_error: 0.0092 - val_acc: 0.9897\n",
      "Epoch 72/100\n",
      "50000/50000 [==============================] - 10s - loss: 0.0324 - binary_crossentropy: 0.0324 - mean_squared_error: 0.0071 - acc: 0.9919 - val_loss: 0.0445 - val_binary_crossentropy: 0.0445 - val_mean_squared_error: 0.0091 - val_acc: 0.9897\n",
      "Epoch 73/100\n",
      "50000/50000 [==============================] - 10s - loss: 0.0320 - binary_crossentropy: 0.0320 - mean_squared_error: 0.0071 - acc: 0.9919 - val_loss: 0.0444 - val_binary_crossentropy: 0.0444 - val_mean_squared_error: 0.0091 - val_acc: 0.9897\n",
      "Epoch 74/100\n",
      "50000/50000 [==============================] - 10s - loss: 0.0316 - binary_crossentropy: 0.0316 - mean_squared_error: 0.0070 - acc: 0.9920 - val_loss: 0.0443 - val_binary_crossentropy: 0.0443 - val_mean_squared_error: 0.0091 - val_acc: 0.9898\n",
      "Epoch 75/100\n",
      "50000/50000 [==============================] - 10s - loss: 0.0312 - binary_crossentropy: 0.0312 - mean_squared_error: 0.0069 - acc: 0.9921 - val_loss: 0.0441 - val_binary_crossentropy: 0.0441 - val_mean_squared_error: 0.0091 - val_acc: 0.9898\n",
      "Epoch 76/100\n",
      "50000/50000 [==============================] - 10s - loss: 0.0309 - binary_crossentropy: 0.0309 - mean_squared_error: 0.0069 - acc: 0.9921 - val_loss: 0.0438 - val_binary_crossentropy: 0.0438 - val_mean_squared_error: 0.0090 - val_acc: 0.9899\n",
      "Epoch 77/100\n",
      "50000/50000 [==============================] - 10s - loss: 0.0305 - binary_crossentropy: 0.0305 - mean_squared_error: 0.0068 - acc: 0.9922 - val_loss: 0.0436 - val_binary_crossentropy: 0.0436 - val_mean_squared_error: 0.0090 - val_acc: 0.9898\n",
      "Epoch 78/100\n",
      "50000/50000 [==============================] - 10s - loss: 0.0301 - binary_crossentropy: 0.0301 - mean_squared_error: 0.0068 - acc: 0.9923 - val_loss: 0.0436 - val_binary_crossentropy: 0.0436 - val_mean_squared_error: 0.0090 - val_acc: 0.9898\n",
      "Epoch 79/100\n",
      "50000/50000 [==============================] - 10s - loss: 0.0298 - binary_crossentropy: 0.0298 - mean_squared_error: 0.0067 - acc: 0.9923 - val_loss: 0.0432 - val_binary_crossentropy: 0.0432 - val_mean_squared_error: 0.0090 - val_acc: 0.9898\n",
      "Epoch 80/100\n",
      "50000/50000 [==============================] - 10s - loss: 0.0294 - binary_crossentropy: 0.0294 - mean_squared_error: 0.0066 - acc: 0.9924 - val_loss: 0.0433 - val_binary_crossentropy: 0.0433 - val_mean_squared_error: 0.0090 - val_acc: 0.9899\n",
      "Epoch 81/100\n",
      "50000/50000 [==============================] - 10s - loss: 0.0291 - binary_crossentropy: 0.0291 - mean_squared_error: 0.0066 - acc: 0.9924 - val_loss: 0.0430 - val_binary_crossentropy: 0.0430 - val_mean_squared_error: 0.0089 - val_acc: 0.9899\n",
      "Epoch 82/100\n",
      "50000/50000 [==============================] - 10s - loss: 0.0288 - binary_crossentropy: 0.0288 - mean_squared_error: 0.0065 - acc: 0.9925 - val_loss: 0.0429 - val_binary_crossentropy: 0.0429 - val_mean_squared_error: 0.0089 - val_acc: 0.9899\n",
      "Epoch 83/100\n",
      "50000/50000 [==============================] - 10s - loss: 0.0284 - binary_crossentropy: 0.0284 - mean_squared_error: 0.0064 - acc: 0.9926 - val_loss: 0.0428 - val_binary_crossentropy: 0.0428 - val_mean_squared_error: 0.0089 - val_acc: 0.9899\n",
      "Epoch 84/100\n",
      "50000/50000 [==============================] - 10s - loss: 0.0281 - binary_crossentropy: 0.0281 - mean_squared_error: 0.0064 - acc: 0.9926 - val_loss: 0.0428 - val_binary_crossentropy: 0.0428 - val_mean_squared_error: 0.0089 - val_acc: 0.9899\n",
      "Epoch 85/100\n",
      "50000/50000 [==============================] - 10s - loss: 0.0279 - binary_crossentropy: 0.0279 - mean_squared_error: 0.0063 - acc: 0.9927 - val_loss: 0.0425 - val_binary_crossentropy: 0.0425 - val_mean_squared_error: 0.0088 - val_acc: 0.9900\n",
      "Epoch 86/100\n",
      "50000/50000 [==============================] - 10s - loss: 0.0275 - binary_crossentropy: 0.0275 - mean_squared_error: 0.0063 - acc: 0.9928 - val_loss: 0.0424 - val_binary_crossentropy: 0.0424 - val_mean_squared_error: 0.0088 - val_acc: 0.9899\n",
      "Epoch 87/100\n",
      "50000/50000 [==============================] - 10s - loss: 0.0272 - binary_crossentropy: 0.0272 - mean_squared_error: 0.0062 - acc: 0.9928 - val_loss: 0.0424 - val_binary_crossentropy: 0.0424 - val_mean_squared_error: 0.0088 - val_acc: 0.9899\n",
      "Epoch 88/100\n",
      "50000/50000 [==============================] - 10s - loss: 0.0269 - binary_crossentropy: 0.0269 - mean_squared_error: 0.0061 - acc: 0.9929 - val_loss: 0.0422 - val_binary_crossentropy: 0.0422 - val_mean_squared_error: 0.0088 - val_acc: 0.9900\n",
      "Epoch 89/100\n",
      "50000/50000 [==============================] - 10s - loss: 0.0266 - binary_crossentropy: 0.0266 - mean_squared_error: 0.0061 - acc: 0.9929 - val_loss: 0.0422 - val_binary_crossentropy: 0.0422 - val_mean_squared_error: 0.0088 - val_acc: 0.9900\n",
      "Epoch 90/100\n",
      "50000/50000 [==============================] - 10s - loss: 0.0264 - binary_crossentropy: 0.0264 - mean_squared_error: 0.0060 - acc: 0.9930 - val_loss: 0.0420 - val_binary_crossentropy: 0.0420 - val_mean_squared_error: 0.0088 - val_acc: 0.9900\n",
      "Epoch 91/100\n",
      "50000/50000 [==============================] - 10s - loss: 0.0261 - binary_crossentropy: 0.0261 - mean_squared_error: 0.0060 - acc: 0.9931 - val_loss: 0.0419 - val_binary_crossentropy: 0.0419 - val_mean_squared_error: 0.0088 - val_acc: 0.9901\n",
      "Epoch 92/100\n",
      "50000/50000 [==============================] - 10s - loss: 0.0258 - binary_crossentropy: 0.0258 - mean_squared_error: 0.0059 - acc: 0.9931 - val_loss: 0.0418 - val_binary_crossentropy: 0.0418 - val_mean_squared_error: 0.0088 - val_acc: 0.9901\n",
      "Epoch 93/100\n",
      "50000/50000 [==============================] - 10s - loss: 0.0255 - binary_crossentropy: 0.0255 - mean_squared_error: 0.0059 - acc: 0.9932 - val_loss: 0.0417 - val_binary_crossentropy: 0.0417 - val_mean_squared_error: 0.0087 - val_acc: 0.9900\n",
      "Epoch 94/100\n",
      "50000/50000 [==============================] - 10s - loss: 0.0252 - binary_crossentropy: 0.0252 - mean_squared_error: 0.0058 - acc: 0.9932 - val_loss: 0.0417 - val_binary_crossentropy: 0.0417 - val_mean_squared_error: 0.0087 - val_acc: 0.9901\n",
      "Epoch 95/100\n",
      "50000/50000 [==============================] - 10s - loss: 0.0250 - binary_crossentropy: 0.0250 - mean_squared_error: 0.0058 - acc: 0.9933 - val_loss: 0.0416 - val_binary_crossentropy: 0.0416 - val_mean_squared_error: 0.0087 - val_acc: 0.9900\n",
      "Epoch 96/100\n"
     ]
    },
    {
     "name": "stdout",
     "output_type": "stream",
     "text": [
      "50000/50000 [==============================] - 10s - loss: 0.0247 - binary_crossentropy: 0.0247 - mean_squared_error: 0.0057 - acc: 0.9934 - val_loss: 0.0418 - val_binary_crossentropy: 0.0418 - val_mean_squared_error: 0.0087 - val_acc: 0.9901\n",
      "Epoch 97/100\n",
      "50000/50000 [==============================] - 10s - loss: 0.0245 - binary_crossentropy: 0.0245 - mean_squared_error: 0.0056 - acc: 0.9934 - val_loss: 0.0414 - val_binary_crossentropy: 0.0414 - val_mean_squared_error: 0.0087 - val_acc: 0.9901\n",
      "Epoch 98/100\n",
      "50000/50000 [==============================] - 10s - loss: 0.0242 - binary_crossentropy: 0.0242 - mean_squared_error: 0.0056 - acc: 0.9935 - val_loss: 0.0414 - val_binary_crossentropy: 0.0414 - val_mean_squared_error: 0.0087 - val_acc: 0.9901\n",
      "Epoch 99/100\n",
      "50000/50000 [==============================] - 10s - loss: 0.0239 - binary_crossentropy: 0.0239 - mean_squared_error: 0.0055 - acc: 0.9935 - val_loss: 0.0413 - val_binary_crossentropy: 0.0413 - val_mean_squared_error: 0.0087 - val_acc: 0.9901\n",
      "Epoch 100/100\n",
      "50000/50000 [==============================] - 10s - loss: 0.0236 - binary_crossentropy: 0.0236 - mean_squared_error: 0.0055 - acc: 0.9936 - val_loss: 0.0412 - val_binary_crossentropy: 0.0412 - val_mean_squared_error: 0.0087 - val_acc: 0.9901\n"
     ]
    }
   ],
   "source": [
    "OPT = Adam(0.00001)\n",
    "classifier_ReLUBN.compile(loss='binary_crossentropy', optimizer=OPT, metrics=['binary_crossentropy', 'mse','acc'])\n",
    "hist_classifier_ReLUBN_Res = classifier_ReLUBN.fit(x_train,y_train, batch_size=64, epochs=100, validation_data=(x_test, y_test))"
   ]
  },
  {
   "cell_type": "code",
   "execution_count": 24,
   "metadata": {},
   "outputs": [
    {
     "data": {
      "text/plain": [
       "[<matplotlib.lines.Line2D at 0x7fdea450cb70>]"
      ]
     },
     "execution_count": 24,
     "metadata": {},
     "output_type": "execute_result"
    },
    {
     "data": {
      "image/png": "[encoded data removed]",
      "text/plain": [
       "<matplotlib.figure.Figure at 0x7fdea450cb38>"
      ]
     },
     "metadata": {},
     "output_type": "display_data"
    }
   ],
   "source": [
    "plt.plot(hist_classifier_ReLUBN_Res.history['loss'])\n",
    "plt.plot(hist_classifier_ReLUBN_Res.history['val_loss'])"
   ]
  },
  {
   "cell_type": "code",
   "execution_count": 25,
   "metadata": {},
   "outputs": [
    {
     "data": {
      "text/plain": [
       "[<matplotlib.lines.Line2D at 0x7fdea44b0160>]"
      ]
     },
     "execution_count": 25,
     "metadata": {},
     "output_type": "execute_result"
    },
    {
     "data": {
      "image/png": "[encoded data removed]",
      "text/plain": [
       "<matplotlib.figure.Figure at 0x7fdea44b0748>"
      ]
     },
     "metadata": {},
     "output_type": "display_data"
    }
   ],
   "source": [
    "plt.plot(hist_classifier_ReLUBN_Res.history['acc'])\n",
    "plt.plot(hist_classifier_ReLUBN_Res.history['val_acc'])"
   ]
  },
  {
   "cell_type": "markdown",
   "metadata": {},
   "source": [
    "#### Without Resdual Block"
   ]
  },
  {
   "cell_type": "code",
   "execution_count": 11,
   "metadata": {
    "scrolled": true
   },
   "outputs": [
    {
     "name": "stdout",
     "output_type": "stream",
     "text": [
      "_________________________________________________________________\n",
      "Layer (type)                 Output Shape              Param #   \n",
      "=================================================================\n",
      "input_3 (InputLayer)         (None, 32, 32, 3)         0         \n",
      "_________________________________________________________________\n",
      "conv2d_18 (Conv2D)           (None, 16, 16, 64)        1792      \n",
      "_________________________________________________________________\n",
      "max_pooling2d_2 (MaxPooling2 (None, 8, 8, 64)          0         \n",
      "_________________________________________________________________\n",
      "batch_normalization_15 (Batc (None, 8, 8, 64)          256       \n",
      "_________________________________________________________________\n",
      "activation_15 (Activation)   (None, 8, 8, 64)          0         \n",
      "_________________________________________________________________\n",
      "conv2d_19 (Conv2D)           (None, 8, 8, 64)          36928     \n",
      "_________________________________________________________________\n",
      "batch_normalization_16 (Batc (None, 8, 8, 64)          256       \n",
      "_________________________________________________________________\n",
      "activation_16 (Activation)   (None, 8, 8, 64)          0         \n",
      "_________________________________________________________________\n",
      "conv2d_20 (Conv2D)           (None, 8, 8, 64)          36928     \n",
      "_________________________________________________________________\n",
      "batch_normalization_17 (Batc (None, 8, 8, 64)          256       \n",
      "_________________________________________________________________\n",
      "activation_17 (Activation)   (None, 8, 8, 64)          0         \n",
      "_________________________________________________________________\n",
      "conv2d_21 (Conv2D)           (None, 8, 8, 64)          36928     \n",
      "_________________________________________________________________\n",
      "batch_normalization_18 (Batc (None, 8, 8, 64)          256       \n",
      "_________________________________________________________________\n",
      "activation_18 (Activation)   (None, 8, 8, 64)          0         \n",
      "_________________________________________________________________\n",
      "conv2d_22 (Conv2D)           (None, 8, 8, 64)          36928     \n",
      "_________________________________________________________________\n",
      "batch_normalization_19 (Batc (None, 8, 8, 64)          256       \n",
      "_________________________________________________________________\n",
      "activation_19 (Activation)   (None, 8, 8, 64)          0         \n",
      "_________________________________________________________________\n",
      "conv2d_23 (Conv2D)           (None, 8, 8, 64)          36928     \n",
      "_________________________________________________________________\n",
      "batch_normalization_20 (Batc (None, 8, 8, 64)          256       \n",
      "_________________________________________________________________\n",
      "activation_20 (Activation)   (None, 8, 8, 64)          0         \n",
      "_________________________________________________________________\n",
      "conv2d_24 (Conv2D)           (None, 8, 8, 64)          36928     \n",
      "_________________________________________________________________\n",
      "conv2d_25 (Conv2D)           (None, 4, 4, 128)         73856     \n",
      "_________________________________________________________________\n",
      "conv2d_26 (Conv2D)           (None, 4, 4, 128)         147584    \n",
      "_________________________________________________________________\n",
      "batch_normalization_21 (Batc (None, 4, 4, 128)         512       \n",
      "_________________________________________________________________\n",
      "activation_21 (Activation)   (None, 4, 4, 128)         0         \n",
      "_________________________________________________________________\n",
      "conv2d_27 (Conv2D)           (None, 4, 4, 128)         147584    \n",
      "_________________________________________________________________\n",
      "batch_normalization_22 (Batc (None, 4, 4, 128)         512       \n",
      "_________________________________________________________________\n",
      "activation_22 (Activation)   (None, 4, 4, 128)         0         \n",
      "_________________________________________________________________\n",
      "conv2d_28 (Conv2D)           (None, 4, 4, 128)         147584    \n",
      "_________________________________________________________________\n",
      "batch_normalization_23 (Batc (None, 4, 4, 128)         512       \n",
      "_________________________________________________________________\n",
      "activation_23 (Activation)   (None, 4, 4, 128)         0         \n",
      "_________________________________________________________________\n",
      "conv2d_29 (Conv2D)           (None, 4, 4, 128)         147584    \n",
      "_________________________________________________________________\n",
      "batch_normalization_24 (Batc (None, 4, 4, 128)         512       \n",
      "_________________________________________________________________\n",
      "activation_24 (Activation)   (None, 4, 4, 128)         0         \n",
      "_________________________________________________________________\n",
      "conv2d_30 (Conv2D)           (None, 4, 4, 128)         147584    \n",
      "_________________________________________________________________\n",
      "batch_normalization_25 (Batc (None, 4, 4, 128)         512       \n",
      "_________________________________________________________________\n",
      "activation_25 (Activation)   (None, 4, 4, 128)         0         \n",
      "_________________________________________________________________\n",
      "conv2d_31 (Conv2D)           (None, 4, 4, 128)         147584    \n",
      "_________________________________________________________________\n",
      "batch_normalization_26 (Batc (None, 4, 4, 128)         512       \n",
      "_________________________________________________________________\n",
      "activation_26 (Activation)   (None, 4, 4, 128)         0         \n",
      "_________________________________________________________________\n",
      "conv2d_32 (Conv2D)           (None, 4, 4, 128)         147584    \n",
      "_________________________________________________________________\n",
      "average_pooling2d_2 (Average (None, 2, 2, 128)         0         \n",
      "_________________________________________________________________\n",
      "flatten_2 (Flatten)          (None, 512)               0         \n",
      "_________________________________________________________________\n",
      "dense_2 (Dense)              (None, 100)               51300     \n",
      "=================================================================\n",
      "Total params: 1,386,212\n",
      "Trainable params: 1,383,908\n",
      "Non-trainable params: 2,304\n",
      "_________________________________________________________________\n"
     ]
    }
   ],
   "source": [
    "cl_in      = Input(shape=x_train.shape[1:])\n",
    "cl_conv_1  = Conv2D(64, 3, strides=2, activation='selu', padding='same', kernel_initializer='lecun_normal')(cl_in)\n",
    "cl_pl_1    = MaxPooling2D()(cl_conv_1)\n",
    "cl_res_1_1 = BatchNormalization()(cl_pl_1)\n",
    "cl_res_1_1 = Activation('relu')(cl_res_1_1)\n",
    "cl_res_1_1 = Conv2D(64, 3, strides=1, padding='same', kernel_initializer='lecun_normal')(cl_res_1_1)\n",
    "cl_res_1_2 = BatchNormalization()(cl_res_1_1)\n",
    "cl_res_1_2 = Activation('relu')(cl_res_1_2)\n",
    "cl_res_1_2 = Conv2D(64, 3, strides=1, padding='same', kernel_initializer='lecun_normal')(cl_res_1_2)\n",
    "cl_res_2_1 = BatchNormalization()(cl_res_1_2)\n",
    "cl_res_2_1 = Activation('relu')(cl_res_2_1)\n",
    "cl_res_2_1 = Conv2D(64, 3, strides=1, padding='same', kernel_initializer='lecun_normal')(cl_res_2_1)\n",
    "cl_res_2_2 = BatchNormalization()(cl_res_2_1)\n",
    "cl_res_2_2 = Activation('relu')(cl_res_2_2)\n",
    "cl_res_2_2 = Conv2D(64, 3, strides=1, padding='same', kernel_initializer='lecun_normal')(cl_res_2_2)\n",
    "cl_res_3_1 = BatchNormalization()(cl_res_2_2)\n",
    "cl_res_3_1 = Activation('relu')(cl_res_3_1)\n",
    "cl_res_3_1 = Conv2D(64, 3, strides=1, padding='same', kernel_initializer='lecun_normal')(cl_res_3_1)\n",
    "cl_res_3_2 = BatchNormalization()(cl_res_3_1)\n",
    "cl_res_3_2 = Activation('relu')(cl_res_3_2)\n",
    "cl_res_3_2 = Conv2D(64, 3, strides=1, padding='same', kernel_initializer='lecun_normal')(cl_res_3_2)\n",
    "cl_conv_2  = Conv2D(128, 3, strides=2, padding='same', kernel_initializer='lecun_normal')(cl_res_3_2)\n",
    "cl_conv_2  = Conv2D(128, 3, strides=1, padding='same', kernel_initializer='lecun_normal')(cl_conv_2)\n",
    "cl_res_4_1 = BatchNormalization()(cl_conv_2)\n",
    "cl_res_4_1 = Activation('relu')(cl_res_4_1)\n",
    "cl_res_4_1 = Conv2D(128, 3, strides=1, padding='same', kernel_initializer='lecun_normal')(cl_res_4_1)\n",
    "cl_res_4_2 = BatchNormalization()(cl_res_4_1)\n",
    "cl_res_4_2 = Activation('relu')(cl_res_4_2)\n",
    "cl_res_4_2 = Conv2D(128, 3, strides=1, padding='same', kernel_initializer='lecun_normal')(cl_res_4_2)\n",
    "cl_res_5_1 = BatchNormalization()(cl_res_4_2)\n",
    "cl_res_5_1 = Activation('relu')(cl_res_5_1)\n",
    "cl_res_5_1 = Conv2D(128, 3, strides=1, padding='same', kernel_initializer='lecun_normal')(cl_res_5_1)\n",
    "cl_res_5_2 = BatchNormalization()(cl_res_5_1)\n",
    "cl_res_5_2 = Activation('relu')(cl_res_5_2)\n",
    "cl_res_5_2 = Conv2D(128, 3, strides=1, padding='same', kernel_initializer='lecun_normal')(cl_res_5_2)\n",
    "cl_res_6_1 = BatchNormalization()(cl_res_5_2)\n",
    "cl_res_6_1 = Activation('relu')(cl_res_6_1)\n",
    "cl_res_6_1 = Conv2D(128, 3, strides=1, padding='same', kernel_initializer='lecun_normal')(cl_res_6_1)\n",
    "cl_res_6_2 = BatchNormalization()(cl_res_6_1)\n",
    "cl_res_6_2 = Activation('relu')(cl_res_6_2)\n",
    "cl_res_6_2 = Conv2D(128, 3, strides=1, padding='same', kernel_initializer='lecun_normal')(cl_res_6_2)\n",
    "cl_pl_2    = AveragePooling2D()(cl_res_6_2)\n",
    "cl_flatten = Flatten()(cl_pl_2)\n",
    "cl_fc100   = Dense(100, activation='softmax')(cl_flatten)\n",
    "classifier_ReLUBN_noRes = Model(cl_in, cl_fc100)\n",
    "plot_model(classifier_ReLUBN_noRes, 'classifier_ReLUBN_noRes.png', show_layer_names=False)\n",
    "classifier_ReLUBN_noRes.summary()"
   ]
  },
  {
   "cell_type": "code",
   "execution_count": 12,
   "metadata": {},
   "outputs": [
    {
     "name": "stdout",
     "output_type": "stream",
     "text": [
      "Train on 50000 samples, validate on 10000 samples\n",
      "Epoch 1/100\n",
      "50000/50000 [==============================] - 11s - loss: 0.0550 - binary_crossentropy: 0.0550 - mean_squared_error: 0.0099 - acc: 0.9900 - val_loss: 0.0536 - val_binary_crossentropy: 0.0536 - val_mean_squared_error: 0.0098 - val_acc: 0.9900\n",
      "Epoch 2/100\n",
      "50000/50000 [==============================] - 10s - loss: 0.0526 - binary_crossentropy: 0.0526 - mean_squared_error: 0.0098 - acc: 0.9900 - val_loss: 0.0514 - val_binary_crossentropy: 0.0514 - val_mean_squared_error: 0.0097 - val_acc: 0.9900\n",
      "Epoch 3/100\n",
      "50000/50000 [==============================] - 10s - loss: 0.0502 - binary_crossentropy: 0.0502 - mean_squared_error: 0.0096 - acc: 0.9900 - val_loss: 0.0491 - val_binary_crossentropy: 0.0491 - val_mean_squared_error: 0.0096 - val_acc: 0.9900\n",
      "Epoch 4/100\n",
      "50000/50000 [==============================] - 10s - loss: 0.0482 - binary_crossentropy: 0.0482 - mean_squared_error: 0.0095 - acc: 0.9900 - val_loss: 0.0476 - val_binary_crossentropy: 0.0476 - val_mean_squared_error: 0.0095 - val_acc: 0.9900\n",
      "Epoch 5/100\n",
      "50000/50000 [==============================] - 10s - loss: 0.0467 - binary_crossentropy: 0.0467 - mean_squared_error: 0.0094 - acc: 0.9901 - val_loss: 0.0464 - val_binary_crossentropy: 0.0464 - val_mean_squared_error: 0.0093 - val_acc: 0.9901\n",
      "Epoch 6/100\n",
      "50000/50000 [==============================] - 10s - loss: 0.0454 - binary_crossentropy: 0.0454 - mean_squared_error: 0.0093 - acc: 0.9901 - val_loss: 0.0455 - val_binary_crossentropy: 0.0455 - val_mean_squared_error: 0.0093 - val_acc: 0.9901\n",
      "Epoch 7/100\n",
      "50000/50000 [==============================] - 10s - loss: 0.0443 - binary_crossentropy: 0.0443 - mean_squared_error: 0.0092 - acc: 0.9901 - val_loss: 0.0446 - val_binary_crossentropy: 0.0446 - val_mean_squared_error: 0.0092 - val_acc: 0.9902\n",
      "Epoch 8/100\n",
      "50000/50000 [==============================] - 10s - loss: 0.0433 - binary_crossentropy: 0.0433 - mean_squared_error: 0.0091 - acc: 0.9902 - val_loss: 0.0440 - val_binary_crossentropy: 0.0440 - val_mean_squared_error: 0.0091 - val_acc: 0.9902\n",
      "Epoch 9/100\n",
      "50000/50000 [==============================] - 10s - loss: 0.0424 - binary_crossentropy: 0.0424 - mean_squared_error: 0.0089 - acc: 0.9903 - val_loss: 0.0434 - val_binary_crossentropy: 0.0434 - val_mean_squared_error: 0.0090 - val_acc: 0.9903\n",
      "Epoch 10/100\n",
      "50000/50000 [==============================] - 10s - loss: 0.0415 - binary_crossentropy: 0.0415 - mean_squared_error: 0.0088 - acc: 0.9903 - val_loss: 0.0429 - val_binary_crossentropy: 0.0429 - val_mean_squared_error: 0.0090 - val_acc: 0.9903\n",
      "Epoch 11/100\n",
      "50000/50000 [==============================] - 10s - loss: 0.0406 - binary_crossentropy: 0.0406 - mean_squared_error: 0.0087 - acc: 0.9904 - val_loss: 0.0425 - val_binary_crossentropy: 0.0425 - val_mean_squared_error: 0.0089 - val_acc: 0.9903\n",
      "Epoch 12/100\n",
      "50000/50000 [==============================] - 10s - loss: 0.0398 - binary_crossentropy: 0.0398 - mean_squared_error: 0.0086 - acc: 0.9905 - val_loss: 0.0421 - val_binary_crossentropy: 0.0421 - val_mean_squared_error: 0.0089 - val_acc: 0.9903\n",
      "Epoch 13/100\n",
      "50000/50000 [==============================] - 10s - loss: 0.0391 - binary_crossentropy: 0.0391 - mean_squared_error: 0.0085 - acc: 0.9905 - val_loss: 0.0418 - val_binary_crossentropy: 0.0418 - val_mean_squared_error: 0.0088 - val_acc: 0.9904\n",
      "Epoch 14/100\n",
      "50000/50000 [==============================] - 10s - loss: 0.0383 - binary_crossentropy: 0.0383 - mean_squared_error: 0.0084 - acc: 0.9906 - val_loss: 0.0416 - val_binary_crossentropy: 0.0416 - val_mean_squared_error: 0.0088 - val_acc: 0.9904\n",
      "Epoch 15/100\n",
      "50000/50000 [==============================] - 10s - loss: 0.0376 - binary_crossentropy: 0.0376 - mean_squared_error: 0.0083 - acc: 0.9907 - val_loss: 0.0414 - val_binary_crossentropy: 0.0414 - val_mean_squared_error: 0.0088 - val_acc: 0.9904\n",
      "Epoch 16/100\n",
      "50000/50000 [==============================] - 10s - loss: 0.0369 - binary_crossentropy: 0.0369 - mean_squared_error: 0.0082 - acc: 0.9908 - val_loss: 0.0412 - val_binary_crossentropy: 0.0412 - val_mean_squared_error: 0.0088 - val_acc: 0.9904\n",
      "Epoch 17/100\n",
      "50000/50000 [==============================] - 10s - loss: 0.0363 - binary_crossentropy: 0.0363 - mean_squared_error: 0.0081 - acc: 0.9908 - val_loss: 0.0411 - val_binary_crossentropy: 0.0411 - val_mean_squared_error: 0.0087 - val_acc: 0.9904\n",
      "Epoch 18/100\n",
      "50000/50000 [==============================] - 10s - loss: 0.0355 - binary_crossentropy: 0.0355 - mean_squared_error: 0.0080 - acc: 0.9909 - val_loss: 0.0410 - val_binary_crossentropy: 0.0410 - val_mean_squared_error: 0.0087 - val_acc: 0.9904\n",
      "Epoch 19/100\n",
      "50000/50000 [==============================] - 10s - loss: 0.0349 - binary_crossentropy: 0.0349 - mean_squared_error: 0.0079 - acc: 0.9910 - val_loss: 0.0409 - val_binary_crossentropy: 0.0409 - val_mean_squared_error: 0.0087 - val_acc: 0.9904\n",
      "Epoch 20/100\n",
      "50000/50000 [==============================] - 10s - loss: 0.0342 - binary_crossentropy: 0.0342 - mean_squared_error: 0.0078 - acc: 0.9911 - val_loss: 0.0409 - val_binary_crossentropy: 0.0409 - val_mean_squared_error: 0.0087 - val_acc: 0.9904\n",
      "Epoch 21/100\n",
      "50000/50000 [==============================] - 10s - loss: 0.0336 - binary_crossentropy: 0.0336 - mean_squared_error: 0.0076 - acc: 0.9912 - val_loss: 0.0408 - val_binary_crossentropy: 0.0408 - val_mean_squared_error: 0.0087 - val_acc: 0.9905\n",
      "Epoch 22/100\n",
      "50000/50000 [==============================] - 10s - loss: 0.0330 - binary_crossentropy: 0.0330 - mean_squared_error: 0.0075 - acc: 0.9913 - val_loss: 0.0409 - val_binary_crossentropy: 0.0409 - val_mean_squared_error: 0.0087 - val_acc: 0.9904\n",
      "Epoch 23/100\n",
      "50000/50000 [==============================] - 10s - loss: 0.0323 - binary_crossentropy: 0.0323 - mean_squared_error: 0.0074 - acc: 0.9914 - val_loss: 0.0410 - val_binary_crossentropy: 0.0410 - val_mean_squared_error: 0.0087 - val_acc: 0.9904\n",
      "Epoch 24/100\n",
      "50000/50000 [==============================] - 10s - loss: 0.0317 - binary_crossentropy: 0.0317 - mean_squared_error: 0.0073 - acc: 0.9915 - val_loss: 0.0409 - val_binary_crossentropy: 0.0409 - val_mean_squared_error: 0.0087 - val_acc: 0.9904\n",
      "Epoch 25/100\n",
      "50000/50000 [==============================] - 10s - loss: 0.0311 - binary_crossentropy: 0.0311 - mean_squared_error: 0.0072 - acc: 0.9916 - val_loss: 0.0411 - val_binary_crossentropy: 0.0411 - val_mean_squared_error: 0.0087 - val_acc: 0.9904\n",
      "Epoch 26/100\n",
      "50000/50000 [==============================] - 10s - loss: 0.0304 - binary_crossentropy: 0.0304 - mean_squared_error: 0.0071 - acc: 0.9917 - val_loss: 0.0413 - val_binary_crossentropy: 0.0413 - val_mean_squared_error: 0.0087 - val_acc: 0.9904\n",
      "Epoch 27/100\n",
      "50000/50000 [==============================] - 10s - loss: 0.0298 - binary_crossentropy: 0.0298 - mean_squared_error: 0.0070 - acc: 0.9918 - val_loss: 0.0413 - val_binary_crossentropy: 0.0413 - val_mean_squared_error: 0.0087 - val_acc: 0.9904\n",
      "Epoch 28/100\n",
      "50000/50000 [==============================] - 10s - loss: 0.0292 - binary_crossentropy: 0.0292 - mean_squared_error: 0.0068 - acc: 0.9919 - val_loss: 0.0415 - val_binary_crossentropy: 0.0415 - val_mean_squared_error: 0.0088 - val_acc: 0.9903\n",
      "Epoch 29/100\n",
      "50000/50000 [==============================] - 10s - loss: 0.0285 - binary_crossentropy: 0.0285 - mean_squared_error: 0.0067 - acc: 0.9921 - val_loss: 0.0416 - val_binary_crossentropy: 0.0416 - val_mean_squared_error: 0.0088 - val_acc: 0.9903\n",
      "Epoch 30/100\n",
      "50000/50000 [==============================] - 10s - loss: 0.0278 - binary_crossentropy: 0.0278 - mean_squared_error: 0.0066 - acc: 0.9922 - val_loss: 0.0419 - val_binary_crossentropy: 0.0419 - val_mean_squared_error: 0.0088 - val_acc: 0.9903\n",
      "Epoch 31/100\n",
      "50000/50000 [==============================] - 10s - loss: 0.0272 - binary_crossentropy: 0.0272 - mean_squared_error: 0.0064 - acc: 0.9923 - val_loss: 0.0422 - val_binary_crossentropy: 0.0422 - val_mean_squared_error: 0.0088 - val_acc: 0.9903\n",
      "Epoch 32/100\n"
     ]
    },
    {
     "name": "stdout",
     "output_type": "stream",
     "text": [
      "50000/50000 [==============================] - 10s - loss: 0.0266 - binary_crossentropy: 0.0266 - mean_squared_error: 0.0063 - acc: 0.9925 - val_loss: 0.0425 - val_binary_crossentropy: 0.0425 - val_mean_squared_error: 0.0089 - val_acc: 0.9902\n",
      "Epoch 33/100\n",
      "50000/50000 [==============================] - 10s - loss: 0.0260 - binary_crossentropy: 0.0260 - mean_squared_error: 0.0062 - acc: 0.9926 - val_loss: 0.0428 - val_binary_crossentropy: 0.0428 - val_mean_squared_error: 0.0089 - val_acc: 0.9902\n",
      "Epoch 34/100\n",
      "50000/50000 [==============================] - 10s - loss: 0.0254 - binary_crossentropy: 0.0254 - mean_squared_error: 0.0061 - acc: 0.9927 - val_loss: 0.0431 - val_binary_crossentropy: 0.0431 - val_mean_squared_error: 0.0090 - val_acc: 0.9901\n",
      "Epoch 35/100\n",
      "50000/50000 [==============================] - 10s - loss: 0.0248 - binary_crossentropy: 0.0248 - mean_squared_error: 0.0059 - acc: 0.9928 - val_loss: 0.0434 - val_binary_crossentropy: 0.0434 - val_mean_squared_error: 0.0090 - val_acc: 0.9901\n",
      "Epoch 36/100\n",
      "50000/50000 [==============================] - 10s - loss: 0.0241 - binary_crossentropy: 0.0241 - mean_squared_error: 0.0058 - acc: 0.9930 - val_loss: 0.0436 - val_binary_crossentropy: 0.0436 - val_mean_squared_error: 0.0090 - val_acc: 0.9901\n",
      "Epoch 37/100\n",
      "50000/50000 [==============================] - 10s - loss: 0.0236 - binary_crossentropy: 0.0236 - mean_squared_error: 0.0057 - acc: 0.9931 - val_loss: 0.0443 - val_binary_crossentropy: 0.0443 - val_mean_squared_error: 0.0091 - val_acc: 0.9900\n",
      "Epoch 38/100\n",
      "50000/50000 [==============================] - 10s - loss: 0.0230 - binary_crossentropy: 0.0230 - mean_squared_error: 0.0056 - acc: 0.9933 - val_loss: 0.0445 - val_binary_crossentropy: 0.0445 - val_mean_squared_error: 0.0091 - val_acc: 0.9900\n",
      "Epoch 39/100\n",
      "50000/50000 [==============================] - 10s - loss: 0.0224 - binary_crossentropy: 0.0224 - mean_squared_error: 0.0054 - acc: 0.9934 - val_loss: 0.0448 - val_binary_crossentropy: 0.0448 - val_mean_squared_error: 0.0091 - val_acc: 0.9899\n",
      "Epoch 40/100\n",
      "50000/50000 [==============================] - 10s - loss: 0.0218 - binary_crossentropy: 0.0218 - mean_squared_error: 0.0053 - acc: 0.9936 - val_loss: 0.0453 - val_binary_crossentropy: 0.0453 - val_mean_squared_error: 0.0092 - val_acc: 0.9898\n",
      "Epoch 41/100\n",
      "50000/50000 [==============================] - 10s - loss: 0.0212 - binary_crossentropy: 0.0212 - mean_squared_error: 0.0052 - acc: 0.9937 - val_loss: 0.0456 - val_binary_crossentropy: 0.0456 - val_mean_squared_error: 0.0092 - val_acc: 0.9898\n",
      "Epoch 42/100\n",
      "50000/50000 [==============================] - 10s - loss: 0.0206 - binary_crossentropy: 0.0206 - mean_squared_error: 0.0050 - acc: 0.9938 - val_loss: 0.0464 - val_binary_crossentropy: 0.0464 - val_mean_squared_error: 0.0093 - val_acc: 0.9897\n",
      "Epoch 43/100\n",
      "50000/50000 [==============================] - 10s - loss: 0.0201 - binary_crossentropy: 0.0201 - mean_squared_error: 0.0049 - acc: 0.9940 - val_loss: 0.0466 - val_binary_crossentropy: 0.0466 - val_mean_squared_error: 0.0093 - val_acc: 0.9896\n",
      "Epoch 44/100\n",
      "50000/50000 [==============================] - 10s - loss: 0.0195 - binary_crossentropy: 0.0195 - mean_squared_error: 0.0048 - acc: 0.9942 - val_loss: 0.0473 - val_binary_crossentropy: 0.0473 - val_mean_squared_error: 0.0094 - val_acc: 0.9896\n",
      "Epoch 45/100\n",
      "50000/50000 [==============================] - 10s - loss: 0.0190 - binary_crossentropy: 0.0190 - mean_squared_error: 0.0047 - acc: 0.9943 - val_loss: 0.0476 - val_binary_crossentropy: 0.0476 - val_mean_squared_error: 0.0095 - val_acc: 0.9895\n",
      "Epoch 46/100\n",
      "50000/50000 [==============================] - 10s - loss: 0.0185 - binary_crossentropy: 0.0185 - mean_squared_error: 0.0046 - acc: 0.9944 - val_loss: 0.0478 - val_binary_crossentropy: 0.0478 - val_mean_squared_error: 0.0095 - val_acc: 0.9894\n",
      "Epoch 47/100\n",
      "50000/50000 [==============================] - 10s - loss: 0.0179 - binary_crossentropy: 0.0179 - mean_squared_error: 0.0044 - acc: 0.9946 - val_loss: 0.0485 - val_binary_crossentropy: 0.0485 - val_mean_squared_error: 0.0096 - val_acc: 0.9894\n",
      "Epoch 48/100\n",
      "50000/50000 [==============================] - 10s - loss: 0.0173 - binary_crossentropy: 0.0173 - mean_squared_error: 0.0043 - acc: 0.9948 - val_loss: 0.0492 - val_binary_crossentropy: 0.0492 - val_mean_squared_error: 0.0096 - val_acc: 0.9893\n",
      "Epoch 49/100\n",
      "50000/50000 [==============================] - 10s - loss: 0.0168 - binary_crossentropy: 0.0168 - mean_squared_error: 0.0041 - acc: 0.9949 - val_loss: 0.0495 - val_binary_crossentropy: 0.0495 - val_mean_squared_error: 0.0096 - val_acc: 0.9893\n",
      "Epoch 50/100\n",
      "50000/50000 [==============================] - 10s - loss: 0.0163 - binary_crossentropy: 0.0163 - mean_squared_error: 0.0040 - acc: 0.9950 - val_loss: 0.0502 - val_binary_crossentropy: 0.0502 - val_mean_squared_error: 0.0097 - val_acc: 0.9891\n",
      "Epoch 51/100\n",
      "50000/50000 [==============================] - 10s - loss: 0.0159 - binary_crossentropy: 0.0159 - mean_squared_error: 0.0039 - acc: 0.9952 - val_loss: 0.0506 - val_binary_crossentropy: 0.0506 - val_mean_squared_error: 0.0098 - val_acc: 0.9891\n",
      "Epoch 52/100\n",
      "50000/50000 [==============================] - 10s - loss: 0.0153 - binary_crossentropy: 0.0153 - mean_squared_error: 0.0038 - acc: 0.9953 - val_loss: 0.0512 - val_binary_crossentropy: 0.0512 - val_mean_squared_error: 0.0098 - val_acc: 0.9890\n",
      "Epoch 53/100\n",
      "50000/50000 [==============================] - 10s - loss: 0.0147 - binary_crossentropy: 0.0147 - mean_squared_error: 0.0036 - acc: 0.9955 - val_loss: 0.0520 - val_binary_crossentropy: 0.0520 - val_mean_squared_error: 0.0099 - val_acc: 0.9889\n",
      "Epoch 54/100\n",
      "50000/50000 [==============================] - 10s - loss: 0.0144 - binary_crossentropy: 0.0144 - mean_squared_error: 0.0036 - acc: 0.9956 - val_loss: 0.0522 - val_binary_crossentropy: 0.0522 - val_mean_squared_error: 0.0099 - val_acc: 0.9889\n",
      "Epoch 55/100\n",
      "50000/50000 [==============================] - 10s - loss: 0.0139 - binary_crossentropy: 0.0139 - mean_squared_error: 0.0035 - acc: 0.9957 - val_loss: 0.0530 - val_binary_crossentropy: 0.0530 - val_mean_squared_error: 0.0100 - val_acc: 0.9888\n",
      "Epoch 56/100\n",
      "50000/50000 [==============================] - 10s - loss: 0.0135 - binary_crossentropy: 0.0135 - mean_squared_error: 0.0033 - acc: 0.9958 - val_loss: 0.0534 - val_binary_crossentropy: 0.0534 - val_mean_squared_error: 0.0100 - val_acc: 0.9888\n",
      "Epoch 57/100\n",
      "50000/50000 [==============================] - 10s - loss: 0.0130 - binary_crossentropy: 0.0130 - mean_squared_error: 0.0032 - acc: 0.9960 - val_loss: 0.0541 - val_binary_crossentropy: 0.0541 - val_mean_squared_error: 0.0101 - val_acc: 0.9887\n",
      "Epoch 58/100\n",
      "50000/50000 [==============================] - 10s - loss: 0.0126 - binary_crossentropy: 0.0126 - mean_squared_error: 0.0031 - acc: 0.9961 - val_loss: 0.0546 - val_binary_crossentropy: 0.0546 - val_mean_squared_error: 0.0101 - val_acc: 0.9887\n",
      "Epoch 59/100\n",
      "50000/50000 [==============================] - 10s - loss: 0.0122 - binary_crossentropy: 0.0122 - mean_squared_error: 0.0030 - acc: 0.9962 - val_loss: 0.0548 - val_binary_crossentropy: 0.0548 - val_mean_squared_error: 0.0102 - val_acc: 0.9885\n",
      "Epoch 60/100\n",
      "50000/50000 [==============================] - 10s - loss: 0.0117 - binary_crossentropy: 0.0117 - mean_squared_error: 0.0029 - acc: 0.9964 - val_loss: 0.0559 - val_binary_crossentropy: 0.0559 - val_mean_squared_error: 0.0103 - val_acc: 0.9884\n",
      "Epoch 61/100\n",
      "50000/50000 [==============================] - 10s - loss: 0.0114 - binary_crossentropy: 0.0114 - mean_squared_error: 0.0028 - acc: 0.9965 - val_loss: 0.0565 - val_binary_crossentropy: 0.0565 - val_mean_squared_error: 0.0103 - val_acc: 0.9883\n",
      "Epoch 62/100\n",
      "50000/50000 [==============================] - 10s - loss: 0.0109 - binary_crossentropy: 0.0109 - mean_squared_error: 0.0027 - acc: 0.9966 - val_loss: 0.0569 - val_binary_crossentropy: 0.0569 - val_mean_squared_error: 0.0103 - val_acc: 0.9883\n",
      "Epoch 63/100\n",
      "50000/50000 [==============================] - 10s - loss: 0.0106 - binary_crossentropy: 0.0106 - mean_squared_error: 0.0026 - acc: 0.9967 - val_loss: 0.0579 - val_binary_crossentropy: 0.0579 - val_mean_squared_error: 0.0105 - val_acc: 0.9881\n",
      "Epoch 64/100\n"
     ]
    },
    {
     "name": "stdout",
     "output_type": "stream",
     "text": [
      "50000/50000 [==============================] - 10s - loss: 0.0101 - binary_crossentropy: 0.0101 - mean_squared_error: 0.0025 - acc: 0.9969 - val_loss: 0.0582 - val_binary_crossentropy: 0.0582 - val_mean_squared_error: 0.0105 - val_acc: 0.9882\n",
      "Epoch 65/100\n",
      "50000/50000 [==============================] - 10s - loss: 0.0100 - binary_crossentropy: 0.0100 - mean_squared_error: 0.0025 - acc: 0.9970 - val_loss: 0.0592 - val_binary_crossentropy: 0.0592 - val_mean_squared_error: 0.0105 - val_acc: 0.9880\n",
      "Epoch 66/100\n",
      "50000/50000 [==============================] - 10s - loss: 0.0094 - binary_crossentropy: 0.0094 - mean_squared_error: 0.0023 - acc: 0.9971 - val_loss: 0.0593 - val_binary_crossentropy: 0.0593 - val_mean_squared_error: 0.0105 - val_acc: 0.9881\n",
      "Epoch 67/100\n",
      "50000/50000 [==============================] - 10s - loss: 0.0090 - binary_crossentropy: 0.0090 - mean_squared_error: 0.0022 - acc: 0.9972 - val_loss: 0.0603 - val_binary_crossentropy: 0.0603 - val_mean_squared_error: 0.0106 - val_acc: 0.9879\n",
      "Epoch 68/100\n",
      "50000/50000 [==============================] - 10s - loss: 0.0088 - binary_crossentropy: 0.0088 - mean_squared_error: 0.0022 - acc: 0.9973 - val_loss: 0.0607 - val_binary_crossentropy: 0.0607 - val_mean_squared_error: 0.0107 - val_acc: 0.9879\n",
      "Epoch 69/100\n",
      "50000/50000 [==============================] - 10s - loss: 0.0085 - binary_crossentropy: 0.0085 - mean_squared_error: 0.0021 - acc: 0.9974 - val_loss: 0.0613 - val_binary_crossentropy: 0.0613 - val_mean_squared_error: 0.0107 - val_acc: 0.9877\n",
      "Epoch 70/100\n",
      "50000/50000 [==============================] - 10s - loss: 0.0082 - binary_crossentropy: 0.0082 - mean_squared_error: 0.0020 - acc: 0.9975 - val_loss: 0.0618 - val_binary_crossentropy: 0.0618 - val_mean_squared_error: 0.0108 - val_acc: 0.9877\n",
      "Epoch 71/100\n",
      "50000/50000 [==============================] - 10s - loss: 0.0078 - binary_crossentropy: 0.0078 - mean_squared_error: 0.0019 - acc: 0.9976 - val_loss: 0.0627 - val_binary_crossentropy: 0.0627 - val_mean_squared_error: 0.0108 - val_acc: 0.9877\n",
      "Epoch 72/100\n",
      "50000/50000 [==============================] - 10s - loss: 0.0076 - binary_crossentropy: 0.0076 - mean_squared_error: 0.0019 - acc: 0.9977 - val_loss: 0.0629 - val_binary_crossentropy: 0.0629 - val_mean_squared_error: 0.0108 - val_acc: 0.9876\n",
      "Epoch 73/100\n",
      "50000/50000 [==============================] - 10s - loss: 0.0074 - binary_crossentropy: 0.0074 - mean_squared_error: 0.0018 - acc: 0.9978 - val_loss: 0.0643 - val_binary_crossentropy: 0.0643 - val_mean_squared_error: 0.0109 - val_acc: 0.9875\n",
      "Epoch 74/100\n",
      "50000/50000 [==============================] - 10s - loss: 0.0071 - binary_crossentropy: 0.0071 - mean_squared_error: 0.0017 - acc: 0.9979 - val_loss: 0.0642 - val_binary_crossentropy: 0.0642 - val_mean_squared_error: 0.0109 - val_acc: 0.9875\n",
      "Epoch 75/100\n",
      "50000/50000 [==============================] - 10s - loss: 0.0068 - binary_crossentropy: 0.0068 - mean_squared_error: 0.0017 - acc: 0.9979 - val_loss: 0.0649 - val_binary_crossentropy: 0.0649 - val_mean_squared_error: 0.0110 - val_acc: 0.9874\n",
      "Epoch 76/100\n",
      "50000/50000 [==============================] - 10s - loss: 0.0066 - binary_crossentropy: 0.0066 - mean_squared_error: 0.0016 - acc: 0.9980 - val_loss: 0.0657 - val_binary_crossentropy: 0.0657 - val_mean_squared_error: 0.0111 - val_acc: 0.9874\n",
      "Epoch 77/100\n",
      "50000/50000 [==============================] - 10s - loss: 0.0065 - binary_crossentropy: 0.0065 - mean_squared_error: 0.0016 - acc: 0.9980 - val_loss: 0.0656 - val_binary_crossentropy: 0.0656 - val_mean_squared_error: 0.0111 - val_acc: 0.9874\n",
      "Epoch 78/100\n",
      "50000/50000 [==============================] - 10s - loss: 0.0060 - binary_crossentropy: 0.0060 - mean_squared_error: 0.0015 - acc: 0.9982 - val_loss: 0.0662 - val_binary_crossentropy: 0.0662 - val_mean_squared_error: 0.0111 - val_acc: 0.9873\n",
      "Epoch 79/100\n",
      "50000/50000 [==============================] - 10s - loss: 0.0059 - binary_crossentropy: 0.0059 - mean_squared_error: 0.0014 - acc: 0.9982 - val_loss: 0.0673 - val_binary_crossentropy: 0.0673 - val_mean_squared_error: 0.0112 - val_acc: 0.9871\n",
      "Epoch 80/100\n",
      "50000/50000 [==============================] - 10s - loss: 0.0058 - binary_crossentropy: 0.0058 - mean_squared_error: 0.0014 - acc: 0.9983 - val_loss: 0.0676 - val_binary_crossentropy: 0.0676 - val_mean_squared_error: 0.0112 - val_acc: 0.9871\n",
      "Epoch 81/100\n",
      "50000/50000 [==============================] - 10s - loss: 0.0053 - binary_crossentropy: 0.0053 - mean_squared_error: 0.0013 - acc: 0.9984 - val_loss: 0.0679 - val_binary_crossentropy: 0.0679 - val_mean_squared_error: 0.0112 - val_acc: 0.9871\n",
      "Epoch 82/100\n",
      "50000/50000 [==============================] - 10s - loss: 0.0053 - binary_crossentropy: 0.0053 - mean_squared_error: 0.0013 - acc: 0.9984 - val_loss: 0.0683 - val_binary_crossentropy: 0.0683 - val_mean_squared_error: 0.0113 - val_acc: 0.9870\n",
      "Epoch 83/100\n",
      "50000/50000 [==============================] - 10s - loss: 0.0052 - binary_crossentropy: 0.0052 - mean_squared_error: 0.0013 - acc: 0.9984 - val_loss: 0.0687 - val_binary_crossentropy: 0.0687 - val_mean_squared_error: 0.0113 - val_acc: 0.9870\n",
      "Epoch 84/100\n",
      "50000/50000 [==============================] - 10s - loss: 0.0050 - binary_crossentropy: 0.0050 - mean_squared_error: 0.0012 - acc: 0.9985 - val_loss: 0.0696 - val_binary_crossentropy: 0.0696 - val_mean_squared_error: 0.0114 - val_acc: 0.9869\n",
      "Epoch 85/100\n",
      "50000/50000 [==============================] - 10s - loss: 0.0048 - binary_crossentropy: 0.0048 - mean_squared_error: 0.0012 - acc: 0.9986 - val_loss: 0.0698 - val_binary_crossentropy: 0.0698 - val_mean_squared_error: 0.0114 - val_acc: 0.9869\n",
      "Epoch 86/100\n",
      "50000/50000 [==============================] - 10s - loss: 0.0047 - binary_crossentropy: 0.0047 - mean_squared_error: 0.0011 - acc: 0.9986 - val_loss: 0.0705 - val_binary_crossentropy: 0.0705 - val_mean_squared_error: 0.0114 - val_acc: 0.9868\n",
      "Epoch 87/100\n",
      "50000/50000 [==============================] - 10s - loss: 0.0045 - binary_crossentropy: 0.0045 - mean_squared_error: 0.0011 - acc: 0.9987 - val_loss: 0.0707 - val_binary_crossentropy: 0.0707 - val_mean_squared_error: 0.0114 - val_acc: 0.9869\n",
      "Epoch 88/100\n",
      "50000/50000 [==============================] - 10s - loss: 0.0044 - binary_crossentropy: 0.0044 - mean_squared_error: 0.0011 - acc: 0.9987 - val_loss: 0.0708 - val_binary_crossentropy: 0.0708 - val_mean_squared_error: 0.0114 - val_acc: 0.9869\n",
      "Epoch 89/100\n",
      "50000/50000 [==============================] - 10s - loss: 0.0041 - binary_crossentropy: 0.0041 - mean_squared_error: 9.9123e-04 - acc: 0.9988 - val_loss: 0.0716 - val_binary_crossentropy: 0.0716 - val_mean_squared_error: 0.0115 - val_acc: 0.9868\n",
      "Epoch 90/100\n",
      "50000/50000 [==============================] - 10s - loss: 0.0041 - binary_crossentropy: 0.0041 - mean_squared_error: 9.9371e-04 - acc: 0.9988 - val_loss: 0.0721 - val_binary_crossentropy: 0.0721 - val_mean_squared_error: 0.0115 - val_acc: 0.9868\n",
      "Epoch 91/100\n",
      "50000/50000 [==============================] - 10s - loss: 0.0039 - binary_crossentropy: 0.0039 - mean_squared_error: 9.2392e-04 - acc: 0.9989 - val_loss: 0.0722 - val_binary_crossentropy: 0.0722 - val_mean_squared_error: 0.0115 - val_acc: 0.9867\n",
      "Epoch 92/100\n",
      "50000/50000 [==============================] - 10s - loss: 0.0039 - binary_crossentropy: 0.0039 - mean_squared_error: 9.3593e-04 - acc: 0.9989 - val_loss: 0.0732 - val_binary_crossentropy: 0.0732 - val_mean_squared_error: 0.0116 - val_acc: 0.9867\n",
      "Epoch 93/100\n",
      "50000/50000 [==============================] - 10s - loss: 0.0036 - binary_crossentropy: 0.0036 - mean_squared_error: 8.6954e-04 - acc: 0.9990 - val_loss: 0.0734 - val_binary_crossentropy: 0.0734 - val_mean_squared_error: 0.0116 - val_acc: 0.9867\n",
      "Epoch 94/100\n",
      "50000/50000 [==============================] - 10s - loss: 0.0036 - binary_crossentropy: 0.0036 - mean_squared_error: 8.7015e-04 - acc: 0.9990 - val_loss: 0.0737 - val_binary_crossentropy: 0.0737 - val_mean_squared_error: 0.0116 - val_acc: 0.9866\n",
      "Epoch 95/100\n"
     ]
    },
    {
     "name": "stdout",
     "output_type": "stream",
     "text": [
      "50000/50000 [==============================] - 10s - loss: 0.0035 - binary_crossentropy: 0.0035 - mean_squared_error: 8.2493e-04 - acc: 0.9990 - val_loss: 0.0740 - val_binary_crossentropy: 0.0740 - val_mean_squared_error: 0.0116 - val_acc: 0.9866\n",
      "Epoch 96/100\n",
      "50000/50000 [==============================] - 10s - loss: 0.0034 - binary_crossentropy: 0.0034 - mean_squared_error: 8.1724e-04 - acc: 0.9990 - val_loss: 0.0744 - val_binary_crossentropy: 0.0744 - val_mean_squared_error: 0.0117 - val_acc: 0.9865\n",
      "Epoch 97/100\n",
      "50000/50000 [==============================] - 10s - loss: 0.0034 - binary_crossentropy: 0.0034 - mean_squared_error: 8.0367e-04 - acc: 0.9990 - val_loss: 0.0750 - val_binary_crossentropy: 0.0750 - val_mean_squared_error: 0.0117 - val_acc: 0.9865\n",
      "Epoch 98/100\n",
      "50000/50000 [==============================] - 10s - loss: 0.0033 - binary_crossentropy: 0.0033 - mean_squared_error: 8.0052e-04 - acc: 0.9990 - val_loss: 0.0757 - val_binary_crossentropy: 0.0757 - val_mean_squared_error: 0.0117 - val_acc: 0.9865\n",
      "Epoch 99/100\n",
      "50000/50000 [==============================] - 10s - loss: 0.0032 - binary_crossentropy: 0.0032 - mean_squared_error: 7.5581e-04 - acc: 0.9991 - val_loss: 0.0756 - val_binary_crossentropy: 0.0756 - val_mean_squared_error: 0.0117 - val_acc: 0.9865\n",
      "Epoch 100/100\n",
      "50000/50000 [==============================] - 10s - loss: 0.0031 - binary_crossentropy: 0.0031 - mean_squared_error: 7.3198e-04 - acc: 0.9991 - val_loss: 0.0762 - val_binary_crossentropy: 0.0762 - val_mean_squared_error: 0.0118 - val_acc: 0.9864\n"
     ]
    }
   ],
   "source": [
    "OPT = Adam(0.00001)\n",
    "classifier_ReLUBN_noRes.compile(loss='binary_crossentropy', optimizer=OPT, metrics=['binary_crossentropy', 'mse','acc'])\n",
    "hist_classifier_ReLUBN_noRes = classifier_ReLUBN_noRes.fit(\n",
    "    x_train,y_train, batch_size=64, epochs=100, validation_data=(x_test, y_test))"
   ]
  },
  {
   "cell_type": "code",
   "execution_count": 26,
   "metadata": {},
   "outputs": [
    {
     "data": {
      "text/plain": [
       "[<matplotlib.lines.Line2D at 0x7fdea43cc6a0>]"
      ]
     },
     "execution_count": 26,
     "metadata": {},
     "output_type": "execute_result"
    },
    {
     "data": {
      "image/png": "[encoded data removed]",
      "text/plain": [
       "<matplotlib.figure.Figure at 0x7fdea43cc780>"
      ]
     },
     "metadata": {},
     "output_type": "display_data"
    }
   ],
   "source": [
    "plt.plot(hist_classifier_ReLUBN_noRes.history['loss'])\n",
    "plt.plot(hist_classifier_ReLUBN_noRes.history['val_loss'])"
   ]
  },
  {
   "cell_type": "code",
   "execution_count": 27,
   "metadata": {},
   "outputs": [
    {
     "data": {
      "text/plain": [
       "[<matplotlib.lines.Line2D at 0x7fdea43589e8>]"
      ]
     },
     "execution_count": 27,
     "metadata": {},
     "output_type": "execute_result"
    },
    {
     "data": {
      "image/png": "[encoded data removed]",
      "text/plain": [
       "<matplotlib.figure.Figure at 0x7fdea4358ac8>"
      ]
     },
     "metadata": {},
     "output_type": "display_data"
    }
   ],
   "source": [
    "plt.plot(hist_classifier_ReLUBN_noRes.history['acc'])\n",
    "plt.plot(hist_classifier_ReLUBN_noRes.history['val_acc'])"
   ]
  },
  {
   "cell_type": "markdown",
   "metadata": {
    "collapsed": true
   },
   "source": [
    "### SeLU version ResNet(No Batch Normalization)"
   ]
  },
  {
   "cell_type": "markdown",
   "metadata": {
    "collapsed": true
   },
   "source": [
    "##### With Resdual Block"
   ]
  },
  {
   "cell_type": "code",
   "execution_count": 13,
   "metadata": {
    "scrolled": true
   },
   "outputs": [
    {
     "name": "stdout",
     "output_type": "stream",
     "text": [
      "____________________________________________________________________________________________________\n",
      "Layer (type)                     Output Shape          Param #     Connected to                     \n",
      "====================================================================================================\n",
      "input_4 (InputLayer)             (None, 32, 32, 3)     0                                            \n",
      "____________________________________________________________________________________________________\n",
      "conv2d_33 (Conv2D)               (None, 16, 16, 64)    1792        input_4[0][0]                    \n",
      "____________________________________________________________________________________________________\n",
      "max_pooling2d_3 (MaxPooling2D)   (None, 8, 8, 64)      0           conv2d_33[0][0]                  \n",
      "____________________________________________________________________________________________________\n",
      "conv2d_34 (Conv2D)               (None, 8, 8, 64)      36928       max_pooling2d_3[0][0]            \n",
      "____________________________________________________________________________________________________\n",
      "conv2d_35 (Conv2D)               (None, 8, 8, 64)      36928       conv2d_34[0][0]                  \n",
      "____________________________________________________________________________________________________\n",
      "add_8 (Add)                      (None, 8, 8, 64)      0           max_pooling2d_3[0][0]            \n",
      "                                                                   conv2d_35[0][0]                  \n",
      "____________________________________________________________________________________________________\n",
      "conv2d_36 (Conv2D)               (None, 8, 8, 64)      36928       add_8[0][0]                      \n",
      "____________________________________________________________________________________________________\n",
      "conv2d_37 (Conv2D)               (None, 8, 8, 64)      36928       conv2d_36[0][0]                  \n",
      "____________________________________________________________________________________________________\n",
      "add_9 (Add)                      (None, 8, 8, 64)      0           add_8[0][0]                      \n",
      "                                                                   conv2d_37[0][0]                  \n",
      "____________________________________________________________________________________________________\n",
      "conv2d_38 (Conv2D)               (None, 8, 8, 64)      36928       add_9[0][0]                      \n",
      "____________________________________________________________________________________________________\n",
      "conv2d_39 (Conv2D)               (None, 8, 8, 64)      36928       conv2d_38[0][0]                  \n",
      "____________________________________________________________________________________________________\n",
      "add_10 (Add)                     (None, 8, 8, 64)      0           add_9[0][0]                      \n",
      "                                                                   conv2d_39[0][0]                  \n",
      "____________________________________________________________________________________________________\n",
      "conv2d_40 (Conv2D)               (None, 4, 4, 128)     73856       add_10[0][0]                     \n",
      "____________________________________________________________________________________________________\n",
      "conv2d_41 (Conv2D)               (None, 4, 4, 128)     147584      conv2d_40[0][0]                  \n",
      "____________________________________________________________________________________________________\n",
      "conv2d_42 (Conv2D)               (None, 4, 4, 128)     147584      conv2d_41[0][0]                  \n",
      "____________________________________________________________________________________________________\n",
      "conv2d_43 (Conv2D)               (None, 4, 4, 128)     147584      conv2d_42[0][0]                  \n",
      "____________________________________________________________________________________________________\n",
      "add_11 (Add)                     (None, 4, 4, 128)     0           conv2d_41[0][0]                  \n",
      "                                                                   conv2d_43[0][0]                  \n",
      "____________________________________________________________________________________________________\n",
      "conv2d_44 (Conv2D)               (None, 4, 4, 128)     147584      add_11[0][0]                     \n",
      "____________________________________________________________________________________________________\n",
      "conv2d_45 (Conv2D)               (None, 4, 4, 128)     147584      conv2d_44[0][0]                  \n",
      "____________________________________________________________________________________________________\n",
      "add_12 (Add)                     (None, 4, 4, 128)     0           add_11[0][0]                     \n",
      "                                                                   conv2d_45[0][0]                  \n",
      "____________________________________________________________________________________________________\n",
      "conv2d_46 (Conv2D)               (None, 4, 4, 128)     147584      add_12[0][0]                     \n",
      "____________________________________________________________________________________________________\n",
      "conv2d_47 (Conv2D)               (None, 4, 4, 128)     147584      conv2d_46[0][0]                  \n",
      "____________________________________________________________________________________________________\n",
      "add_13 (Add)                     (None, 4, 4, 128)     0           add_12[0][0]                     \n",
      "                                                                   conv2d_47[0][0]                  \n",
      "____________________________________________________________________________________________________\n",
      "average_pooling2d_3 (AveragePool (None, 2, 2, 128)     0           add_13[0][0]                     \n",
      "____________________________________________________________________________________________________\n",
      "flatten_3 (Flatten)              (None, 512)           0           average_pooling2d_3[0][0]        \n",
      "____________________________________________________________________________________________________\n",
      "dense_3 (Dense)                  (None, 100)           51300       flatten_3[0][0]                  \n",
      "====================================================================================================\n",
      "Total params: 1,381,604\n",
      "Trainable params: 1,381,604\n",
      "Non-trainable params: 0\n",
      "____________________________________________________________________________________________________\n"
     ]
    }
   ],
   "source": [
    "cl_in      = Input(shape=x_train.shape[1:])\n",
    "cl_conv_1  = Conv2D(64, 3, strides=2, activation='selu', padding='same', kernel_initializer='lecun_normal')(cl_in)\n",
    "cl_pl_1    = MaxPooling2D()(cl_conv_1)\n",
    "cl_res_1_1 = Conv2D(64, 3, strides=1, activation='selu', padding='same', kernel_initializer='lecun_normal')(cl_pl_1)\n",
    "cl_res_1_2 = Conv2D(64, 3, strides=1, activation='selu', padding='same', kernel_initializer='lecun_normal')(cl_res_1_1)\n",
    "cl_res_1_a = Add()([cl_pl_1, cl_res_1_2])\n",
    "cl_res_2_1 = Conv2D(64, 3, strides=1, activation='selu', padding='same', kernel_initializer='lecun_normal')(cl_res_1_a)\n",
    "cl_res_2_2 = Conv2D(64, 3, strides=1, activation='selu', padding='same', kernel_initializer='lecun_normal')(cl_res_2_1)\n",
    "cl_res_2_a = Add()([cl_res_1_a, cl_res_2_2])\n",
    "cl_res_3_1 = Conv2D(64, 3, strides=1, activation='selu', padding='same', kernel_initializer='lecun_normal')(cl_res_2_a)\n",
    "cl_res_3_2 = Conv2D(64, 3, strides=1, activation='selu', padding='same', kernel_initializer='lecun_normal')(cl_res_3_1)\n",
    "cl_res_3_a = Add()([cl_res_2_a, cl_res_3_2])\n",
    "cl_conv_2  = Conv2D(128, 3, strides=2, activation='selu', padding='same', kernel_initializer='lecun_normal')(cl_res_3_a)\n",
    "cl_conv_2  = Conv2D(128, 3, strides=1, activation='selu', padding='same', kernel_initializer='lecun_normal')(cl_conv_2)\n",
    "cl_res_4_1 = Conv2D(128, 3, strides=1, activation='selu', padding='same', kernel_initializer='lecun_normal')(cl_conv_2)\n",
    "cl_res_4_2 = Conv2D(128, 3, strides=1, activation='selu', padding='same', kernel_initializer='lecun_normal')(cl_res_4_1)\n",
    "cl_res_4_a = Add()([cl_conv_2, cl_res_4_2])\n",
    "cl_res_5_1 = Conv2D(128, 3, strides=1, activation='selu', padding='same', kernel_initializer='lecun_normal')(cl_res_4_a)\n",
    "cl_res_5_2 = Conv2D(128, 3, strides=1, activation='selu', padding='same', kernel_initializer='lecun_normal')(cl_res_5_1)\n",
    "cl_res_5_a = Add()([cl_res_4_a, cl_res_5_2])\n",
    "cl_res_6_1 = Conv2D(128, 3, strides=1, activation='selu', padding='same', kernel_initializer='lecun_normal')(cl_res_5_a)\n",
    "cl_res_6_2 = Conv2D(128, 3, strides=1, activation='selu', padding='same', kernel_initializer='lecun_normal')(cl_res_6_1)\n",
    "cl_res_6_a = Add()([cl_res_5_a, cl_res_6_2])\n",
    "cl_pl_2    = AveragePooling2D()(cl_res_6_a)\n",
    "cl_flatten = Flatten()(cl_pl_2)\n",
    "cl_fc100   = Dense(100, activation='softmax')(cl_flatten)\n",
    "classifier = Model(cl_in, cl_fc100)\n",
    "plot_model(classifier, 'resnet.png', show_layer_names=False)\n",
    "classifier.summary()"
   ]
  },
  {
   "cell_type": "code",
   "execution_count": 14,
   "metadata": {},
   "outputs": [
    {
     "name": "stdout",
     "output_type": "stream",
     "text": [
      "Train on 50000 samples, validate on 10000 samples\n",
      "Epoch 1/100\n",
      "50000/50000 [==============================] - 8s - loss: 0.2077 - binary_crossentropy: 0.2077 - mean_squared_error: 0.0184 - acc: 0.9802 - val_loss: 0.1946 - val_binary_crossentropy: 0.1946 - val_mean_squared_error: 0.0180 - val_acc: 0.9802\n",
      "Epoch 2/100\n",
      "50000/50000 [==============================] - 8s - loss: 0.1888 - binary_crossentropy: 0.1888 - mean_squared_error: 0.0176 - acc: 0.9802 - val_loss: 0.1848 - val_binary_crossentropy: 0.1848 - val_mean_squared_error: 0.0173 - val_acc: 0.9802\n",
      "Epoch 3/100\n",
      "50000/50000 [==============================] - 8s - loss: 0.1842 - binary_crossentropy: 0.1842 - mean_squared_error: 0.0173 - acc: 0.9802 - val_loss: 0.1823 - val_binary_crossentropy: 0.1823 - val_mean_squared_error: 0.0171 - val_acc: 0.9802\n",
      "Epoch 4/100\n",
      "50000/50000 [==============================] - 8s - loss: 0.1816 - binary_crossentropy: 0.1816 - mean_squared_error: 0.0170 - acc: 0.9802 - val_loss: 0.1802 - val_binary_crossentropy: 0.1802 - val_mean_squared_error: 0.0168 - val_acc: 0.9802\n",
      "Epoch 5/100\n",
      "50000/50000 [==============================] - 7s - loss: 0.1795 - binary_crossentropy: 0.1795 - mean_squared_error: 0.0167 - acc: 0.9802 - val_loss: 0.1794 - val_binary_crossentropy: 0.1794 - val_mean_squared_error: 0.0167 - val_acc: 0.9802\n",
      "Epoch 6/100\n",
      "50000/50000 [==============================] - 8s - loss: 0.1783 - binary_crossentropy: 0.1783 - mean_squared_error: 0.0165 - acc: 0.9802 - val_loss: 0.1782 - val_binary_crossentropy: 0.1782 - val_mean_squared_error: 0.0165 - val_acc: 0.9802\n",
      "Epoch 7/100\n",
      "50000/50000 [==============================] - 8s - loss: 0.1774 - binary_crossentropy: 0.1774 - mean_squared_error: 0.0164 - acc: 0.9802 - val_loss: 0.1772 - val_binary_crossentropy: 0.1772 - val_mean_squared_error: 0.0164 - val_acc: 0.9802\n",
      "Epoch 8/100\n",
      "50000/50000 [==============================] - 7s - loss: 0.1762 - binary_crossentropy: 0.1762 - mean_squared_error: 0.0162 - acc: 0.9803 - val_loss: 0.1760 - val_binary_crossentropy: 0.1760 - val_mean_squared_error: 0.0161 - val_acc: 0.9802\n",
      "Epoch 9/100\n",
      "50000/50000 [==============================] - 8s - loss: 0.1758 - binary_crossentropy: 0.1758 - mean_squared_error: 0.0161 - acc: 0.9803 - val_loss: 0.1767 - val_binary_crossentropy: 0.1767 - val_mean_squared_error: 0.0163 - val_acc: 0.9802\n",
      "Epoch 10/100\n",
      "50000/50000 [==============================] - 7s - loss: 0.1743 - binary_crossentropy: 0.1743 - mean_squared_error: 0.0158 - acc: 0.9805 - val_loss: 0.1751 - val_binary_crossentropy: 0.1751 - val_mean_squared_error: 0.0163 - val_acc: 0.9805\n",
      "Epoch 11/100\n",
      "50000/50000 [==============================] - 8s - loss: 0.1723 - binary_crossentropy: 0.1723 - mean_squared_error: 0.0156 - acc: 0.9810 - val_loss: 0.1729 - val_binary_crossentropy: 0.1729 - val_mean_squared_error: 0.0159 - val_acc: 0.9809\n",
      "Epoch 12/100\n",
      "50000/50000 [==============================] - 8s - loss: 0.1710 - binary_crossentropy: 0.1710 - mean_squared_error: 0.0153 - acc: 0.9815 - val_loss: 0.1709 - val_binary_crossentropy: 0.1709 - val_mean_squared_error: 0.0153 - val_acc: 0.9815\n",
      "Epoch 13/100\n",
      "50000/50000 [==============================] - 8s - loss: 0.1703 - binary_crossentropy: 0.1703 - mean_squared_error: 0.0151 - acc: 0.9819 - val_loss: 0.1705 - val_binary_crossentropy: 0.1705 - val_mean_squared_error: 0.0153 - val_acc: 0.9813\n",
      "Epoch 14/100\n",
      "50000/50000 [==============================] - 8s - loss: 0.1697 - binary_crossentropy: 0.1697 - mean_squared_error: 0.0149 - acc: 0.9823 - val_loss: 0.1699 - val_binary_crossentropy: 0.1699 - val_mean_squared_error: 0.0149 - val_acc: 0.9823\n",
      "Epoch 15/100\n",
      "50000/50000 [==============================] - 8s - loss: 0.1690 - binary_crossentropy: 0.1690 - mean_squared_error: 0.0146 - acc: 0.9829 - val_loss: 0.1683 - val_binary_crossentropy: 0.1683 - val_mean_squared_error: 0.0143 - val_acc: 0.9840\n",
      "Epoch 16/100\n",
      "50000/50000 [==============================] - 7s - loss: 0.1668 - binary_crossentropy: 0.1668 - mean_squared_error: 0.0143 - acc: 0.9838 - val_loss: 0.1653 - val_binary_crossentropy: 0.1653 - val_mean_squared_error: 0.0141 - val_acc: 0.9844\n",
      "Epoch 17/100\n",
      "50000/50000 [==============================] - 7s - loss: 0.1647 - binary_crossentropy: 0.1647 - mean_squared_error: 0.0139 - acc: 0.9846 - val_loss: 0.1646 - val_binary_crossentropy: 0.1646 - val_mean_squared_error: 0.0140 - val_acc: 0.9841\n",
      "Epoch 18/100\n",
      "50000/50000 [==============================] - 7s - loss: 0.1602 - binary_crossentropy: 0.1602 - mean_squared_error: 0.0135 - acc: 0.9855 - val_loss: 0.1550 - val_binary_crossentropy: 0.1550 - val_mean_squared_error: 0.0133 - val_acc: 0.9857\n",
      "Epoch 19/100\n",
      "50000/50000 [==============================] - 7s - loss: 0.1447 - binary_crossentropy: 0.1447 - mean_squared_error: 0.0128 - acc: 0.9865 - val_loss: 0.1307 - val_binary_crossentropy: 0.1307 - val_mean_squared_error: 0.0123 - val_acc: 0.9871\n",
      "Epoch 20/100\n",
      "50000/50000 [==============================] - 8s - loss: 0.0783 - binary_crossentropy: 0.0783 - mean_squared_error: 0.0108 - acc: 0.9891 - val_loss: 0.0572 - val_binary_crossentropy: 0.0572 - val_mean_squared_error: 0.0101 - val_acc: 0.9899\n",
      "Epoch 21/100\n",
      "50000/50000 [==============================] - 7s - loss: 0.0543 - binary_crossentropy: 0.0543 - mean_squared_error: 0.0099 - acc: 0.9899 - val_loss: 0.0525 - val_binary_crossentropy: 0.0525 - val_mean_squared_error: 0.0098 - val_acc: 0.9899\n",
      "Epoch 22/100\n",
      "50000/50000 [==============================] - 7s - loss: 0.0506 - binary_crossentropy: 0.0506 - mean_squared_error: 0.0097 - acc: 0.9900 - val_loss: 0.0501 - val_binary_crossentropy: 0.0501 - val_mean_squared_error: 0.0096 - val_acc: 0.9900\n",
      "Epoch 23/100\n",
      "50000/50000 [==============================] - 8s - loss: 0.0483 - binary_crossentropy: 0.0483 - mean_squared_error: 0.0095 - acc: 0.9900 - val_loss: 0.0483 - val_binary_crossentropy: 0.0483 - val_mean_squared_error: 0.0095 - val_acc: 0.9900\n",
      "Epoch 24/100\n",
      "50000/50000 [==============================] - 8s - loss: 0.0466 - binary_crossentropy: 0.0466 - mean_squared_error: 0.0093 - acc: 0.9901 - val_loss: 0.0472 - val_binary_crossentropy: 0.0472 - val_mean_squared_error: 0.0094 - val_acc: 0.9901\n",
      "Epoch 25/100\n",
      "50000/50000 [==============================] - 7s - loss: 0.0452 - binary_crossentropy: 0.0452 - mean_squared_error: 0.0092 - acc: 0.9902 - val_loss: 0.0459 - val_binary_crossentropy: 0.0459 - val_mean_squared_error: 0.0093 - val_acc: 0.9901\n",
      "Epoch 26/100\n",
      "50000/50000 [==============================] - 8s - loss: 0.0440 - binary_crossentropy: 0.0440 - mean_squared_error: 0.0091 - acc: 0.9902 - val_loss: 0.0452 - val_binary_crossentropy: 0.0452 - val_mean_squared_error: 0.0092 - val_acc: 0.9902\n",
      "Epoch 27/100\n",
      "50000/50000 [==============================] - 7s - loss: 0.0429 - binary_crossentropy: 0.0429 - mean_squared_error: 0.0089 - acc: 0.9903 - val_loss: 0.0444 - val_binary_crossentropy: 0.0444 - val_mean_squared_error: 0.0091 - val_acc: 0.9902\n",
      "Epoch 28/100\n",
      "50000/50000 [==============================] - 7s - loss: 0.0420 - binary_crossentropy: 0.0420 - mean_squared_error: 0.0088 - acc: 0.9904 - val_loss: 0.0438 - val_binary_crossentropy: 0.0438 - val_mean_squared_error: 0.0090 - val_acc: 0.9903\n",
      "Epoch 29/100\n",
      "50000/50000 [==============================] - 8s - loss: 0.0412 - binary_crossentropy: 0.0412 - mean_squared_error: 0.0087 - acc: 0.9904 - val_loss: 0.0433 - val_binary_crossentropy: 0.0433 - val_mean_squared_error: 0.0090 - val_acc: 0.9903\n",
      "Epoch 30/100\n",
      "50000/50000 [==============================] - 8s - loss: 0.0404 - binary_crossentropy: 0.0404 - mean_squared_error: 0.0086 - acc: 0.9905 - val_loss: 0.0428 - val_binary_crossentropy: 0.0428 - val_mean_squared_error: 0.0089 - val_acc: 0.9903\n",
      "Epoch 31/100\n",
      "50000/50000 [==============================] - 7s - loss: 0.0397 - binary_crossentropy: 0.0397 - mean_squared_error: 0.0085 - acc: 0.9906 - val_loss: 0.0424 - val_binary_crossentropy: 0.0424 - val_mean_squared_error: 0.0089 - val_acc: 0.9904\n",
      "Epoch 32/100\n"
     ]
    },
    {
     "name": "stdout",
     "output_type": "stream",
     "text": [
      "50000/50000 [==============================] - 7s - loss: 0.0389 - binary_crossentropy: 0.0389 - mean_squared_error: 0.0084 - acc: 0.9906 - val_loss: 0.0420 - val_binary_crossentropy: 0.0420 - val_mean_squared_error: 0.0088 - val_acc: 0.9904\n",
      "Epoch 33/100\n",
      "50000/50000 [==============================] - 8s - loss: 0.0383 - binary_crossentropy: 0.0383 - mean_squared_error: 0.0083 - acc: 0.9907 - val_loss: 0.0417 - val_binary_crossentropy: 0.0417 - val_mean_squared_error: 0.0088 - val_acc: 0.9904\n",
      "Epoch 34/100\n",
      "50000/50000 [==============================] - 8s - loss: 0.0377 - binary_crossentropy: 0.0377 - mean_squared_error: 0.0082 - acc: 0.9908 - val_loss: 0.0415 - val_binary_crossentropy: 0.0415 - val_mean_squared_error: 0.0087 - val_acc: 0.9904\n",
      "Epoch 35/100\n",
      "50000/50000 [==============================] - 8s - loss: 0.0371 - binary_crossentropy: 0.0371 - mean_squared_error: 0.0082 - acc: 0.9908 - val_loss: 0.0411 - val_binary_crossentropy: 0.0411 - val_mean_squared_error: 0.0087 - val_acc: 0.9904\n",
      "Epoch 36/100\n",
      "50000/50000 [==============================] - 7s - loss: 0.0366 - binary_crossentropy: 0.0366 - mean_squared_error: 0.0081 - acc: 0.9909 - val_loss: 0.0409 - val_binary_crossentropy: 0.0409 - val_mean_squared_error: 0.0087 - val_acc: 0.9904\n",
      "Epoch 37/100\n",
      "50000/50000 [==============================] - 8s - loss: 0.0361 - binary_crossentropy: 0.0361 - mean_squared_error: 0.0080 - acc: 0.9910 - val_loss: 0.0407 - val_binary_crossentropy: 0.0407 - val_mean_squared_error: 0.0087 - val_acc: 0.9905\n",
      "Epoch 38/100\n",
      "50000/50000 [==============================] - 8s - loss: 0.0356 - binary_crossentropy: 0.0356 - mean_squared_error: 0.0079 - acc: 0.9911 - val_loss: 0.0405 - val_binary_crossentropy: 0.0405 - val_mean_squared_error: 0.0086 - val_acc: 0.9904\n",
      "Epoch 39/100\n",
      "50000/50000 [==============================] - 8s - loss: 0.0351 - binary_crossentropy: 0.0351 - mean_squared_error: 0.0078 - acc: 0.9911 - val_loss: 0.0401 - val_binary_crossentropy: 0.0401 - val_mean_squared_error: 0.0086 - val_acc: 0.9905\n",
      "Epoch 40/100\n",
      "50000/50000 [==============================] - 7s - loss: 0.0346 - binary_crossentropy: 0.0346 - mean_squared_error: 0.0077 - acc: 0.9912 - val_loss: 0.0400 - val_binary_crossentropy: 0.0400 - val_mean_squared_error: 0.0086 - val_acc: 0.9906\n",
      "Epoch 41/100\n",
      "50000/50000 [==============================] - 7s - loss: 0.0342 - binary_crossentropy: 0.0342 - mean_squared_error: 0.0077 - acc: 0.9913 - val_loss: 0.0400 - val_binary_crossentropy: 0.0400 - val_mean_squared_error: 0.0086 - val_acc: 0.9905\n",
      "Epoch 42/100\n",
      "50000/50000 [==============================] - 7s - loss: 0.0337 - binary_crossentropy: 0.0337 - mean_squared_error: 0.0076 - acc: 0.9913 - val_loss: 0.0397 - val_binary_crossentropy: 0.0397 - val_mean_squared_error: 0.0085 - val_acc: 0.9905\n",
      "Epoch 43/100\n",
      "50000/50000 [==============================] - 8s - loss: 0.0333 - binary_crossentropy: 0.0333 - mean_squared_error: 0.0075 - acc: 0.9914 - val_loss: 0.0398 - val_binary_crossentropy: 0.0398 - val_mean_squared_error: 0.0085 - val_acc: 0.9905\n",
      "Epoch 44/100\n",
      "50000/50000 [==============================] - 7s - loss: 0.0329 - binary_crossentropy: 0.0329 - mean_squared_error: 0.0074 - acc: 0.9915 - val_loss: 0.0396 - val_binary_crossentropy: 0.0396 - val_mean_squared_error: 0.0085 - val_acc: 0.9905\n",
      "Epoch 45/100\n",
      "50000/50000 [==============================] - 8s - loss: 0.0325 - binary_crossentropy: 0.0325 - mean_squared_error: 0.0074 - acc: 0.9915 - val_loss: 0.0394 - val_binary_crossentropy: 0.0394 - val_mean_squared_error: 0.0085 - val_acc: 0.9905\n",
      "Epoch 46/100\n",
      "50000/50000 [==============================] - 7s - loss: 0.0321 - binary_crossentropy: 0.0321 - mean_squared_error: 0.0073 - acc: 0.9916 - val_loss: 0.0397 - val_binary_crossentropy: 0.0397 - val_mean_squared_error: 0.0085 - val_acc: 0.9905\n",
      "Epoch 47/100\n",
      "50000/50000 [==============================] - 8s - loss: 0.0317 - binary_crossentropy: 0.0317 - mean_squared_error: 0.0072 - acc: 0.9917 - val_loss: 0.0393 - val_binary_crossentropy: 0.0393 - val_mean_squared_error: 0.0085 - val_acc: 0.9905\n",
      "Epoch 48/100\n",
      "50000/50000 [==============================] - 7s - loss: 0.0313 - binary_crossentropy: 0.0313 - mean_squared_error: 0.0071 - acc: 0.9917 - val_loss: 0.0393 - val_binary_crossentropy: 0.0393 - val_mean_squared_error: 0.0085 - val_acc: 0.9905\n",
      "Epoch 49/100\n",
      "50000/50000 [==============================] - 7s - loss: 0.0309 - binary_crossentropy: 0.0309 - mean_squared_error: 0.0071 - acc: 0.9918 - val_loss: 0.0391 - val_binary_crossentropy: 0.0391 - val_mean_squared_error: 0.0084 - val_acc: 0.9906\n",
      "Epoch 50/100\n",
      "50000/50000 [==============================] - 8s - loss: 0.0306 - binary_crossentropy: 0.0306 - mean_squared_error: 0.0070 - acc: 0.9919 - val_loss: 0.0390 - val_binary_crossentropy: 0.0390 - val_mean_squared_error: 0.0084 - val_acc: 0.9905\n",
      "Epoch 51/100\n",
      "50000/50000 [==============================] - 7s - loss: 0.0302 - binary_crossentropy: 0.0302 - mean_squared_error: 0.0069 - acc: 0.9920 - val_loss: 0.0389 - val_binary_crossentropy: 0.0389 - val_mean_squared_error: 0.0084 - val_acc: 0.9906\n",
      "Epoch 52/100\n",
      "50000/50000 [==============================] - 7s - loss: 0.0299 - binary_crossentropy: 0.0299 - mean_squared_error: 0.0069 - acc: 0.9920 - val_loss: 0.0390 - val_binary_crossentropy: 0.0390 - val_mean_squared_error: 0.0084 - val_acc: 0.9905\n",
      "Epoch 53/100\n",
      "50000/50000 [==============================] - 8s - loss: 0.0295 - binary_crossentropy: 0.0295 - mean_squared_error: 0.0068 - acc: 0.9921 - val_loss: 0.0388 - val_binary_crossentropy: 0.0388 - val_mean_squared_error: 0.0084 - val_acc: 0.9905\n",
      "Epoch 54/100\n",
      "50000/50000 [==============================] - 7s - loss: 0.0291 - binary_crossentropy: 0.0291 - mean_squared_error: 0.0067 - acc: 0.9922 - val_loss: 0.0388 - val_binary_crossentropy: 0.0388 - val_mean_squared_error: 0.0084 - val_acc: 0.9906\n",
      "Epoch 55/100\n",
      "50000/50000 [==============================] - 7s - loss: 0.0288 - binary_crossentropy: 0.0288 - mean_squared_error: 0.0067 - acc: 0.9922 - val_loss: 0.0389 - val_binary_crossentropy: 0.0389 - val_mean_squared_error: 0.0084 - val_acc: 0.9905\n",
      "Epoch 56/100\n",
      "50000/50000 [==============================] - 7s - loss: 0.0285 - binary_crossentropy: 0.0285 - mean_squared_error: 0.0066 - acc: 0.9923 - val_loss: 0.0390 - val_binary_crossentropy: 0.0390 - val_mean_squared_error: 0.0084 - val_acc: 0.9905\n",
      "Epoch 57/100\n",
      "50000/50000 [==============================] - 8s - loss: 0.0281 - binary_crossentropy: 0.0281 - mean_squared_error: 0.0065 - acc: 0.9924 - val_loss: 0.0388 - val_binary_crossentropy: 0.0388 - val_mean_squared_error: 0.0084 - val_acc: 0.9905\n",
      "Epoch 58/100\n",
      "50000/50000 [==============================] - 7s - loss: 0.0278 - binary_crossentropy: 0.0278 - mean_squared_error: 0.0064 - acc: 0.9925 - val_loss: 0.0388 - val_binary_crossentropy: 0.0388 - val_mean_squared_error: 0.0084 - val_acc: 0.9905\n",
      "Epoch 59/100\n",
      "50000/50000 [==============================] - 8s - loss: 0.0275 - binary_crossentropy: 0.0275 - mean_squared_error: 0.0064 - acc: 0.9925 - val_loss: 0.0387 - val_binary_crossentropy: 0.0387 - val_mean_squared_error: 0.0084 - val_acc: 0.9905\n",
      "Epoch 60/100\n",
      "50000/50000 [==============================] - 7s - loss: 0.0271 - binary_crossentropy: 0.0271 - mean_squared_error: 0.0063 - acc: 0.9926 - val_loss: 0.0387 - val_binary_crossentropy: 0.0387 - val_mean_squared_error: 0.0084 - val_acc: 0.9905\n",
      "Epoch 61/100\n",
      "50000/50000 [==============================] - 8s - loss: 0.0268 - binary_crossentropy: 0.0268 - mean_squared_error: 0.0062 - acc: 0.9927 - val_loss: 0.0387 - val_binary_crossentropy: 0.0387 - val_mean_squared_error: 0.0084 - val_acc: 0.9905\n",
      "Epoch 62/100\n",
      "50000/50000 [==============================] - 8s - loss: 0.0265 - binary_crossentropy: 0.0265 - mean_squared_error: 0.0062 - acc: 0.9928 - val_loss: 0.0388 - val_binary_crossentropy: 0.0388 - val_mean_squared_error: 0.0084 - val_acc: 0.9905\n",
      "Epoch 63/100\n",
      "50000/50000 [==============================] - 7s - loss: 0.0262 - binary_crossentropy: 0.0262 - mean_squared_error: 0.0061 - acc: 0.9929 - val_loss: 0.0390 - val_binary_crossentropy: 0.0390 - val_mean_squared_error: 0.0084 - val_acc: 0.9904\n",
      "Epoch 64/100\n"
     ]
    },
    {
     "name": "stdout",
     "output_type": "stream",
     "text": [
      "50000/50000 [==============================] - 7s - loss: 0.0259 - binary_crossentropy: 0.0259 - mean_squared_error: 0.0060 - acc: 0.9929 - val_loss: 0.0390 - val_binary_crossentropy: 0.0390 - val_mean_squared_error: 0.0084 - val_acc: 0.9904\n",
      "Epoch 65/100\n",
      "50000/50000 [==============================] - 8s - loss: 0.0255 - binary_crossentropy: 0.0255 - mean_squared_error: 0.0060 - acc: 0.9930 - val_loss: 0.0390 - val_binary_crossentropy: 0.0390 - val_mean_squared_error: 0.0084 - val_acc: 0.9904\n",
      "Epoch 66/100\n",
      "50000/50000 [==============================] - 8s - loss: 0.0252 - binary_crossentropy: 0.0252 - mean_squared_error: 0.0059 - acc: 0.9931 - val_loss: 0.0387 - val_binary_crossentropy: 0.0387 - val_mean_squared_error: 0.0084 - val_acc: 0.9905\n",
      "Epoch 67/100\n",
      "50000/50000 [==============================] - 8s - loss: 0.0249 - binary_crossentropy: 0.0249 - mean_squared_error: 0.0058 - acc: 0.9932 - val_loss: 0.0388 - val_binary_crossentropy: 0.0388 - val_mean_squared_error: 0.0084 - val_acc: 0.9905\n",
      "Epoch 68/100\n",
      "50000/50000 [==============================] - 7s - loss: 0.0246 - binary_crossentropy: 0.0246 - mean_squared_error: 0.0058 - acc: 0.9932 - val_loss: 0.0388 - val_binary_crossentropy: 0.0388 - val_mean_squared_error: 0.0084 - val_acc: 0.9905\n",
      "Epoch 69/100\n",
      "50000/50000 [==============================] - 8s - loss: 0.0243 - binary_crossentropy: 0.0243 - mean_squared_error: 0.0057 - acc: 0.9933 - val_loss: 0.0389 - val_binary_crossentropy: 0.0389 - val_mean_squared_error: 0.0084 - val_acc: 0.9904\n",
      "Epoch 70/100\n",
      "50000/50000 [==============================] - 8s - loss: 0.0240 - binary_crossentropy: 0.0240 - mean_squared_error: 0.0056 - acc: 0.9934 - val_loss: 0.0390 - val_binary_crossentropy: 0.0390 - val_mean_squared_error: 0.0084 - val_acc: 0.9904\n",
      "Epoch 71/100\n",
      "50000/50000 [==============================] - 7s - loss: 0.0237 - binary_crossentropy: 0.0237 - mean_squared_error: 0.0056 - acc: 0.9935 - val_loss: 0.0391 - val_binary_crossentropy: 0.0391 - val_mean_squared_error: 0.0084 - val_acc: 0.9904\n",
      "Epoch 72/100\n",
      "50000/50000 [==============================] - 7s - loss: 0.0234 - binary_crossentropy: 0.0234 - mean_squared_error: 0.0055 - acc: 0.9935 - val_loss: 0.0392 - val_binary_crossentropy: 0.0392 - val_mean_squared_error: 0.0084 - val_acc: 0.9904\n",
      "Epoch 73/100\n",
      "50000/50000 [==============================] - 8s - loss: 0.0231 - binary_crossentropy: 0.0231 - mean_squared_error: 0.0054 - acc: 0.9936 - val_loss: 0.0391 - val_binary_crossentropy: 0.0391 - val_mean_squared_error: 0.0084 - val_acc: 0.9904\n",
      "Epoch 74/100\n",
      "50000/50000 [==============================] - 8s - loss: 0.0228 - binary_crossentropy: 0.0228 - mean_squared_error: 0.0054 - acc: 0.9937 - val_loss: 0.0393 - val_binary_crossentropy: 0.0393 - val_mean_squared_error: 0.0084 - val_acc: 0.9904\n",
      "Epoch 75/100\n",
      "50000/50000 [==============================] - 7s - loss: 0.0225 - binary_crossentropy: 0.0225 - mean_squared_error: 0.0053 - acc: 0.9938 - val_loss: 0.0393 - val_binary_crossentropy: 0.0393 - val_mean_squared_error: 0.0084 - val_acc: 0.9904\n",
      "Epoch 76/100\n",
      "50000/50000 [==============================] - 8s - loss: 0.0222 - binary_crossentropy: 0.0222 - mean_squared_error: 0.0052 - acc: 0.9939 - val_loss: 0.0392 - val_binary_crossentropy: 0.0392 - val_mean_squared_error: 0.0084 - val_acc: 0.9904\n",
      "Epoch 77/100\n",
      "50000/50000 [==============================] - 8s - loss: 0.0219 - binary_crossentropy: 0.0219 - mean_squared_error: 0.0052 - acc: 0.9939 - val_loss: 0.0395 - val_binary_crossentropy: 0.0395 - val_mean_squared_error: 0.0085 - val_acc: 0.9903\n",
      "Epoch 78/100\n",
      "50000/50000 [==============================] - 8s - loss: 0.0216 - binary_crossentropy: 0.0216 - mean_squared_error: 0.0051 - acc: 0.9940 - val_loss: 0.0396 - val_binary_crossentropy: 0.0396 - val_mean_squared_error: 0.0085 - val_acc: 0.9903\n",
      "Epoch 79/100\n",
      "50000/50000 [==============================] - 8s - loss: 0.0213 - binary_crossentropy: 0.0213 - mean_squared_error: 0.0050 - acc: 0.9941 - val_loss: 0.0394 - val_binary_crossentropy: 0.0394 - val_mean_squared_error: 0.0084 - val_acc: 0.9904\n",
      "Epoch 80/100\n",
      "50000/50000 [==============================] - 8s - loss: 0.0210 - binary_crossentropy: 0.0210 - mean_squared_error: 0.0050 - acc: 0.9942 - val_loss: 0.0398 - val_binary_crossentropy: 0.0398 - val_mean_squared_error: 0.0085 - val_acc: 0.9903\n",
      "Epoch 81/100\n",
      "50000/50000 [==============================] - 8s - loss: 0.0208 - binary_crossentropy: 0.0208 - mean_squared_error: 0.0049 - acc: 0.9942 - val_loss: 0.0397 - val_binary_crossentropy: 0.0397 - val_mean_squared_error: 0.0085 - val_acc: 0.9903\n",
      "Epoch 82/100\n",
      "50000/50000 [==============================] - 7s - loss: 0.0205 - binary_crossentropy: 0.0205 - mean_squared_error: 0.0048 - acc: 0.9943 - val_loss: 0.0399 - val_binary_crossentropy: 0.0399 - val_mean_squared_error: 0.0085 - val_acc: 0.9903\n",
      "Epoch 83/100\n",
      "50000/50000 [==============================] - 8s - loss: 0.0202 - binary_crossentropy: 0.0202 - mean_squared_error: 0.0048 - acc: 0.9944 - val_loss: 0.0398 - val_binary_crossentropy: 0.0398 - val_mean_squared_error: 0.0085 - val_acc: 0.9903\n",
      "Epoch 84/100\n",
      "50000/50000 [==============================] - 7s - loss: 0.0199 - binary_crossentropy: 0.0199 - mean_squared_error: 0.0047 - acc: 0.9945 - val_loss: 0.0402 - val_binary_crossentropy: 0.0402 - val_mean_squared_error: 0.0085 - val_acc: 0.9903\n",
      "Epoch 85/100\n",
      "50000/50000 [==============================] - 8s - loss: 0.0196 - binary_crossentropy: 0.0196 - mean_squared_error: 0.0046 - acc: 0.9946 - val_loss: 0.0403 - val_binary_crossentropy: 0.0403 - val_mean_squared_error: 0.0085 - val_acc: 0.9902\n",
      "Epoch 86/100\n",
      "50000/50000 [==============================] - 8s - loss: 0.0193 - binary_crossentropy: 0.0193 - mean_squared_error: 0.0046 - acc: 0.9946 - val_loss: 0.0402 - val_binary_crossentropy: 0.0402 - val_mean_squared_error: 0.0085 - val_acc: 0.9902\n",
      "Epoch 87/100\n",
      "50000/50000 [==============================] - 8s - loss: 0.0190 - binary_crossentropy: 0.0190 - mean_squared_error: 0.0045 - acc: 0.9947 - val_loss: 0.0403 - val_binary_crossentropy: 0.0403 - val_mean_squared_error: 0.0085 - val_acc: 0.9902\n",
      "Epoch 88/100\n",
      "50000/50000 [==============================] - 8s - loss: 0.0187 - binary_crossentropy: 0.0187 - mean_squared_error: 0.0044 - acc: 0.9948 - val_loss: 0.0404 - val_binary_crossentropy: 0.0404 - val_mean_squared_error: 0.0085 - val_acc: 0.9902\n",
      "Epoch 89/100\n",
      "50000/50000 [==============================] - 8s - loss: 0.0185 - binary_crossentropy: 0.0185 - mean_squared_error: 0.0044 - acc: 0.9949 - val_loss: 0.0406 - val_binary_crossentropy: 0.0406 - val_mean_squared_error: 0.0086 - val_acc: 0.9901\n",
      "Epoch 90/100\n",
      "50000/50000 [==============================] - 8s - loss: 0.0182 - binary_crossentropy: 0.0182 - mean_squared_error: 0.0043 - acc: 0.9949 - val_loss: 0.0406 - val_binary_crossentropy: 0.0406 - val_mean_squared_error: 0.0086 - val_acc: 0.9902\n",
      "Epoch 91/100\n",
      "50000/50000 [==============================] - 8s - loss: 0.0180 - binary_crossentropy: 0.0180 - mean_squared_error: 0.0042 - acc: 0.9950 - val_loss: 0.0410 - val_binary_crossentropy: 0.0410 - val_mean_squared_error: 0.0086 - val_acc: 0.9901\n",
      "Epoch 92/100\n",
      "50000/50000 [==============================] - 7s - loss: 0.0176 - binary_crossentropy: 0.0176 - mean_squared_error: 0.0042 - acc: 0.9951 - val_loss: 0.0410 - val_binary_crossentropy: 0.0410 - val_mean_squared_error: 0.0086 - val_acc: 0.9901\n",
      "Epoch 93/100\n",
      "50000/50000 [==============================] - 8s - loss: 0.0174 - binary_crossentropy: 0.0174 - mean_squared_error: 0.0041 - acc: 0.9952 - val_loss: 0.0409 - val_binary_crossentropy: 0.0409 - val_mean_squared_error: 0.0086 - val_acc: 0.9901\n",
      "Epoch 94/100\n",
      "50000/50000 [==============================] - 7s - loss: 0.0171 - binary_crossentropy: 0.0171 - mean_squared_error: 0.0040 - acc: 0.9953 - val_loss: 0.0416 - val_binary_crossentropy: 0.0416 - val_mean_squared_error: 0.0087 - val_acc: 0.9900\n",
      "Epoch 95/100\n",
      "50000/50000 [==============================] - 8s - loss: 0.0168 - binary_crossentropy: 0.0168 - mean_squared_error: 0.0040 - acc: 0.9953 - val_loss: 0.0413 - val_binary_crossentropy: 0.0413 - val_mean_squared_error: 0.0086 - val_acc: 0.9901\n",
      "Epoch 96/100\n"
     ]
    },
    {
     "name": "stdout",
     "output_type": "stream",
     "text": [
      "50000/50000 [==============================] - 7s - loss: 0.0166 - binary_crossentropy: 0.0166 - mean_squared_error: 0.0039 - acc: 0.9954 - val_loss: 0.0416 - val_binary_crossentropy: 0.0416 - val_mean_squared_error: 0.0087 - val_acc: 0.9900\n",
      "Epoch 97/100\n",
      "50000/50000 [==============================] - 8s - loss: 0.0163 - binary_crossentropy: 0.0163 - mean_squared_error: 0.0038 - acc: 0.9955 - val_loss: 0.0417 - val_binary_crossentropy: 0.0417 - val_mean_squared_error: 0.0087 - val_acc: 0.9900\n",
      "Epoch 98/100\n",
      "50000/50000 [==============================] - 7s - loss: 0.0160 - binary_crossentropy: 0.0160 - mean_squared_error: 0.0038 - acc: 0.9956 - val_loss: 0.0420 - val_binary_crossentropy: 0.0420 - val_mean_squared_error: 0.0087 - val_acc: 0.9899\n",
      "Epoch 99/100\n",
      "50000/50000 [==============================] - 7s - loss: 0.0158 - binary_crossentropy: 0.0158 - mean_squared_error: 0.0037 - acc: 0.9956 - val_loss: 0.0422 - val_binary_crossentropy: 0.0422 - val_mean_squared_error: 0.0087 - val_acc: 0.9899\n",
      "Epoch 100/100\n",
      "50000/50000 [==============================] - 8s - loss: 0.0155 - binary_crossentropy: 0.0155 - mean_squared_error: 0.0036 - acc: 0.9957 - val_loss: 0.0422 - val_binary_crossentropy: 0.0422 - val_mean_squared_error: 0.0087 - val_acc: 0.9898\n"
     ]
    }
   ],
   "source": [
    "OPT = Adam(0.00001)\n",
    "classifier.compile(loss='binary_crossentropy', optimizer=OPT, metrics=['binary_crossentropy', 'mse','acc'])\n",
    "hist_ResNet_SELU = classifier.fit(x_train,y_train, batch_size=64, epochs=100, validation_data=(x_test, y_test))"
   ]
  },
  {
   "cell_type": "code",
   "execution_count": 28,
   "metadata": {},
   "outputs": [
    {
     "data": {
      "text/plain": [
       "[<matplotlib.lines.Line2D at 0x7fdea4283ef0>]"
      ]
     },
     "execution_count": 28,
     "metadata": {},
     "output_type": "execute_result"
    },
    {
     "data": {
      "image/png": "[encoded data removed]",
      "text/plain": [
       "<matplotlib.figure.Figure at 0x7fdea4283eb8>"
      ]
     },
     "metadata": {},
     "output_type": "display_data"
    }
   ],
   "source": [
    "plt.plot(hist_ResNet_SELU.history['loss'])\n",
    "plt.plot(hist_ResNet_SELU.history['val_loss'])"
   ]
  },
  {
   "cell_type": "code",
   "execution_count": 29,
   "metadata": {},
   "outputs": [
    {
     "data": {
      "text/plain": [
       "[<matplotlib.lines.Line2D at 0x7fdea4377e80>]"
      ]
     },
     "execution_count": 29,
     "metadata": {},
     "output_type": "execute_result"
    },
    {
     "data": {
      "image/png": "[encoded data removed]",
      "text/plain": [
       "<matplotlib.figure.Figure at 0x7fdea4377d68>"
      ]
     },
     "metadata": {},
     "output_type": "display_data"
    }
   ],
   "source": [
    "plt.plot(hist_ResNet_SELU.history['acc'])\n",
    "plt.plot(hist_ResNet_SELU.history['val_acc'])"
   ]
  },
  {
   "cell_type": "markdown",
   "metadata": {},
   "source": [
    "#### Without Resdual Block"
   ]
  },
  {
   "cell_type": "code",
   "execution_count": 15,
   "metadata": {
    "scrolled": true
   },
   "outputs": [
    {
     "name": "stdout",
     "output_type": "stream",
     "text": [
      "_________________________________________________________________\n",
      "Layer (type)                 Output Shape              Param #   \n",
      "=================================================================\n",
      "input_5 (InputLayer)         (None, 32, 32, 3)         0         \n",
      "_________________________________________________________________\n",
      "conv2d_48 (Conv2D)           (None, 16, 16, 64)        1792      \n",
      "_________________________________________________________________\n",
      "max_pooling2d_4 (MaxPooling2 (None, 8, 8, 64)          0         \n",
      "_________________________________________________________________\n",
      "conv2d_49 (Conv2D)           (None, 8, 8, 64)          36928     \n",
      "_________________________________________________________________\n",
      "conv2d_50 (Conv2D)           (None, 8, 8, 64)          36928     \n",
      "_________________________________________________________________\n",
      "conv2d_51 (Conv2D)           (None, 8, 8, 64)          36928     \n",
      "_________________________________________________________________\n",
      "conv2d_52 (Conv2D)           (None, 8, 8, 64)          36928     \n",
      "_________________________________________________________________\n",
      "conv2d_53 (Conv2D)           (None, 8, 8, 64)          36928     \n",
      "_________________________________________________________________\n",
      "conv2d_54 (Conv2D)           (None, 8, 8, 64)          36928     \n",
      "_________________________________________________________________\n",
      "conv2d_55 (Conv2D)           (None, 4, 4, 128)         73856     \n",
      "_________________________________________________________________\n",
      "conv2d_56 (Conv2D)           (None, 4, 4, 128)         147584    \n",
      "_________________________________________________________________\n",
      "conv2d_57 (Conv2D)           (None, 4, 4, 128)         147584    \n",
      "_________________________________________________________________\n",
      "conv2d_58 (Conv2D)           (None, 4, 4, 128)         147584    \n",
      "_________________________________________________________________\n",
      "conv2d_59 (Conv2D)           (None, 4, 4, 128)         147584    \n",
      "_________________________________________________________________\n",
      "conv2d_60 (Conv2D)           (None, 4, 4, 128)         147584    \n",
      "_________________________________________________________________\n",
      "conv2d_61 (Conv2D)           (None, 4, 4, 128)         147584    \n",
      "_________________________________________________________________\n",
      "conv2d_62 (Conv2D)           (None, 4, 4, 128)         147584    \n",
      "_________________________________________________________________\n",
      "average_pooling2d_4 (Average (None, 2, 2, 128)         0         \n",
      "_________________________________________________________________\n",
      "flatten_4 (Flatten)          (None, 512)               0         \n",
      "_________________________________________________________________\n",
      "dense_4 (Dense)              (None, 100)               51300     \n",
      "=================================================================\n",
      "Total params: 1,381,604\n",
      "Trainable params: 1,381,604\n",
      "Non-trainable params: 0\n",
      "_________________________________________________________________\n"
     ]
    }
   ],
   "source": [
    "cl_in      = Input(shape=x_train.shape[1:])\n",
    "cl_conv_1  = Conv2D(64, 3, strides=2, activation='selu', padding='same', kernel_initializer='lecun_normal')(cl_in)\n",
    "cl_pl_1    = MaxPooling2D()(cl_conv_1)\n",
    "cl_res_1_1 = Conv2D(64, 3, strides=1, activation='selu', padding='same', kernel_initializer='lecun_normal')(cl_pl_1)\n",
    "cl_res_1_2 = Conv2D(64, 3, strides=1, activation='selu', padding='same', kernel_initializer='lecun_normal')(cl_res_1_1)\n",
    "cl_res_2_1 = Conv2D(64, 3, strides=1, activation='selu', padding='same', kernel_initializer='lecun_normal')(cl_res_1_2)\n",
    "cl_res_2_2 = Conv2D(64, 3, strides=1, activation='selu', padding='same', kernel_initializer='lecun_normal')(cl_res_2_1)\n",
    "cl_res_3_1 = Conv2D(64, 3, strides=1, activation='selu', padding='same', kernel_initializer='lecun_normal')(cl_res_2_2)\n",
    "cl_res_3_2 = Conv2D(64, 3, strides=1, activation='selu', padding='same', kernel_initializer='lecun_normal')(cl_res_3_1)\n",
    "cl_conv_2  = Conv2D(128, 3, strides=2, activation='selu', padding='same', kernel_initializer='lecun_normal')(cl_res_3_2)\n",
    "cl_conv_2  = Conv2D(128, 3, strides=1, activation='selu', padding='same', kernel_initializer='lecun_normal')(cl_conv_2)\n",
    "cl_res_4_1 = Conv2D(128, 3, strides=1, activation='selu', padding='same', kernel_initializer='lecun_normal')(cl_conv_2)\n",
    "cl_res_4_2 = Conv2D(128, 3, strides=1, activation='selu', padding='same', kernel_initializer='lecun_normal')(cl_res_4_1)\n",
    "cl_res_5_1 = Conv2D(128, 3, strides=1, activation='selu', padding='same', kernel_initializer='lecun_normal')(cl_res_4_2)\n",
    "cl_res_5_2 = Conv2D(128, 3, strides=1, activation='selu', padding='same', kernel_initializer='lecun_normal')(cl_res_5_1)\n",
    "cl_res_6_1 = Conv2D(128, 3, strides=1, activation='selu', padding='same', kernel_initializer='lecun_normal')(cl_res_5_2)\n",
    "cl_res_6_2 = Conv2D(128, 3, strides=1, activation='selu', padding='same', kernel_initializer='lecun_normal')(cl_res_6_1)\n",
    "cl_pl_2    = AveragePooling2D()(cl_res_6_2)\n",
    "cl_flatten = Flatten()(cl_pl_2)\n",
    "cl_fc100   = Dense(100, activation='softmax')(cl_flatten)\n",
    "classifier_noRes = Model(cl_in, cl_fc100)\n",
    "plot_model(classifier_noRes, 'classifier_noRes.png', show_layer_names=False)\n",
    "classifier_noRes.summary()"
   ]
  },
  {
   "cell_type": "code",
   "execution_count": 16,
   "metadata": {
    "scrolled": true
   },
   "outputs": [
    {
     "name": "stdout",
     "output_type": "stream",
     "text": [
      "Train on 50000 samples, validate on 10000 samples\n",
      "Epoch 1/100\n",
      "50000/50000 [==============================] - 8s - loss: 0.0528 - binary_crossentropy: 0.0528 - mean_squared_error: 0.0098 - acc: 0.9900 - val_loss: 0.0495 - val_binary_crossentropy: 0.0495 - val_mean_squared_error: 0.0097 - val_acc: 0.9900\n",
      "Epoch 2/100\n",
      "50000/50000 [==============================] - 8s - loss: 0.0478 - binary_crossentropy: 0.0478 - mean_squared_error: 0.0095 - acc: 0.9900 - val_loss: 0.0468 - val_binary_crossentropy: 0.0468 - val_mean_squared_error: 0.0095 - val_acc: 0.9900\n",
      "Epoch 3/100\n",
      "50000/50000 [==============================] - 7s - loss: 0.0453 - binary_crossentropy: 0.0453 - mean_squared_error: 0.0093 - acc: 0.9900 - val_loss: 0.0447 - val_binary_crossentropy: 0.0447 - val_mean_squared_error: 0.0092 - val_acc: 0.9901\n",
      "Epoch 4/100\n",
      "50000/50000 [==============================] - 8s - loss: 0.0435 - binary_crossentropy: 0.0435 - mean_squared_error: 0.0091 - acc: 0.9901 - val_loss: 0.0437 - val_binary_crossentropy: 0.0437 - val_mean_squared_error: 0.0091 - val_acc: 0.9901\n",
      "Epoch 5/100\n",
      "50000/50000 [==============================] - 8s - loss: 0.0423 - binary_crossentropy: 0.0423 - mean_squared_error: 0.0090 - acc: 0.9902 - val_loss: 0.0426 - val_binary_crossentropy: 0.0426 - val_mean_squared_error: 0.0090 - val_acc: 0.9902\n",
      "Epoch 6/100\n",
      "50000/50000 [==============================] - 7s - loss: 0.0413 - binary_crossentropy: 0.0413 - mean_squared_error: 0.0089 - acc: 0.9902 - val_loss: 0.0420 - val_binary_crossentropy: 0.0420 - val_mean_squared_error: 0.0089 - val_acc: 0.9903\n",
      "Epoch 7/100\n",
      "50000/50000 [==============================] - 7s - loss: 0.0405 - binary_crossentropy: 0.0405 - mean_squared_error: 0.0088 - acc: 0.9903 - val_loss: 0.0412 - val_binary_crossentropy: 0.0412 - val_mean_squared_error: 0.0088 - val_acc: 0.9903\n",
      "Epoch 8/100\n",
      "50000/50000 [==============================] - 7s - loss: 0.0397 - binary_crossentropy: 0.0397 - mean_squared_error: 0.0087 - acc: 0.9903 - val_loss: 0.0406 - val_binary_crossentropy: 0.0406 - val_mean_squared_error: 0.0087 - val_acc: 0.9904\n",
      "Epoch 9/100\n",
      "50000/50000 [==============================] - 7s - loss: 0.0390 - binary_crossentropy: 0.0390 - mean_squared_error: 0.0086 - acc: 0.9904 - val_loss: 0.0402 - val_binary_crossentropy: 0.0402 - val_mean_squared_error: 0.0087 - val_acc: 0.9904\n",
      "Epoch 10/100\n",
      "50000/50000 [==============================] - 8s - loss: 0.0384 - binary_crossentropy: 0.0384 - mean_squared_error: 0.0085 - acc: 0.9905 - val_loss: 0.0399 - val_binary_crossentropy: 0.0399 - val_mean_squared_error: 0.0086 - val_acc: 0.9904\n",
      "Epoch 11/100\n",
      "50000/50000 [==============================] - 8s - loss: 0.0378 - binary_crossentropy: 0.0378 - mean_squared_error: 0.0084 - acc: 0.9906 - val_loss: 0.0393 - val_binary_crossentropy: 0.0393 - val_mean_squared_error: 0.0086 - val_acc: 0.9904\n",
      "Epoch 12/100\n",
      "50000/50000 [==============================] - 8s - loss: 0.0373 - binary_crossentropy: 0.0373 - mean_squared_error: 0.0083 - acc: 0.9906 - val_loss: 0.0391 - val_binary_crossentropy: 0.0391 - val_mean_squared_error: 0.0085 - val_acc: 0.9905\n",
      "Epoch 13/100\n",
      "50000/50000 [==============================] - 7s - loss: 0.0368 - binary_crossentropy: 0.0368 - mean_squared_error: 0.0082 - acc: 0.9907 - val_loss: 0.0387 - val_binary_crossentropy: 0.0387 - val_mean_squared_error: 0.0085 - val_acc: 0.9906\n",
      "Epoch 14/100\n",
      "50000/50000 [==============================] - 8s - loss: 0.0363 - binary_crossentropy: 0.0363 - mean_squared_error: 0.0082 - acc: 0.9907 - val_loss: 0.0385 - val_binary_crossentropy: 0.0385 - val_mean_squared_error: 0.0084 - val_acc: 0.9906\n",
      "Epoch 15/100\n",
      "50000/50000 [==============================] - 8s - loss: 0.0359 - binary_crossentropy: 0.0359 - mean_squared_error: 0.0081 - acc: 0.9908 - val_loss: 0.0381 - val_binary_crossentropy: 0.0381 - val_mean_squared_error: 0.0084 - val_acc: 0.9906\n",
      "Epoch 16/100\n",
      "50000/50000 [==============================] - 8s - loss: 0.0354 - binary_crossentropy: 0.0354 - mean_squared_error: 0.0080 - acc: 0.9908 - val_loss: 0.0381 - val_binary_crossentropy: 0.0381 - val_mean_squared_error: 0.0084 - val_acc: 0.9906\n",
      "Epoch 17/100\n",
      "50000/50000 [==============================] - 8s - loss: 0.0350 - binary_crossentropy: 0.0350 - mean_squared_error: 0.0080 - acc: 0.9909 - val_loss: 0.0380 - val_binary_crossentropy: 0.0380 - val_mean_squared_error: 0.0083 - val_acc: 0.9906\n",
      "Epoch 18/100\n",
      "50000/50000 [==============================] - 8s - loss: 0.0346 - binary_crossentropy: 0.0346 - mean_squared_error: 0.0079 - acc: 0.9910 - val_loss: 0.0378 - val_binary_crossentropy: 0.0378 - val_mean_squared_error: 0.0083 - val_acc: 0.9907\n",
      "Epoch 19/100\n",
      "50000/50000 [==============================] - 7s - loss: 0.0343 - binary_crossentropy: 0.0343 - mean_squared_error: 0.0078 - acc: 0.9910 - val_loss: 0.0374 - val_binary_crossentropy: 0.0374 - val_mean_squared_error: 0.0082 - val_acc: 0.9907\n",
      "Epoch 20/100\n",
      "50000/50000 [==============================] - 8s - loss: 0.0339 - binary_crossentropy: 0.0339 - mean_squared_error: 0.0078 - acc: 0.9911 - val_loss: 0.0374 - val_binary_crossentropy: 0.0374 - val_mean_squared_error: 0.0082 - val_acc: 0.9907\n",
      "Epoch 21/100\n",
      "50000/50000 [==============================] - 8s - loss: 0.0335 - binary_crossentropy: 0.0335 - mean_squared_error: 0.0077 - acc: 0.9911 - val_loss: 0.0373 - val_binary_crossentropy: 0.0373 - val_mean_squared_error: 0.0082 - val_acc: 0.9907\n",
      "Epoch 22/100\n",
      "50000/50000 [==============================] - 8s - loss: 0.0332 - binary_crossentropy: 0.0332 - mean_squared_error: 0.0076 - acc: 0.9912 - val_loss: 0.0371 - val_binary_crossentropy: 0.0371 - val_mean_squared_error: 0.0082 - val_acc: 0.9908\n",
      "Epoch 23/100\n",
      "50000/50000 [==============================] - 7s - loss: 0.0328 - binary_crossentropy: 0.0328 - mean_squared_error: 0.0076 - acc: 0.9912 - val_loss: 0.0369 - val_binary_crossentropy: 0.0369 - val_mean_squared_error: 0.0081 - val_acc: 0.9908\n",
      "Epoch 24/100\n",
      "50000/50000 [==============================] - 7s - loss: 0.0325 - binary_crossentropy: 0.0325 - mean_squared_error: 0.0075 - acc: 0.9913 - val_loss: 0.0367 - val_binary_crossentropy: 0.0367 - val_mean_squared_error: 0.0081 - val_acc: 0.9908\n",
      "Epoch 25/100\n",
      "50000/50000 [==============================] - 8s - loss: 0.0321 - binary_crossentropy: 0.0321 - mean_squared_error: 0.0074 - acc: 0.9913 - val_loss: 0.0368 - val_binary_crossentropy: 0.0368 - val_mean_squared_error: 0.0081 - val_acc: 0.9908\n",
      "Epoch 26/100\n",
      "50000/50000 [==============================] - 8s - loss: 0.0319 - binary_crossentropy: 0.0319 - mean_squared_error: 0.0074 - acc: 0.9914 - val_loss: 0.0366 - val_binary_crossentropy: 0.0366 - val_mean_squared_error: 0.0081 - val_acc: 0.9909\n",
      "Epoch 27/100\n",
      "50000/50000 [==============================] - 8s - loss: 0.0315 - binary_crossentropy: 0.0315 - mean_squared_error: 0.0073 - acc: 0.9914 - val_loss: 0.0364 - val_binary_crossentropy: 0.0364 - val_mean_squared_error: 0.0081 - val_acc: 0.9909\n",
      "Epoch 28/100\n",
      "50000/50000 [==============================] - 8s - loss: 0.0312 - binary_crossentropy: 0.0312 - mean_squared_error: 0.0073 - acc: 0.9915 - val_loss: 0.0365 - val_binary_crossentropy: 0.0365 - val_mean_squared_error: 0.0081 - val_acc: 0.9908\n",
      "Epoch 29/100\n",
      "50000/50000 [==============================] - 8s - loss: 0.0309 - binary_crossentropy: 0.0309 - mean_squared_error: 0.0072 - acc: 0.9915 - val_loss: 0.0364 - val_binary_crossentropy: 0.0364 - val_mean_squared_error: 0.0081 - val_acc: 0.9909\n",
      "Epoch 30/100\n",
      "50000/50000 [==============================] - 8s - loss: 0.0305 - binary_crossentropy: 0.0305 - mean_squared_error: 0.0071 - acc: 0.9916 - val_loss: 0.0364 - val_binary_crossentropy: 0.0364 - val_mean_squared_error: 0.0081 - val_acc: 0.9908\n",
      "Epoch 31/100\n",
      "50000/50000 [==============================] - 8s - loss: 0.0302 - binary_crossentropy: 0.0302 - mean_squared_error: 0.0071 - acc: 0.9916 - val_loss: 0.0367 - val_binary_crossentropy: 0.0367 - val_mean_squared_error: 0.0081 - val_acc: 0.9908\n",
      "Epoch 32/100\n"
     ]
    },
    {
     "name": "stdout",
     "output_type": "stream",
     "text": [
      "50000/50000 [==============================] - 7s - loss: 0.0300 - binary_crossentropy: 0.0300 - mean_squared_error: 0.0070 - acc: 0.9917 - val_loss: 0.0362 - val_binary_crossentropy: 0.0362 - val_mean_squared_error: 0.0080 - val_acc: 0.9909\n",
      "Epoch 33/100\n",
      "50000/50000 [==============================] - 7s - loss: 0.0296 - binary_crossentropy: 0.0296 - mean_squared_error: 0.0070 - acc: 0.9918 - val_loss: 0.0364 - val_binary_crossentropy: 0.0364 - val_mean_squared_error: 0.0080 - val_acc: 0.9909\n",
      "Epoch 34/100\n",
      "50000/50000 [==============================] - 8s - loss: 0.0294 - binary_crossentropy: 0.0294 - mean_squared_error: 0.0069 - acc: 0.9919 - val_loss: 0.0362 - val_binary_crossentropy: 0.0362 - val_mean_squared_error: 0.0080 - val_acc: 0.9909\n",
      "Epoch 35/100\n",
      "50000/50000 [==============================] - 7s - loss: 0.0291 - binary_crossentropy: 0.0291 - mean_squared_error: 0.0069 - acc: 0.9919 - val_loss: 0.0362 - val_binary_crossentropy: 0.0362 - val_mean_squared_error: 0.0080 - val_acc: 0.9909\n",
      "Epoch 36/100\n",
      "50000/50000 [==============================] - 7s - loss: 0.0288 - binary_crossentropy: 0.0288 - mean_squared_error: 0.0068 - acc: 0.9919 - val_loss: 0.0362 - val_binary_crossentropy: 0.0362 - val_mean_squared_error: 0.0080 - val_acc: 0.9909\n",
      "Epoch 37/100\n",
      "50000/50000 [==============================] - 7s - loss: 0.0285 - binary_crossentropy: 0.0285 - mean_squared_error: 0.0067 - acc: 0.9920 - val_loss: 0.0361 - val_binary_crossentropy: 0.0361 - val_mean_squared_error: 0.0080 - val_acc: 0.9909\n",
      "Epoch 38/100\n",
      "50000/50000 [==============================] - 8s - loss: 0.0282 - binary_crossentropy: 0.0282 - mean_squared_error: 0.0067 - acc: 0.9921 - val_loss: 0.0361 - val_binary_crossentropy: 0.0361 - val_mean_squared_error: 0.0080 - val_acc: 0.9909\n",
      "Epoch 39/100\n",
      "50000/50000 [==============================] - 7s - loss: 0.0279 - binary_crossentropy: 0.0279 - mean_squared_error: 0.0066 - acc: 0.9921 - val_loss: 0.0364 - val_binary_crossentropy: 0.0364 - val_mean_squared_error: 0.0080 - val_acc: 0.9908\n",
      "Epoch 40/100\n",
      "50000/50000 [==============================] - 7s - loss: 0.0276 - binary_crossentropy: 0.0276 - mean_squared_error: 0.0066 - acc: 0.9922 - val_loss: 0.0360 - val_binary_crossentropy: 0.0360 - val_mean_squared_error: 0.0080 - val_acc: 0.9909\n",
      "Epoch 41/100\n",
      "50000/50000 [==============================] - 8s - loss: 0.0273 - binary_crossentropy: 0.0273 - mean_squared_error: 0.0065 - acc: 0.9923 - val_loss: 0.0368 - val_binary_crossentropy: 0.0368 - val_mean_squared_error: 0.0081 - val_acc: 0.9908\n",
      "Epoch 42/100\n",
      "50000/50000 [==============================] - 8s - loss: 0.0270 - binary_crossentropy: 0.0270 - mean_squared_error: 0.0064 - acc: 0.9923 - val_loss: 0.0364 - val_binary_crossentropy: 0.0364 - val_mean_squared_error: 0.0080 - val_acc: 0.9908\n",
      "Epoch 43/100\n",
      "50000/50000 [==============================] - 8s - loss: 0.0267 - binary_crossentropy: 0.0267 - mean_squared_error: 0.0064 - acc: 0.9924 - val_loss: 0.0366 - val_binary_crossentropy: 0.0366 - val_mean_squared_error: 0.0081 - val_acc: 0.9908\n",
      "Epoch 44/100\n",
      "50000/50000 [==============================] - 8s - loss: 0.0264 - binary_crossentropy: 0.0264 - mean_squared_error: 0.0063 - acc: 0.9925 - val_loss: 0.0363 - val_binary_crossentropy: 0.0363 - val_mean_squared_error: 0.0080 - val_acc: 0.9908\n",
      "Epoch 45/100\n",
      "50000/50000 [==============================] - 7s - loss: 0.0262 - binary_crossentropy: 0.0262 - mean_squared_error: 0.0063 - acc: 0.9925 - val_loss: 0.0361 - val_binary_crossentropy: 0.0361 - val_mean_squared_error: 0.0080 - val_acc: 0.9909\n",
      "Epoch 46/100\n",
      "50000/50000 [==============================] - 7s - loss: 0.0259 - binary_crossentropy: 0.0259 - mean_squared_error: 0.0062 - acc: 0.9926 - val_loss: 0.0365 - val_binary_crossentropy: 0.0365 - val_mean_squared_error: 0.0080 - val_acc: 0.9908\n",
      "Epoch 47/100\n",
      "50000/50000 [==============================] - 8s - loss: 0.0255 - binary_crossentropy: 0.0255 - mean_squared_error: 0.0061 - acc: 0.9927 - val_loss: 0.0363 - val_binary_crossentropy: 0.0363 - val_mean_squared_error: 0.0080 - val_acc: 0.9909\n",
      "Epoch 48/100\n",
      "50000/50000 [==============================] - 8s - loss: 0.0253 - binary_crossentropy: 0.0253 - mean_squared_error: 0.0061 - acc: 0.9927 - val_loss: 0.0367 - val_binary_crossentropy: 0.0367 - val_mean_squared_error: 0.0081 - val_acc: 0.9908\n",
      "Epoch 49/100\n",
      "50000/50000 [==============================] - 8s - loss: 0.0250 - binary_crossentropy: 0.0250 - mean_squared_error: 0.0060 - acc: 0.9928 - val_loss: 0.0369 - val_binary_crossentropy: 0.0369 - val_mean_squared_error: 0.0081 - val_acc: 0.9908\n",
      "Epoch 50/100\n",
      "50000/50000 [==============================] - 8s - loss: 0.0247 - binary_crossentropy: 0.0247 - mean_squared_error: 0.0059 - acc: 0.9929 - val_loss: 0.0366 - val_binary_crossentropy: 0.0366 - val_mean_squared_error: 0.0080 - val_acc: 0.9908\n",
      "Epoch 51/100\n",
      "50000/50000 [==============================] - 7s - loss: 0.0244 - binary_crossentropy: 0.0244 - mean_squared_error: 0.0059 - acc: 0.9930 - val_loss: 0.0366 - val_binary_crossentropy: 0.0366 - val_mean_squared_error: 0.0080 - val_acc: 0.9908\n",
      "Epoch 52/100\n",
      "50000/50000 [==============================] - 8s - loss: 0.0241 - binary_crossentropy: 0.0241 - mean_squared_error: 0.0058 - acc: 0.9931 - val_loss: 0.0367 - val_binary_crossentropy: 0.0367 - val_mean_squared_error: 0.0080 - val_acc: 0.9908\n",
      "Epoch 53/100\n",
      "50000/50000 [==============================] - 8s - loss: 0.0238 - binary_crossentropy: 0.0238 - mean_squared_error: 0.0057 - acc: 0.9931 - val_loss: 0.0373 - val_binary_crossentropy: 0.0373 - val_mean_squared_error: 0.0081 - val_acc: 0.9907\n",
      "Epoch 54/100\n",
      "50000/50000 [==============================] - 8s - loss: 0.0236 - binary_crossentropy: 0.0236 - mean_squared_error: 0.0057 - acc: 0.9932 - val_loss: 0.0373 - val_binary_crossentropy: 0.0373 - val_mean_squared_error: 0.0081 - val_acc: 0.9907\n",
      "Epoch 55/100\n",
      "50000/50000 [==============================] - 8s - loss: 0.0233 - binary_crossentropy: 0.0233 - mean_squared_error: 0.0056 - acc: 0.9933 - val_loss: 0.0375 - val_binary_crossentropy: 0.0375 - val_mean_squared_error: 0.0082 - val_acc: 0.9906\n",
      "Epoch 56/100\n",
      "50000/50000 [==============================] - 7s - loss: 0.0230 - binary_crossentropy: 0.0230 - mean_squared_error: 0.0055 - acc: 0.9934 - val_loss: 0.0371 - val_binary_crossentropy: 0.0371 - val_mean_squared_error: 0.0081 - val_acc: 0.9907\n",
      "Epoch 57/100\n",
      "50000/50000 [==============================] - 8s - loss: 0.0227 - binary_crossentropy: 0.0227 - mean_squared_error: 0.0055 - acc: 0.9935 - val_loss: 0.0372 - val_binary_crossentropy: 0.0372 - val_mean_squared_error: 0.0081 - val_acc: 0.9907\n",
      "Epoch 58/100\n",
      "50000/50000 [==============================] - 8s - loss: 0.0224 - binary_crossentropy: 0.0224 - mean_squared_error: 0.0054 - acc: 0.9935 - val_loss: 0.0374 - val_binary_crossentropy: 0.0374 - val_mean_squared_error: 0.0081 - val_acc: 0.9907\n",
      "Epoch 59/100\n",
      "50000/50000 [==============================] - 8s - loss: 0.0221 - binary_crossentropy: 0.0221 - mean_squared_error: 0.0053 - acc: 0.9936 - val_loss: 0.0375 - val_binary_crossentropy: 0.0375 - val_mean_squared_error: 0.0081 - val_acc: 0.9907\n",
      "Epoch 60/100\n",
      "50000/50000 [==============================] - 7s - loss: 0.0218 - binary_crossentropy: 0.0218 - mean_squared_error: 0.0053 - acc: 0.9937 - val_loss: 0.0375 - val_binary_crossentropy: 0.0375 - val_mean_squared_error: 0.0081 - val_acc: 0.9907\n",
      "Epoch 61/100\n",
      "50000/50000 [==============================] - 8s - loss: 0.0216 - binary_crossentropy: 0.0216 - mean_squared_error: 0.0052 - acc: 0.9937 - val_loss: 0.0378 - val_binary_crossentropy: 0.0378 - val_mean_squared_error: 0.0082 - val_acc: 0.9906\n",
      "Epoch 62/100\n",
      "50000/50000 [==============================] - 8s - loss: 0.0213 - binary_crossentropy: 0.0213 - mean_squared_error: 0.0051 - acc: 0.9938 - val_loss: 0.0388 - val_binary_crossentropy: 0.0388 - val_mean_squared_error: 0.0083 - val_acc: 0.9904\n",
      "Epoch 63/100\n",
      "50000/50000 [==============================] - 8s - loss: 0.0210 - binary_crossentropy: 0.0210 - mean_squared_error: 0.0051 - acc: 0.9939 - val_loss: 0.0384 - val_binary_crossentropy: 0.0384 - val_mean_squared_error: 0.0083 - val_acc: 0.9905\n",
      "Epoch 64/100\n"
     ]
    },
    {
     "name": "stdout",
     "output_type": "stream",
     "text": [
      "50000/50000 [==============================] - 8s - loss: 0.0207 - binary_crossentropy: 0.0207 - mean_squared_error: 0.0050 - acc: 0.9940 - val_loss: 0.0386 - val_binary_crossentropy: 0.0386 - val_mean_squared_error: 0.0083 - val_acc: 0.9905\n",
      "Epoch 65/100\n",
      "50000/50000 [==============================] - 7s - loss: 0.0204 - binary_crossentropy: 0.0204 - mean_squared_error: 0.0049 - acc: 0.9941 - val_loss: 0.0384 - val_binary_crossentropy: 0.0384 - val_mean_squared_error: 0.0082 - val_acc: 0.9905\n",
      "Epoch 66/100\n",
      "50000/50000 [==============================] - 8s - loss: 0.0201 - binary_crossentropy: 0.0201 - mean_squared_error: 0.0049 - acc: 0.9942 - val_loss: 0.0385 - val_binary_crossentropy: 0.0385 - val_mean_squared_error: 0.0083 - val_acc: 0.9905\n",
      "Epoch 67/100\n",
      "50000/50000 [==============================] - 7s - loss: 0.0199 - binary_crossentropy: 0.0199 - mean_squared_error: 0.0048 - acc: 0.9942 - val_loss: 0.0387 - val_binary_crossentropy: 0.0387 - val_mean_squared_error: 0.0083 - val_acc: 0.9904\n",
      "Epoch 68/100\n",
      "50000/50000 [==============================] - 8s - loss: 0.0196 - binary_crossentropy: 0.0196 - mean_squared_error: 0.0047 - acc: 0.9943 - val_loss: 0.0389 - val_binary_crossentropy: 0.0389 - val_mean_squared_error: 0.0083 - val_acc: 0.9904\n",
      "Epoch 69/100\n",
      "50000/50000 [==============================] - 7s - loss: 0.0193 - binary_crossentropy: 0.0193 - mean_squared_error: 0.0047 - acc: 0.9944 - val_loss: 0.0392 - val_binary_crossentropy: 0.0392 - val_mean_squared_error: 0.0083 - val_acc: 0.9904\n",
      "Epoch 70/100\n",
      "50000/50000 [==============================] - 7s - loss: 0.0190 - binary_crossentropy: 0.0190 - mean_squared_error: 0.0046 - acc: 0.9945 - val_loss: 0.0398 - val_binary_crossentropy: 0.0398 - val_mean_squared_error: 0.0084 - val_acc: 0.9902\n",
      "Epoch 71/100\n",
      "50000/50000 [==============================] - 7s - loss: 0.0187 - binary_crossentropy: 0.0187 - mean_squared_error: 0.0045 - acc: 0.9946 - val_loss: 0.0398 - val_binary_crossentropy: 0.0398 - val_mean_squared_error: 0.0084 - val_acc: 0.9903\n",
      "Epoch 72/100\n",
      "50000/50000 [==============================] - 7s - loss: 0.0185 - binary_crossentropy: 0.0185 - mean_squared_error: 0.0045 - acc: 0.9946 - val_loss: 0.0397 - val_binary_crossentropy: 0.0397 - val_mean_squared_error: 0.0084 - val_acc: 0.9903\n",
      "Epoch 73/100\n",
      "50000/50000 [==============================] - 7s - loss: 0.0182 - binary_crossentropy: 0.0182 - mean_squared_error: 0.0044 - acc: 0.9947 - val_loss: 0.0403 - val_binary_crossentropy: 0.0403 - val_mean_squared_error: 0.0085 - val_acc: 0.9901\n",
      "Epoch 74/100\n",
      "50000/50000 [==============================] - 8s - loss: 0.0179 - binary_crossentropy: 0.0179 - mean_squared_error: 0.0043 - acc: 0.9948 - val_loss: 0.0403 - val_binary_crossentropy: 0.0403 - val_mean_squared_error: 0.0085 - val_acc: 0.9902\n",
      "Epoch 75/100\n",
      "50000/50000 [==============================] - 7s - loss: 0.0176 - binary_crossentropy: 0.0176 - mean_squared_error: 0.0043 - acc: 0.9949 - val_loss: 0.0405 - val_binary_crossentropy: 0.0405 - val_mean_squared_error: 0.0084 - val_acc: 0.9902\n",
      "Epoch 76/100\n",
      "50000/50000 [==============================] - 7s - loss: 0.0173 - binary_crossentropy: 0.0173 - mean_squared_error: 0.0042 - acc: 0.9950 - val_loss: 0.0410 - val_binary_crossentropy: 0.0410 - val_mean_squared_error: 0.0085 - val_acc: 0.9901\n",
      "Epoch 77/100\n",
      "50000/50000 [==============================] - 8s - loss: 0.0170 - binary_crossentropy: 0.0170 - mean_squared_error: 0.0041 - acc: 0.9951 - val_loss: 0.0412 - val_binary_crossentropy: 0.0412 - val_mean_squared_error: 0.0086 - val_acc: 0.9900\n",
      "Epoch 78/100\n",
      "50000/50000 [==============================] - 8s - loss: 0.0167 - binary_crossentropy: 0.0167 - mean_squared_error: 0.0040 - acc: 0.9952 - val_loss: 0.0415 - val_binary_crossentropy: 0.0415 - val_mean_squared_error: 0.0086 - val_acc: 0.9900\n",
      "Epoch 79/100\n",
      "50000/50000 [==============================] - 7s - loss: 0.0164 - binary_crossentropy: 0.0164 - mean_squared_error: 0.0040 - acc: 0.9953 - val_loss: 0.0415 - val_binary_crossentropy: 0.0415 - val_mean_squared_error: 0.0086 - val_acc: 0.9900\n",
      "Epoch 80/100\n",
      "50000/50000 [==============================] - 8s - loss: 0.0162 - binary_crossentropy: 0.0162 - mean_squared_error: 0.0039 - acc: 0.9953 - val_loss: 0.0423 - val_binary_crossentropy: 0.0423 - val_mean_squared_error: 0.0087 - val_acc: 0.9900\n",
      "Epoch 81/100\n",
      "50000/50000 [==============================] - 8s - loss: 0.0159 - binary_crossentropy: 0.0159 - mean_squared_error: 0.0039 - acc: 0.9954 - val_loss: 0.0424 - val_binary_crossentropy: 0.0424 - val_mean_squared_error: 0.0087 - val_acc: 0.9899\n",
      "Epoch 82/100\n",
      "50000/50000 [==============================] - 8s - loss: 0.0156 - binary_crossentropy: 0.0156 - mean_squared_error: 0.0038 - acc: 0.9955 - val_loss: 0.0429 - val_binary_crossentropy: 0.0429 - val_mean_squared_error: 0.0088 - val_acc: 0.9897\n",
      "Epoch 83/100\n",
      "50000/50000 [==============================] - 7s - loss: 0.0153 - binary_crossentropy: 0.0153 - mean_squared_error: 0.0037 - acc: 0.9956 - val_loss: 0.0429 - val_binary_crossentropy: 0.0429 - val_mean_squared_error: 0.0087 - val_acc: 0.9898\n",
      "Epoch 84/100\n",
      "50000/50000 [==============================] - 8s - loss: 0.0151 - binary_crossentropy: 0.0151 - mean_squared_error: 0.0036 - acc: 0.9957 - val_loss: 0.0434 - val_binary_crossentropy: 0.0434 - val_mean_squared_error: 0.0088 - val_acc: 0.9897\n",
      "Epoch 85/100\n",
      "50000/50000 [==============================] - 7s - loss: 0.0148 - binary_crossentropy: 0.0148 - mean_squared_error: 0.0036 - acc: 0.9958 - val_loss: 0.0437 - val_binary_crossentropy: 0.0437 - val_mean_squared_error: 0.0088 - val_acc: 0.9897\n",
      "Epoch 86/100\n",
      "50000/50000 [==============================] - 8s - loss: 0.0145 - binary_crossentropy: 0.0145 - mean_squared_error: 0.0035 - acc: 0.9958 - val_loss: 0.0438 - val_binary_crossentropy: 0.0438 - val_mean_squared_error: 0.0088 - val_acc: 0.9897\n",
      "Epoch 87/100\n",
      "50000/50000 [==============================] - 7s - loss: 0.0143 - binary_crossentropy: 0.0143 - mean_squared_error: 0.0034 - acc: 0.9959 - val_loss: 0.0444 - val_binary_crossentropy: 0.0444 - val_mean_squared_error: 0.0089 - val_acc: 0.9896\n",
      "Epoch 88/100\n",
      "50000/50000 [==============================] - 7s - loss: 0.0141 - binary_crossentropy: 0.0141 - mean_squared_error: 0.0034 - acc: 0.9960 - val_loss: 0.0445 - val_binary_crossentropy: 0.0445 - val_mean_squared_error: 0.0089 - val_acc: 0.9896\n",
      "Epoch 89/100\n",
      "50000/50000 [==============================] - 8s - loss: 0.0137 - binary_crossentropy: 0.0137 - mean_squared_error: 0.0033 - acc: 0.9961 - val_loss: 0.0451 - val_binary_crossentropy: 0.0451 - val_mean_squared_error: 0.0090 - val_acc: 0.9895\n",
      "Epoch 90/100\n",
      "50000/50000 [==============================] - 8s - loss: 0.0135 - binary_crossentropy: 0.0135 - mean_squared_error: 0.0032 - acc: 0.9962 - val_loss: 0.0454 - val_binary_crossentropy: 0.0454 - val_mean_squared_error: 0.0090 - val_acc: 0.9894\n",
      "Epoch 91/100\n",
      "50000/50000 [==============================] - 8s - loss: 0.0132 - binary_crossentropy: 0.0132 - mean_squared_error: 0.0032 - acc: 0.9963 - val_loss: 0.0458 - val_binary_crossentropy: 0.0458 - val_mean_squared_error: 0.0090 - val_acc: 0.9895\n",
      "Epoch 92/100\n",
      "50000/50000 [==============================] - 8s - loss: 0.0129 - binary_crossentropy: 0.0129 - mean_squared_error: 0.0031 - acc: 0.9963 - val_loss: 0.0463 - val_binary_crossentropy: 0.0463 - val_mean_squared_error: 0.0091 - val_acc: 0.9894\n",
      "Epoch 93/100\n",
      "50000/50000 [==============================] - 7s - loss: 0.0127 - binary_crossentropy: 0.0127 - mean_squared_error: 0.0031 - acc: 0.9964 - val_loss: 0.0470 - val_binary_crossentropy: 0.0470 - val_mean_squared_error: 0.0092 - val_acc: 0.9893\n",
      "Epoch 94/100\n",
      "50000/50000 [==============================] - 7s - loss: 0.0124 - binary_crossentropy: 0.0124 - mean_squared_error: 0.0030 - acc: 0.9965 - val_loss: 0.0468 - val_binary_crossentropy: 0.0468 - val_mean_squared_error: 0.0091 - val_acc: 0.9893\n",
      "Epoch 95/100\n",
      "50000/50000 [==============================] - 8s - loss: 0.0121 - binary_crossentropy: 0.0121 - mean_squared_error: 0.0029 - acc: 0.9966 - val_loss: 0.0476 - val_binary_crossentropy: 0.0476 - val_mean_squared_error: 0.0092 - val_acc: 0.9893\n",
      "Epoch 96/100\n"
     ]
    },
    {
     "name": "stdout",
     "output_type": "stream",
     "text": [
      "50000/50000 [==============================] - 8s - loss: 0.0119 - binary_crossentropy: 0.0119 - mean_squared_error: 0.0029 - acc: 0.9966 - val_loss: 0.0476 - val_binary_crossentropy: 0.0476 - val_mean_squared_error: 0.0092 - val_acc: 0.9892\n",
      "Epoch 97/100\n",
      "50000/50000 [==============================] - 8s - loss: 0.0116 - binary_crossentropy: 0.0116 - mean_squared_error: 0.0028 - acc: 0.9967 - val_loss: 0.0475 - val_binary_crossentropy: 0.0475 - val_mean_squared_error: 0.0092 - val_acc: 0.9893\n",
      "Epoch 98/100\n",
      "50000/50000 [==============================] - 8s - loss: 0.0114 - binary_crossentropy: 0.0114 - mean_squared_error: 0.0027 - acc: 0.9968 - val_loss: 0.0485 - val_binary_crossentropy: 0.0485 - val_mean_squared_error: 0.0093 - val_acc: 0.9891\n",
      "Epoch 99/100\n",
      "50000/50000 [==============================] - 8s - loss: 0.0111 - binary_crossentropy: 0.0111 - mean_squared_error: 0.0027 - acc: 0.9969 - val_loss: 0.0486 - val_binary_crossentropy: 0.0486 - val_mean_squared_error: 0.0093 - val_acc: 0.9892\n",
      "Epoch 100/100\n",
      "50000/50000 [==============================] - 7s - loss: 0.0108 - binary_crossentropy: 0.0108 - mean_squared_error: 0.0026 - acc: 0.9970 - val_loss: 0.0491 - val_binary_crossentropy: 0.0491 - val_mean_squared_error: 0.0093 - val_acc: 0.9891\n"
     ]
    }
   ],
   "source": [
    "OPT = Adam(0.00001)\n",
    "classifier_noRes.compile(loss='binary_crossentropy', optimizer=OPT, metrics=['binary_crossentropy', 'mse','acc'])\n",
    "hist_NoResNet_SELU = classifier_noRes.fit(x_train,y_train, batch_size=64, epochs=100, validation_data=(x_test, y_test))"
   ]
  },
  {
   "cell_type": "code",
   "execution_count": 30,
   "metadata": {},
   "outputs": [
    {
     "data": {
      "text/plain": [
       "[<matplotlib.lines.Line2D at 0x7fdea415bcc0>]"
      ]
     },
     "execution_count": 30,
     "metadata": {},
     "output_type": "execute_result"
    },
    {
     "data": {
      "image/png": "[encoded data removed]",
      "text/plain": [
       "<matplotlib.figure.Figure at 0x7fdea415bda0>"
      ]
     },
     "metadata": {},
     "output_type": "display_data"
    }
   ],
   "source": [
    "plt.plot(hist_NoResNet_SELU.history['loss'])\n",
    "plt.plot(hist_NoResNet_SELU.history['val_loss'])"
   ]
  },
  {
   "cell_type": "code",
   "execution_count": 31,
   "metadata": {},
   "outputs": [
    {
     "data": {
      "text/plain": [
       "[<matplotlib.lines.Line2D at 0x7fdea40db978>]"
      ]
     },
     "execution_count": 31,
     "metadata": {},
     "output_type": "execute_result"
    },
    {
     "data": {
      "image/png": "[encoded data removed]",
      "text/plain": [
       "<matplotlib.figure.Figure at 0x7fdea40dbb70>"
      ]
     },
     "metadata": {},
     "output_type": "display_data"
    }
   ],
   "source": [
    "plt.plot(hist_NoResNet_SELU.history['acc'])\n",
    "plt.plot(hist_NoResNet_SELU.history['val_acc'])"
   ]
  },
  {
   "cell_type": "code",
   "execution_count": null,
   "metadata": {
    "collapsed": true
   },
   "outputs": [],
   "source": []
  },
  {
   "cell_type": "markdown",
   "metadata": {},
   "source": [
    "## DenseNet"
   ]
  },
  {
   "cell_type": "code",
   "execution_count": 32,
   "metadata": {},
   "outputs": [
    {
     "name": "stdout",
     "output_type": "stream",
     "text": [
      "____________________________________________________________________________________________________\n",
      "Layer (type)                     Output Shape          Param #     Connected to                     \n",
      "====================================================================================================\n",
      "input_6 (InputLayer)             (None, 9, 4, 87)      0                                            \n",
      "____________________________________________________________________________________________________\n",
      "dense_block_1 (Conv2D)           (None, 9, 4, 87)      68208       input_6[0][0]                    \n",
      "____________________________________________________________________________________________________\n",
      "dense_block_2 (Conv2D)           (None, 9, 4, 87)      68208       dense_block_1[0][0]              \n",
      "____________________________________________________________________________________________________\n",
      "add_14 (Add)                     (None, 9, 4, 87)      0           input_6[0][0]                    \n",
      "                                                                   dense_block_2[0][0]              \n",
      "____________________________________________________________________________________________________\n",
      "dense_block_3 (Conv2D)           (None, 9, 4, 87)      68208       add_14[0][0]                     \n",
      "____________________________________________________________________________________________________\n",
      "add_15 (Add)                     (None, 9, 4, 87)      0           input_6[0][0]                    \n",
      "                                                                   dense_block_1[0][0]              \n",
      "                                                                   dense_block_3[0][0]              \n",
      "____________________________________________________________________________________________________\n",
      "dense_block_4 (Conv2D)           (None, 9, 4, 87)      68208       add_15[0][0]                     \n",
      "____________________________________________________________________________________________________\n",
      "add_16 (Add)                     (None, 9, 4, 87)      0           input_6[0][0]                    \n",
      "                                                                   dense_block_1[0][0]              \n",
      "                                                                   dense_block_2[0][0]              \n",
      "                                                                   dense_block_4[0][0]              \n",
      "____________________________________________________________________________________________________\n",
      "dense_block_5 (Conv2D)           (None, 9, 4, 87)      68208       add_16[0][0]                     \n",
      "____________________________________________________________________________________________________\n",
      "add_17 (Add)                     (None, 9, 4, 87)      0           input_6[0][0]                    \n",
      "                                                                   dense_block_1[0][0]              \n",
      "                                                                   dense_block_2[0][0]              \n",
      "                                                                   dense_block_3[0][0]              \n",
      "                                                                   dense_block_5[0][0]              \n",
      "____________________________________________________________________________________________________\n",
      "dense_block_6 (Conv2D)           (None, 9, 4, 87)      68208       add_17[0][0]                     \n",
      "____________________________________________________________________________________________________\n",
      "add_18 (Add)                     (None, 9, 4, 87)      0           input_6[0][0]                    \n",
      "                                                                   dense_block_1[0][0]              \n",
      "                                                                   dense_block_2[0][0]              \n",
      "                                                                   dense_block_3[0][0]              \n",
      "                                                                   dense_block_4[0][0]              \n",
      "                                                                   dense_block_6[0][0]              \n",
      "====================================================================================================\n",
      "Total params: 409,248\n",
      "Trainable params: 409,248\n",
      "Non-trainable params: 0\n",
      "____________________________________________________________________________________________________\n"
     ]
    }
   ],
   "source": [
    "dense_block_input = Input((9,4,87))\n",
    "dense_block_1     = Conv2D(87, 3 , strides=1,name='dense_block_1' , activation='selu', padding='same', kernel_initializer='lecun_normal')(dense_block_input)\n",
    "dense_block_2     = Conv2D(87, 3 , strides=1,name='dense_block_2' , padding='same', activation='selu', kernel_initializer='lecun_normal')(dense_block_1)\n",
    "dense_block_add1  = Add()([dense_block_input, dense_block_2])\n",
    "dense_block_3     = Conv2D(87, 3 , strides=1,name='dense_block_3' , padding='same', activation='selu', kernel_initializer='lecun_normal')(dense_block_add1)\n",
    "dense_block_add2  = Add()([dense_block_input, dense_block_1, dense_block_3])\n",
    "dense_block_4     = Conv2D(87, 3 , strides=1,name='dense_block_4' , padding='same', activation='selu', kernel_initializer='lecun_normal')(dense_block_add2)\n",
    "dense_block_add3  = Add()([dense_block_input, dense_block_1, dense_block_2, dense_block_4])\n",
    "dense_block_5     = Conv2D(87, 3 , strides=1,name='dense_block_5' , padding='same', activation='selu', kernel_initializer='lecun_normal')(dense_block_add3)\n",
    "dense_block_add4  = Add()([dense_block_input, dense_block_1, dense_block_2, dense_block_3, dense_block_5])\n",
    "dense_block_6     = Conv2D(87, 3 , strides=1,name='dense_block_6' , padding='same', activation='selu', kernel_initializer='lecun_normal')(dense_block_add4)\n",
    "dense_block_add5  = Add()([dense_block_input, dense_block_1, dense_block_2, dense_block_3, dense_block_4, dense_block_6])\n",
    "res_block = Model(dense_block_input, dense_block_add5, name='dense_block')\n",
    "plot_model(res_block, 'Dense_block.png')\n",
    "res_block.summary()"
   ]
  },
  {
   "cell_type": "code",
   "execution_count": null,
   "metadata": {
    "collapsed": true
   },
   "outputs": [],
   "source": []
  }
 ],
 "metadata": {
  "kernelspec": {
   "display_name": "Python 3",
   "language": "python",
   "name": "python3"
  },
  "language_info": {
   "codemirror_mode": {
    "name": "ipython",
    "version": 3
   },
   "file_extension": ".py",
   "mimetype": "text/x-python",
   "name": "python",
   "nbconvert_exporter": "python",
   "pygments_lexer": "ipython3",
   "version": "3.6.1"
  }
 },
 "nbformat": 4,
 "nbformat_minor": 2
}
