{
 "cells": [
  {
   "cell_type": "code",
   "execution_count": 1,
   "metadata": {},
   "outputs": [
    {
     "name": "stderr",
     "output_type": "stream",
     "text": [
      "Using TensorFlow backend.\n"
     ]
    }
   ],
   "source": [
    "%matplotlib inline\n",
    "import matplotlib.pyplot as plt\n",
    "import numpy as np\n",
    "from keras.models import Model\n",
    "from keras.callbacks import *\n",
    "from keras.layers import Input, Dense, Flatten,Activation, BatchNormalization, Conv2D, Conv2DTranspose, MaxPooling2D, Add, AveragePooling2D\n",
    "from keras.activations import *\n",
    "from keras.datasets import cifar,cifar10,cifar100\n",
    "from keras.utils import to_categorical, plot_model\n",
    "from keras.optimizers import *"
   ]
  },
  {
   "cell_type": "code",
   "execution_count": 5,
   "metadata": {},
   "outputs": [
    {
     "name": "stdout",
     "output_type": "stream",
     "text": [
      "____________________________________________________________________________________________________\n",
      "Layer (type)                     Output Shape          Param #     Connected to                     \n",
      "====================================================================================================\n",
      "input_4 (InputLayer)             (None, 9, 4, 87)      0                                            \n",
      "____________________________________________________________________________________________________\n",
      "batch_normalization_7 (BatchNorm (None, 9, 4, 87)      348         input_4[0][0]                    \n",
      "____________________________________________________________________________________________________\n",
      "activation_7 (Activation)        (None, 9, 4, 87)      0           batch_normalization_7[0][0]      \n",
      "____________________________________________________________________________________________________\n",
      "conv2d_6 (Conv2D)                (None, 9, 4, 87)      68208       activation_7[0][0]               \n",
      "____________________________________________________________________________________________________\n",
      "batch_normalization_8 (BatchNorm (None, 9, 4, 87)      348         conv2d_6[0][0]                   \n",
      "____________________________________________________________________________________________________\n",
      "activation_8 (Activation)        (None, 9, 4, 87)      0           batch_normalization_8[0][0]      \n",
      "____________________________________________________________________________________________________\n",
      "conv2d_7 (Conv2D)                (None, 9, 4, 87)      68208       activation_8[0][0]               \n",
      "____________________________________________________________________________________________________\n",
      "add_3 (Add)                      (None, 9, 4, 87)      0           input_4[0][0]                    \n",
      "                                                                   conv2d_7[0][0]                   \n",
      "====================================================================================================\n",
      "Total params: 137,112\n",
      "Trainable params: 136,764\n",
      "Non-trainable params: 348\n",
      "____________________________________________________________________________________________________\n"
     ]
    }
   ],
   "source": [
    "res_input = Input((9,4,87))\n",
    "res_1     = BatchNormalization()(res_input)\n",
    "res_1     = Activation('relu')(res_1)\n",
    "res_1     = Conv2D(87, 3, strides=1, padding='same')(res_1)\n",
    "res_1     = BatchNormalization()(res_1)\n",
    "res_1     = Activation('relu')(res_1)\n",
    "res_1     = Conv2D(87, 3, strides=1, padding='same')(res_1)\n",
    "res_a     = Add()([res_input, res_1])\n",
    "\n",
    "res_block = Model(res_input,res_a)\n",
    "res_block.summary()\n",
    "plot_model(res_block, 'livecode.png', show_layer_names=False)"
   ]
  },
  {
   "cell_type": "code",
   "execution_count": null,
   "metadata": {
    "collapsed": true
   },
   "outputs": [],
   "source": []
  }
 ],
 "metadata": {
  "kernelspec": {
   "display_name": "Python 3",
   "language": "python",
   "name": "python3"
  },
  "language_info": {
   "codemirror_mode": {
    "name": "ipython",
    "version": 3
   },
   "file_extension": ".py",
   "mimetype": "text/x-python",
   "name": "python",
   "nbconvert_exporter": "python",
   "pygments_lexer": "ipython3",
   "version": "3.6.1"
  }
 },
 "nbformat": 4,
 "nbformat_minor": 2
}
