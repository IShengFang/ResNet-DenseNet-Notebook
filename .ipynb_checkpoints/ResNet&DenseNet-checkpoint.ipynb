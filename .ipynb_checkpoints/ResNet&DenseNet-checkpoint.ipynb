{
 "cells": [
  {
   "cell_type": "markdown",
   "metadata": {},
   "source": [
    "# ResNet(CVPR 2016), DenseNet 101\n",
    "## ResNet\n",
    "Deep Residual Learning for Image Recognition\n",
    "He, Kaiming, et al. \"Deep residual learning for image recognition.\" Proceedings of the IEEE conference on computer vision and pattern recognition. 2016.\n",
    "https://www.cv-foundation.org/openaccess/content_cvpr_2016/papers/He_Deep_Residual_Learning_CVPR_2016_paper.pdf\n",
    "## DenseNet\n",
    "Densely connected convolutional networks.\n",
    "Huang, Gao, et al. \"Densely connected convolutional networks.\" Proceedings of the IEEE conference on computer vision and pattern recognition. 2017.\n",
    "http://openaccess.thecvf.com/content_cvpr_2017/papers/Huang_Densely_Connected_Convolutional_CVPR_2017_paper.pdf"
   ]
  },
  {
   "cell_type": "markdown",
   "metadata": {},
   "source": [
    "### Import "
   ]
  },
  {
   "cell_type": "code",
   "execution_count": 1,
   "metadata": {
    "collapsed": true
   },
   "outputs": [],
   "source": [
    "%matplotlib inline\n",
    "import matplotlib.pyplot as plt\n",
    "import numpy as np"
   ]
  },
  {
   "cell_type": "code",
   "execution_count": 2,
   "metadata": {},
   "outputs": [
    {
     "name": "stderr",
     "output_type": "stream",
     "text": [
      "Using TensorFlow backend.\n"
     ]
    }
   ],
   "source": [
    "from keras.models import Model\n",
    "from keras.callbacks import *\n",
    "from keras.layers import Input, Dense, Flatten,Activation, BatchNormalization, Conv2D, Conv2DTranspose, MaxPooling2D, Add, AveragePooling2D\n",
    "from keras.activations import *\n",
    "from keras.datasets import cifar,cifar10,cifar100\n",
    "from keras.utils import to_categorical, plot_model\n",
    "from keras.optimizers import *"
   ]
  },
  {
   "cell_type": "code",
   "execution_count": 3,
   "metadata": {
    "collapsed": true
   },
   "outputs": [],
   "source": [
    "(x_train, y_train), (x_test, y_test) = cifar100.load_data()"
   ]
  },
  {
   "cell_type": "code",
   "execution_count": 4,
   "metadata": {
    "collapsed": true
   },
   "outputs": [],
   "source": [
    "y_train = to_categorical(y_train, num_classes=100)\n",
    "y_test  = to_categorical(y_test, num_classes=100)"
   ]
  },
  {
   "cell_type": "code",
   "execution_count": 5,
   "metadata": {},
   "outputs": [
    {
     "data": {
      "text/plain": [
       "(50000, 32, 32, 3)"
      ]
     },
     "execution_count": 5,
     "metadata": {},
     "output_type": "execute_result"
    }
   ],
   "source": [
    "x_train.shape"
   ]
  },
  {
   "cell_type": "code",
   "execution_count": 6,
   "metadata": {},
   "outputs": [
    {
     "data": {
      "text/plain": [
       "(50000, 100)"
      ]
     },
     "execution_count": 6,
     "metadata": {},
     "output_type": "execute_result"
    }
   ],
   "source": [
    "y_train.shape"
   ]
  },
  {
   "cell_type": "code",
   "execution_count": 7,
   "metadata": {},
   "outputs": [
    {
     "data": {
      "text/plain": [
       "<matplotlib.image.AxesImage at 0x7f071cc9f390>"
      ]
     },
     "execution_count": 7,
     "metadata": {},
     "output_type": "execute_result"
    },
    {
     "data": {
      "image/png": "[encoded data removed]",
      "text/plain": [
       "<matplotlib.figure.Figure at 0x7f071cd462e8>"
      ]
     },
     "metadata": {},
     "output_type": "display_data"
    }
   ],
   "source": [
    "plt.imshow(x_train[87])"
   ]
  },
  {
   "cell_type": "markdown",
   "metadata": {},
   "source": [
    "## ResNet"
   ]
  },
  {
   "cell_type": "markdown",
   "metadata": {},
   "source": [
    "### What is Residual?\n",
    "Just a error of funtion output. o'_'o   \n",
    "For pretty simple PR reason, we cannot call our net is ErrorNet.   \n",
    ">**It was not OK.**   \n",
    "\n",
    "#### Definition \n",
    "If we have a function $f(x) =b$  \n",
    "Given an apporxination $x_0\\in X$, the *residual* of $f(x)$ is $$b-f(x_0)$$\n",
    "\n",
    "#### Residaul V. Error\n",
    "Error $$x-x_0$$\n",
    "Residual $$f(x)-f(x_0)$$\n",
    "\n",
    "#### How to use it in NN?\n",
    "It's pretty simple. \n",
    "> **Layer is a fucntion** (Roughly)\n",
    "\n",
    "\n",
    "Given we have two mapping of two layers $f,g$, identity function $i$, $H$ is desired mapping of whole block, $F$ is desired mapping of $g\\circ f$. $X$ is a vector space.\n",
    "$$X \\overset{f}{\\longrightarrow} X \\overset{g}{\\longrightarrow} X $$\n",
    "$$x \\longmapsto f(x)  \\longmapsto g\\circ f(x) $$\n",
    "$$i: X\\longrightarrow X$$\n",
    "$$  x \\longmapsto x $$\n",
    "$$H,F: X\\longrightarrow X$$\n",
    "we hope $ g\\circ f$ can be apporched $F$.  \n",
    "  \n",
    "Let $$ H(x) = F(x)+x$$\n",
    "so $$F(x) = H(x)-x$$\n",
    "Given $x_0$ is the apporch value we have.  \n",
    "And the residual of $H$ is $$H(x)-H(x_0)$$  \n",
    "Since\n",
    "$$H(x)= F(x)+x$$\n",
    "$$H(x_0)= F(x_0)+x_0$$\n",
    "we can know that\n",
    "$$ H(x)-H(x_0) = F(x)-F(x_0)+x-x_0$$\n",
    "  \n",
    "Also. If we consider $\\hat{H}, \\hat{F}$ is the mapping we have now.\n",
    "Since\n",
    "$$H(x)= F(x)+x$$\n",
    "$$\\hat{H}(x)=\\hat{F}(x)+x$$\n",
    "so we can get\n",
    "$$H(x)-\\hat{H}(x) = F(x)-\\hat{F}(x)$$\n",
    "\n"
   ]
  },
  {
   "cell_type": "markdown",
   "metadata": {},
   "source": [
    "#### Resdual Block"
   ]
  },
  {
   "cell_type": "code",
   "execution_count": 8,
   "metadata": {},
   "outputs": [
    {
     "name": "stdout",
     "output_type": "stream",
     "text": [
      "____________________________________________________________________________________________________\n",
      "Layer (type)                     Output Shape          Param #     Connected to                     \n",
      "====================================================================================================\n",
      "input_1 (InputLayer)             (None, 9, 4, 87)      0                                            \n",
      "____________________________________________________________________________________________________\n",
      "batch_normalization_1 (BatchNorm (None, 9, 4, 87)      348         input_1[0][0]                    \n",
      "____________________________________________________________________________________________________\n",
      "activation_1 (Activation)        (None, 9, 4, 87)      0           batch_normalization_1[0][0]      \n",
      "____________________________________________________________________________________________________\n",
      "conv2d_1 (Conv2D)                (None, 9, 4, 87)      68208       activation_1[0][0]               \n",
      "____________________________________________________________________________________________________\n",
      "batch_normalization_2 (BatchNorm (None, 9, 4, 87)      348         conv2d_1[0][0]                   \n",
      "____________________________________________________________________________________________________\n",
      "activation_2 (Activation)        (None, 9, 4, 87)      0           batch_normalization_2[0][0]      \n",
      "____________________________________________________________________________________________________\n",
      "conv2d_2 (Conv2D)                (None, 9, 4, 87)      68208       activation_2[0][0]               \n",
      "____________________________________________________________________________________________________\n",
      "add_1 (Add)                      (None, 9, 4, 87)      0           input_1[0][0]                    \n",
      "                                                                   conv2d_2[0][0]                   \n",
      "====================================================================================================\n",
      "Total params: 137,112\n",
      "Trainable params: 136,764\n",
      "Non-trainable params: 348\n",
      "____________________________________________________________________________________________________\n"
     ]
    }
   ],
   "source": [
    "res_block_input = Input((9,4,87))\n",
    "res_block_1     = BatchNormalization()(res_block_input)\n",
    "res_block_1     = Activation('relu')(res_block_1)\n",
    "res_block_1     = Conv2D(87, 3 , strides=1, padding='same')(res_block_1)\n",
    "res_block_2     = BatchNormalization()(res_block_1)\n",
    "res_block_2     = Activation('relu')(res_block_2)\n",
    "res_block_2     = Conv2D(87, 3 , strides=1, padding='same')(res_block_2)\n",
    "res_block_add   = Add()([res_block_input, res_block_2])\n",
    "\n",
    "res_block = Model(res_block_input, res_block_add, name='res_block')\n",
    "plot_model(res_block, 'resnres_block.png', show_layer_names=False)\n",
    "res_block.summary()"
   ]
  },
  {
   "cell_type": "markdown",
   "metadata": {},
   "source": [
    "### Original version ResNet(ReLu+Batch Normalization)"
   ]
  },
  {
   "cell_type": "markdown",
   "metadata": {
    "collapsed": true
   },
   "source": [
    "#### With Resdual Block"
   ]
  },
  {
   "cell_type": "code",
   "execution_count": null,
   "metadata": {},
   "outputs": [
    {
     "name": "stdout",
     "output_type": "stream",
     "text": [
      "____________________________________________________________________________________________________\n",
      "Layer (type)                     Output Shape          Param #     Connected to                     \n",
      "====================================================================================================\n",
      "input_2 (InputLayer)             (None, 32, 32, 3)     0                                            \n",
      "____________________________________________________________________________________________________\n",
      "conv2d_3 (Conv2D)                (None, 16, 16, 64)    1792        input_2[0][0]                    \n",
      "____________________________________________________________________________________________________\n",
      "max_pooling2d_1 (MaxPooling2D)   (None, 8, 8, 64)      0           conv2d_3[0][0]                   \n",
      "____________________________________________________________________________________________________\n",
      "batch_normalization_3 (BatchNorm (None, 8, 8, 64)      256         max_pooling2d_1[0][0]            \n",
      "____________________________________________________________________________________________________\n",
      "activation_3 (Activation)        (None, 8, 8, 64)      0           batch_normalization_3[0][0]      \n",
      "____________________________________________________________________________________________________\n",
      "conv2d_4 (Conv2D)                (None, 8, 8, 64)      36928       activation_3[0][0]               \n",
      "____________________________________________________________________________________________________\n",
      "batch_normalization_4 (BatchNorm (None, 8, 8, 64)      256         conv2d_4[0][0]                   \n",
      "____________________________________________________________________________________________________\n",
      "activation_4 (Activation)        (None, 8, 8, 64)      0           batch_normalization_4[0][0]      \n",
      "____________________________________________________________________________________________________\n",
      "conv2d_5 (Conv2D)                (None, 8, 8, 64)      36928       activation_4[0][0]               \n",
      "____________________________________________________________________________________________________\n",
      "add_2 (Add)                      (None, 8, 8, 64)      0           max_pooling2d_1[0][0]            \n",
      "                                                                   conv2d_5[0][0]                   \n",
      "____________________________________________________________________________________________________\n",
      "batch_normalization_5 (BatchNorm (None, 8, 8, 64)      256         add_2[0][0]                      \n",
      "____________________________________________________________________________________________________\n",
      "activation_5 (Activation)        (None, 8, 8, 64)      0           batch_normalization_5[0][0]      \n",
      "____________________________________________________________________________________________________\n",
      "conv2d_6 (Conv2D)                (None, 8, 8, 64)      36928       activation_5[0][0]               \n",
      "____________________________________________________________________________________________________\n",
      "batch_normalization_6 (BatchNorm (None, 8, 8, 64)      256         conv2d_6[0][0]                   \n",
      "____________________________________________________________________________________________________\n",
      "activation_6 (Activation)        (None, 8, 8, 64)      0           batch_normalization_6[0][0]      \n",
      "____________________________________________________________________________________________________\n",
      "conv2d_7 (Conv2D)                (None, 8, 8, 64)      36928       activation_6[0][0]               \n",
      "____________________________________________________________________________________________________\n",
      "add_3 (Add)                      (None, 8, 8, 64)      0           add_2[0][0]                      \n",
      "                                                                   conv2d_7[0][0]                   \n",
      "____________________________________________________________________________________________________\n",
      "batch_normalization_7 (BatchNorm (None, 8, 8, 64)      256         add_3[0][0]                      \n",
      "____________________________________________________________________________________________________\n",
      "activation_7 (Activation)        (None, 8, 8, 64)      0           batch_normalization_7[0][0]      \n",
      "____________________________________________________________________________________________________\n",
      "conv2d_8 (Conv2D)                (None, 8, 8, 64)      36928       activation_7[0][0]               \n",
      "____________________________________________________________________________________________________\n",
      "batch_normalization_8 (BatchNorm (None, 8, 8, 64)      256         conv2d_8[0][0]                   \n",
      "____________________________________________________________________________________________________\n",
      "activation_8 (Activation)        (None, 8, 8, 64)      0           batch_normalization_8[0][0]      \n",
      "____________________________________________________________________________________________________\n",
      "conv2d_9 (Conv2D)                (None, 8, 8, 64)      36928       activation_8[0][0]               \n",
      "____________________________________________________________________________________________________\n",
      "add_4 (Add)                      (None, 8, 8, 64)      0           add_3[0][0]                      \n",
      "                                                                   conv2d_9[0][0]                   \n",
      "____________________________________________________________________________________________________\n",
      "conv2d_10 (Conv2D)               (None, 4, 4, 128)     73856       add_4[0][0]                      \n",
      "____________________________________________________________________________________________________\n",
      "conv2d_11 (Conv2D)               (None, 4, 4, 128)     147584      conv2d_10[0][0]                  \n",
      "____________________________________________________________________________________________________\n",
      "batch_normalization_9 (BatchNorm (None, 4, 4, 128)     512         conv2d_11[0][0]                  \n",
      "____________________________________________________________________________________________________\n",
      "activation_9 (Activation)        (None, 4, 4, 128)     0           batch_normalization_9[0][0]      \n",
      "____________________________________________________________________________________________________\n",
      "conv2d_12 (Conv2D)               (None, 4, 4, 128)     147584      activation_9[0][0]               \n",
      "____________________________________________________________________________________________________\n",
      "batch_normalization_10 (BatchNor (None, 4, 4, 128)     512         conv2d_12[0][0]                  \n",
      "____________________________________________________________________________________________________\n",
      "activation_10 (Activation)       (None, 4, 4, 128)     0           batch_normalization_10[0][0]     \n",
      "____________________________________________________________________________________________________\n",
      "conv2d_13 (Conv2D)               (None, 4, 4, 128)     147584      activation_10[0][0]              \n",
      "____________________________________________________________________________________________________\n",
      "add_5 (Add)                      (None, 4, 4, 128)     0           conv2d_11[0][0]                  \n",
      "                                                                   conv2d_13[0][0]                  \n",
      "____________________________________________________________________________________________________\n",
      "batch_normalization_11 (BatchNor (None, 4, 4, 128)     512         add_5[0][0]                      \n",
      "____________________________________________________________________________________________________\n",
      "activation_11 (Activation)       (None, 4, 4, 128)     0           batch_normalization_11[0][0]     \n",
      "____________________________________________________________________________________________________\n",
      "conv2d_14 (Conv2D)               (None, 4, 4, 128)     147584      activation_11[0][0]              \n",
      "____________________________________________________________________________________________________\n",
      "batch_normalization_12 (BatchNor (None, 4, 4, 128)     512         conv2d_14[0][0]                  \n",
      "____________________________________________________________________________________________________\n",
      "activation_12 (Activation)       (None, 4, 4, 128)     0           batch_normalization_12[0][0]     \n",
      "____________________________________________________________________________________________________\n",
      "conv2d_15 (Conv2D)               (None, 4, 4, 128)     147584      activation_12[0][0]              \n",
      "____________________________________________________________________________________________________\n",
      "add_6 (Add)                      (None, 4, 4, 128)     0           add_5[0][0]                      \n",
      "                                                                   conv2d_15[0][0]                  \n",
      "____________________________________________________________________________________________________\n",
      "batch_normalization_13 (BatchNor (None, 4, 4, 128)     512         add_6[0][0]                      \n",
      "____________________________________________________________________________________________________\n",
      "activation_13 (Activation)       (None, 4, 4, 128)     0           batch_normalization_13[0][0]     \n",
      "____________________________________________________________________________________________________\n",
      "conv2d_16 (Conv2D)               (None, 4, 4, 128)     147584      activation_13[0][0]              \n",
      "____________________________________________________________________________________________________\n",
      "batch_normalization_14 (BatchNor (None, 4, 4, 128)     512         conv2d_16[0][0]                  \n",
      "____________________________________________________________________________________________________\n",
      "activation_14 (Activation)       (None, 4, 4, 128)     0           batch_normalization_14[0][0]     \n",
      "____________________________________________________________________________________________________\n",
      "conv2d_17 (Conv2D)               (None, 4, 4, 128)     147584      activation_14[0][0]              \n",
      "____________________________________________________________________________________________________\n",
      "add_7 (Add)                      (None, 4, 4, 128)     0           add_6[0][0]                      \n",
      "                                                                   conv2d_17[0][0]                  \n",
      "____________________________________________________________________________________________________\n",
      "average_pooling2d_1 (AveragePool (None, 2, 2, 128)     0           add_7[0][0]                      \n",
      "____________________________________________________________________________________________________\n",
      "flatten_1 (Flatten)              (None, 512)           0           average_pooling2d_1[0][0]        \n",
      "____________________________________________________________________________________________________\n",
      "dense_1 (Dense)                  (None, 100)           51300       flatten_1[0][0]                  \n",
      "====================================================================================================\n",
      "Total params: 1,386,212\n",
      "Trainable params: 1,383,908\n",
      "Non-trainable params: 2,304\n",
      "____________________________________________________________________________________________________\n"
     ]
    }
   ],
   "source": [
    "cl_in      = Input(shape=x_train.shape[1:])\n",
    "cl_conv_1  = Conv2D(64, 3, strides=2, activation='selu', padding='same', kernel_initializer='lecun_normal')(cl_in)\n",
    "cl_pl_1    = MaxPooling2D()(cl_conv_1)\n",
    "cl_res_1_1 = BatchNormalization()(cl_pl_1)\n",
    "cl_res_1_1 = Activation('relu')(cl_res_1_1)\n",
    "cl_res_1_1 = Conv2D(64, 3, strides=1, padding='same', kernel_initializer='lecun_normal')(cl_res_1_1)\n",
    "cl_res_1_2 = BatchNormalization()(cl_res_1_1)\n",
    "cl_res_1_2 = Activation('relu')(cl_res_1_2)\n",
    "cl_res_1_2 = Conv2D(64, 3, strides=1, padding='same', kernel_initializer='lecun_normal')(cl_res_1_2)\n",
    "cl_res_1_a = Add()([cl_pl_1, cl_res_1_2])\n",
    "cl_res_2_1 = BatchNormalization()(cl_res_1_a)\n",
    "cl_res_2_1 = Activation('relu')(cl_res_2_1)\n",
    "cl_res_2_1 = Conv2D(64, 3, strides=1, padding='same', kernel_initializer='lecun_normal')(cl_res_2_1)\n",
    "cl_res_2_2 = BatchNormalization()(cl_res_2_1)\n",
    "cl_res_2_2 = Activation('relu')(cl_res_2_2)\n",
    "cl_res_2_2 = Conv2D(64, 3, strides=1, padding='same', kernel_initializer='lecun_normal')(cl_res_2_2)\n",
    "cl_res_2_a = Add()([cl_res_1_a, cl_res_2_2])\n",
    "cl_res_3_1 = BatchNormalization()(cl_res_2_a)\n",
    "cl_res_3_1 = Activation('relu')(cl_res_3_1)\n",
    "cl_res_3_1 = Conv2D(64, 3, strides=1, padding='same', kernel_initializer='lecun_normal')(cl_res_3_1)\n",
    "cl_res_3_2 = BatchNormalization()(cl_res_3_1)\n",
    "cl_res_3_2 = Activation('relu')(cl_res_3_2)\n",
    "cl_res_3_2 = Conv2D(64, 3, strides=1, padding='same', kernel_initializer='lecun_normal')(cl_res_3_2)\n",
    "cl_res_3_a = Add()([cl_res_2_a, cl_res_3_2])\n",
    "cl_conv_2  = Conv2D(128, 3, strides=2, padding='same', kernel_initializer='lecun_normal')(cl_res_3_a)\n",
    "cl_conv_2  = Conv2D(128, 3, strides=1, padding='same', kernel_initializer='lecun_normal')(cl_conv_2)\n",
    "cl_res_4_1 = BatchNormalization()(cl_conv_2)\n",
    "cl_res_4_1 = Activation('relu')(cl_res_4_1)\n",
    "cl_res_4_1 = Conv2D(128, 3, strides=1, padding='same', kernel_initializer='lecun_normal')(cl_res_4_1)\n",
    "cl_res_4_2 = BatchNormalization()(cl_res_4_1)\n",
    "cl_res_4_2 = Activation('relu')(cl_res_4_2)\n",
    "cl_res_4_2 = Conv2D(128, 3, strides=1, padding='same', kernel_initializer='lecun_normal')(cl_res_4_2)\n",
    "cl_res_4_a = Add()([cl_conv_2, cl_res_4_2])\n",
    "cl_res_5_1 = BatchNormalization()(cl_res_4_a)\n",
    "cl_res_5_1 = Activation('relu')(cl_res_5_1)\n",
    "cl_res_5_1 = Conv2D(128, 3, strides=1, padding='same', kernel_initializer='lecun_normal')(cl_res_5_1)\n",
    "cl_res_5_2 = BatchNormalization()(cl_res_5_1)\n",
    "cl_res_5_2 = Activation('relu')(cl_res_5_2)\n",
    "cl_res_5_2 = Conv2D(128, 3, strides=1, padding='same', kernel_initializer='lecun_normal')(cl_res_5_2)\n",
    "cl_res_5_a = Add()([cl_res_4_a, cl_res_5_2])\n",
    "cl_res_6_1 = BatchNormalization()(cl_res_5_a)\n",
    "cl_res_6_1 = Activation('relu')(cl_res_6_1)\n",
    "cl_res_6_1 = Conv2D(128, 3, strides=1, padding='same', kernel_initializer='lecun_normal')(cl_res_6_1)\n",
    "cl_res_6_2 = BatchNormalization()(cl_res_6_1)\n",
    "cl_res_6_2 = Activation('relu')(cl_res_6_2)\n",
    "cl_res_6_2 = Conv2D(128, 3, strides=1, padding='same', kernel_initializer='lecun_normal')(cl_res_6_2)\n",
    "cl_res_6_a = Add()([cl_res_5_a, cl_res_6_2])\n",
    "cl_pl_2    = AveragePooling2D()(cl_res_6_a)\n",
    "cl_flatten = Flatten()(cl_pl_2)\n",
    "cl_fc100   = Dense(100, activation='softmax')(cl_flatten)\n",
    "classifier_ReLUBN = Model(cl_in, cl_fc100)\n",
    "plot_model(classifier_ReLUBN, 'resnet_ReLUBN.png', show_layer_names=False)\n",
    "classifier_ReLUBN.summary()"
   ]
  },
  {
   "cell_type": "code",
   "execution_count": null,
   "metadata": {
    "scrolled": true
   },
   "outputs": [
    {
     "name": "stdout",
     "output_type": "stream",
     "text": [
      "Train on 50000 samples, validate on 10000 samples\n",
      "Epoch 1/100\n",
      "50000/50000 [==============================] - 12s - loss: 0.2144 - binary_crossentropy: 0.2144 - mean_squared_error: 0.0184 - acc: 0.9804 - val_loss: 0.1982 - val_binary_crossentropy: 0.1982 - val_mean_squared_error: 0.0179 - val_acc: 0.9805\n",
      "Epoch 2/100\n",
      "50000/50000 [==============================] - 10s - loss: 0.1934 - binary_crossentropy: 0.1934 - mean_squared_error: 0.0177 - acc: 0.9806 - val_loss: 0.1916 - val_binary_crossentropy: 0.1916 - val_mean_squared_error: 0.0177 - val_acc: 0.9805\n",
      "Epoch 3/100\n",
      "50000/50000 [==============================] - 10s - loss: 0.1881 - binary_crossentropy: 0.1881 - mean_squared_error: 0.0173 - acc: 0.9807 - val_loss: 0.1850 - val_binary_crossentropy: 0.1850 - val_mean_squared_error: 0.0171 - val_acc: 0.9808\n",
      "Epoch 4/100\n",
      "50000/50000 [==============================] - 10s - loss: 0.1838 - binary_crossentropy: 0.1838 - mean_squared_error: 0.0170 - acc: 0.9809 - val_loss: 0.1846 - val_binary_crossentropy: 0.1846 - val_mean_squared_error: 0.0172 - val_acc: 0.9807\n",
      "Epoch 5/100\n",
      "50000/50000 [==============================] - 10s - loss: 0.1815 - binary_crossentropy: 0.1815 - mean_squared_error: 0.0167 - acc: 0.9811 - val_loss: 0.1805 - val_binary_crossentropy: 0.1805 - val_mean_squared_error: 0.0166 - val_acc: 0.9812\n",
      "Epoch 6/100\n",
      "50000/50000 [==============================] - 10s - loss: 0.1796 - binary_crossentropy: 0.1796 - mean_squared_error: 0.0165 - acc: 0.9812 - val_loss: 0.1797 - val_binary_crossentropy: 0.1797 - val_mean_squared_error: 0.0166 - val_acc: 0.9811\n",
      "Epoch 7/100\n",
      "50000/50000 [==============================] - 10s - loss: 0.1785 - binary_crossentropy: 0.1785 - mean_squared_error: 0.0164 - acc: 0.9813 - val_loss: 0.1783 - val_binary_crossentropy: 0.1783 - val_mean_squared_error: 0.0164 - val_acc: 0.9811\n",
      "Epoch 8/100\n",
      "50000/50000 [==============================] - 10s - loss: 0.1770 - binary_crossentropy: 0.1770 - mean_squared_error: 0.0161 - acc: 0.9815 - val_loss: 0.1759 - val_binary_crossentropy: 0.1759 - val_mean_squared_error: 0.0159 - val_acc: 0.9818\n",
      "Epoch 9/100\n",
      "50000/50000 [==============================] - 10s - loss: 0.1761 - binary_crossentropy: 0.1761 - mean_squared_error: 0.0160 - acc: 0.9816 - val_loss: 0.1784 - val_binary_crossentropy: 0.1784 - val_mean_squared_error: 0.0164 - val_acc: 0.9813\n",
      "Epoch 10/100\n",
      "50000/50000 [==============================] - 10s - loss: 0.1758 - binary_crossentropy: 0.1758 - mean_squared_error: 0.0159 - acc: 0.9816 - val_loss: 0.1745 - val_binary_crossentropy: 0.1745 - val_mean_squared_error: 0.0156 - val_acc: 0.9820\n",
      "Epoch 11/100\n",
      "20224/50000 [===========>..................] - ETA: 5s - loss: 0.1749 - binary_crossentropy: 0.1749 - mean_squared_error: 0.0157 - acc: 0.9819"
     ]
    }
   ],
   "source": [
    "OPT = Adam(0.00001)\n",
    "classifier_ReLUBN.compile(loss='binary_crossentropy', optimizer=OPT, metrics=['binary_crossentropy', 'mse','acc'])\n",
    "hist_classifier_ReLUBN_Res = classifier_ReLUBN.fit(x_train,y_train, batch_size=64, epochs=100, validation_data=(x_test, y_test))"
   ]
  },
  {
   "cell_type": "code",
   "execution_count": null,
   "metadata": {},
   "outputs": [],
   "source": [
    "plt.plot(hist_classifier_ReLUBN_Res.history['loss'])\n",
    "plt.plot(hist_classifier_ReLUBN_Res.history['val_loss'])"
   ]
  },
  {
   "cell_type": "code",
   "execution_count": null,
   "metadata": {},
   "outputs": [],
   "source": [
    "plt.plot(hist_classifier_ReLUBN_Res.history['acc'])\n",
    "plt.plot(hist_classifier_ReLUBN_Res.history['val_acc'])"
   ]
  },
  {
   "cell_type": "markdown",
   "metadata": {},
   "source": [
    "#### Without Resdual Block"
   ]
  },
  {
   "cell_type": "code",
   "execution_count": null,
   "metadata": {
    "scrolled": true
   },
   "outputs": [],
   "source": [
    "cl_in      = Input(shape=x_train.shape[1:])\n",
    "cl_conv_1  = Conv2D(64, 3, strides=2, activation='selu', padding='same', kernel_initializer='lecun_normal')(cl_in)\n",
    "cl_pl_1    = MaxPooling2D()(cl_conv_1)\n",
    "cl_res_1_1 = BatchNormalization()(cl_pl_1)\n",
    "cl_res_1_1 = Activation('relu')(cl_res_1_1)\n",
    "cl_res_1_1 = Conv2D(64, 3, strides=1, padding='same', kernel_initializer='lecun_normal')(cl_res_1_1)\n",
    "cl_res_1_2 = BatchNormalization()(cl_res_1_1)\n",
    "cl_res_1_2 = Activation('relu')(cl_res_1_2)\n",
    "cl_res_1_2 = Conv2D(64, 3, strides=1, padding='same', kernel_initializer='lecun_normal')(cl_res_1_2)\n",
    "cl_res_2_1 = BatchNormalization()(cl_res_1_2)\n",
    "cl_res_2_1 = Activation('relu')(cl_res_2_1)\n",
    "cl_res_2_1 = Conv2D(64, 3, strides=1, padding='same', kernel_initializer='lecun_normal')(cl_res_2_1)\n",
    "cl_res_2_2 = BatchNormalization()(cl_res_2_1)\n",
    "cl_res_2_2 = Activation('relu')(cl_res_2_2)\n",
    "cl_res_2_2 = Conv2D(64, 3, strides=1, padding='same', kernel_initializer='lecun_normal')(cl_res_2_2)\n",
    "cl_res_3_1 = BatchNormalization()(cl_res_2_2)\n",
    "cl_res_3_1 = Activation('relu')(cl_res_3_1)\n",
    "cl_res_3_1 = Conv2D(64, 3, strides=1, padding='same', kernel_initializer='lecun_normal')(cl_res_3_1)\n",
    "cl_res_3_2 = BatchNormalization()(cl_res_3_1)\n",
    "cl_res_3_2 = Activation('relu')(cl_res_3_2)\n",
    "cl_res_3_2 = Conv2D(64, 3, strides=1, padding='same', kernel_initializer='lecun_normal')(cl_res_3_2)\n",
    "cl_conv_2  = Conv2D(128, 3, strides=2, padding='same', kernel_initializer='lecun_normal')(cl_res_3_2)\n",
    "cl_conv_2  = Conv2D(128, 3, strides=1, padding='same', kernel_initializer='lecun_normal')(cl_conv_2)\n",
    "cl_res_4_1 = BatchNormalization()(cl_conv_2)\n",
    "cl_res_4_1 = Activation('relu')(cl_res_4_1)\n",
    "cl_res_4_1 = Conv2D(128, 3, strides=1, padding='same', kernel_initializer='lecun_normal')(cl_res_4_1)\n",
    "cl_res_4_2 = BatchNormalization()(cl_res_4_1)\n",
    "cl_res_4_2 = Activation('relu')(cl_res_4_2)\n",
    "cl_res_4_2 = Conv2D(128, 3, strides=1, padding='same', kernel_initializer='lecun_normal')(cl_res_4_2)\n",
    "cl_res_5_1 = BatchNormalization()(cl_res_4_2)\n",
    "cl_res_5_1 = Activation('relu')(cl_res_5_1)\n",
    "cl_res_5_1 = Conv2D(128, 3, strides=1, padding='same', kernel_initializer='lecun_normal')(cl_res_5_1)\n",
    "cl_res_5_2 = BatchNormalization()(cl_res_5_1)\n",
    "cl_res_5_2 = Activation('relu')(cl_res_5_2)\n",
    "cl_res_5_2 = Conv2D(128, 3, strides=1, padding='same', kernel_initializer='lecun_normal')(cl_res_5_2)\n",
    "cl_res_6_1 = BatchNormalization()(cl_res_5_2)\n",
    "cl_res_6_1 = Activation('relu')(cl_res_6_1)\n",
    "cl_res_6_1 = Conv2D(128, 3, strides=1, padding='same', kernel_initializer='lecun_normal')(cl_res_6_1)\n",
    "cl_res_6_2 = BatchNormalization()(cl_res_6_1)\n",
    "cl_res_6_2 = Activation('relu')(cl_res_6_2)\n",
    "cl_res_6_2 = Conv2D(128, 3, strides=1, padding='same', kernel_initializer='lecun_normal')(cl_res_6_2)\n",
    "cl_pl_2    = AveragePooling2D()(cl_res_6_2)\n",
    "cl_flatten = Flatten()(cl_pl_2)\n",
    "cl_fc100   = Dense(100, activation='softmax')(cl_flatten)\n",
    "classifier_ReLUBN_noRes = Model(cl_in, cl_fc100)\n",
    "plot_model(classifier_ReLUBN_noRes, 'classifier_ReLUBN_noRes.png', show_layer_names=False)\n",
    "classifier_ReLUBN_noRes.summary()"
   ]
  },
  {
   "cell_type": "code",
   "execution_count": null,
   "metadata": {},
   "outputs": [],
   "source": [
    "OPT = Adam(0.00001)\n",
    "classifier_ReLUBN_noRes.compile(loss='binary_crossentropy', optimizer=OPT, metrics=['binary_crossentropy', 'mse','acc'])\n",
    "hist_classifier_ReLUBN_noRes = classifier_ReLUBN_noRes.fit(\n",
    "    x_train,y_train, batch_size=64, epochs=100, validation_data=(x_test, y_test))"
   ]
  },
  {
   "cell_type": "code",
   "execution_count": null,
   "metadata": {},
   "outputs": [],
   "source": [
    "plt.plot(hist_classifier_ReLUBN_noRes.history['loss'])\n",
    "plt.plot(hist_classifier_ReLUBN_noRes.history['val_loss'])"
   ]
  },
  {
   "cell_type": "code",
   "execution_count": null,
   "metadata": {},
   "outputs": [],
   "source": [
    "plt.plot(hist_classifier_ReLUBN_noRes.history['acc'])\n",
    "plt.plot(hist_classifier_ReLUBN_noRes.history['val_acc'])"
   ]
  },
  {
   "cell_type": "markdown",
   "metadata": {
    "collapsed": true
   },
   "source": [
    "### SeLU version ResNet(No Batch Normalization)"
   ]
  },
  {
   "cell_type": "markdown",
   "metadata": {
    "collapsed": true
   },
   "source": [
    "##### With Resdual Block"
   ]
  },
  {
   "cell_type": "code",
   "execution_count": null,
   "metadata": {
    "scrolled": true
   },
   "outputs": [],
   "source": [
    "cl_in      = Input(shape=x_train.shape[1:])\n",
    "cl_conv_1  = Conv2D(64, 3, strides=2, activation='selu', padding='same', kernel_initializer='lecun_normal')(cl_in)\n",
    "cl_pl_1    = MaxPooling2D()(cl_conv_1)\n",
    "cl_res_1_1 = Conv2D(64, 3, strides=1, activation='selu', padding='same', kernel_initializer='lecun_normal')(cl_pl_1)\n",
    "cl_res_1_2 = Conv2D(64, 3, strides=1, activation='selu', padding='same', kernel_initializer='lecun_normal')(cl_res_1_1)\n",
    "cl_res_1_a = Add()([cl_pl_1, cl_res_1_2])\n",
    "cl_res_2_1 = Conv2D(64, 3, strides=1, activation='selu', padding='same', kernel_initializer='lecun_normal')(cl_res_1_a)\n",
    "cl_res_2_2 = Conv2D(64, 3, strides=1, activation='selu', padding='same', kernel_initializer='lecun_normal')(cl_res_2_1)\n",
    "cl_res_2_a = Add()([cl_res_1_a, cl_res_2_2])\n",
    "cl_res_3_1 = Conv2D(64, 3, strides=1, activation='selu', padding='same', kernel_initializer='lecun_normal')(cl_res_2_a)\n",
    "cl_res_3_2 = Conv2D(64, 3, strides=1, activation='selu', padding='same', kernel_initializer='lecun_normal')(cl_res_3_1)\n",
    "cl_res_3_a = Add()([cl_res_2_a, cl_res_3_2])\n",
    "cl_conv_2  = Conv2D(128, 3, strides=2, activation='selu', padding='same', kernel_initializer='lecun_normal')(cl_res_3_a)\n",
    "cl_conv_2  = Conv2D(128, 3, strides=1, activation='selu', padding='same', kernel_initializer='lecun_normal')(cl_conv_2)\n",
    "cl_res_4_1 = Conv2D(128, 3, strides=1, activation='selu', padding='same', kernel_initializer='lecun_normal')(cl_conv_2)\n",
    "cl_res_4_2 = Conv2D(128, 3, strides=1, activation='selu', padding='same', kernel_initializer='lecun_normal')(cl_res_4_1)\n",
    "cl_res_4_a = Add()([cl_conv_2, cl_res_4_2])\n",
    "cl_res_5_1 = Conv2D(128, 3, strides=1, activation='selu', padding='same', kernel_initializer='lecun_normal')(cl_res_4_a)\n",
    "cl_res_5_2 = Conv2D(128, 3, strides=1, activation='selu', padding='same', kernel_initializer='lecun_normal')(cl_res_5_1)\n",
    "cl_res_5_a = Add()([cl_res_4_a, cl_res_5_2])\n",
    "cl_res_6_1 = Conv2D(128, 3, strides=1, activation='selu', padding='same', kernel_initializer='lecun_normal')(cl_res_5_a)\n",
    "cl_res_6_2 = Conv2D(128, 3, strides=1, activation='selu', padding='same', kernel_initializer='lecun_normal')(cl_res_6_1)\n",
    "cl_res_6_a = Add()([cl_res_5_a, cl_res_6_2])\n",
    "cl_pl_2    = AveragePooling2D()(cl_res_6_a)\n",
    "cl_flatten = Flatten()(cl_pl_2)\n",
    "cl_fc100   = Dense(100, activation='softmax')(cl_flatten)\n",
    "classifier = Model(cl_in, cl_fc100)\n",
    "plot_model(classifier, 'resnet.png', show_layer_names=False)\n",
    "classifier.summary()"
   ]
  },
  {
   "cell_type": "code",
   "execution_count": null,
   "metadata": {},
   "outputs": [],
   "source": [
    "OPT = Adam(0.00001)\n",
    "classifier.compile(loss='binary_crossentropy', optimizer=OPT, metrics=['binary_crossentropy', 'mse','acc'])\n",
    "hist_ResNet_SELU = classifier.fit(x_train,y_train, batch_size=64, epochs=100, validation_data=(x_test, y_test))"
   ]
  },
  {
   "cell_type": "code",
   "execution_count": null,
   "metadata": {},
   "outputs": [],
   "source": [
    "plt.plot(hist_ResNet_SELU.history['loss'])\n",
    "plt.plot(hist_ResNet_SELU.history['val_loss'])"
   ]
  },
  {
   "cell_type": "code",
   "execution_count": null,
   "metadata": {},
   "outputs": [],
   "source": [
    "plt.plot(hist_ResNet_SELU.history['acc'])\n",
    "plt.plot(hist_ResNet_SELU.history['val_acc'])"
   ]
  },
  {
   "cell_type": "markdown",
   "metadata": {},
   "source": [
    "#### Without Resdual Block"
   ]
  },
  {
   "cell_type": "code",
   "execution_count": null,
   "metadata": {
    "scrolled": true
   },
   "outputs": [],
   "source": [
    "cl_in      = Input(shape=x_train.shape[1:])\n",
    "cl_conv_1  = Conv2D(64, 3, strides=2, activation='selu', padding='same', kernel_initializer='lecun_normal')(cl_in)\n",
    "cl_pl_1    = MaxPooling2D()(cl_conv_1)\n",
    "cl_res_1_1 = Conv2D(64, 3, strides=1, activation='selu', padding='same', kernel_initializer='lecun_normal')(cl_pl_1)\n",
    "cl_res_1_2 = Conv2D(64, 3, strides=1, activation='selu', padding='same', kernel_initializer='lecun_normal')(cl_res_1_1)\n",
    "cl_res_2_1 = Conv2D(64, 3, strides=1, activation='selu', padding='same', kernel_initializer='lecun_normal')(cl_res_1_2)\n",
    "cl_res_2_2 = Conv2D(64, 3, strides=1, activation='selu', padding='same', kernel_initializer='lecun_normal')(cl_res_2_1)\n",
    "cl_res_3_1 = Conv2D(64, 3, strides=1, activation='selu', padding='same', kernel_initializer='lecun_normal')(cl_res_2_2)\n",
    "cl_res_3_2 = Conv2D(64, 3, strides=1, activation='selu', padding='same', kernel_initializer='lecun_normal')(cl_res_3_1)\n",
    "cl_conv_2  = Conv2D(128, 3, strides=2, activation='selu', padding='same', kernel_initializer='lecun_normal')(cl_res_3_2)\n",
    "cl_conv_2  = Conv2D(128, 3, strides=1, activation='selu', padding='same', kernel_initializer='lecun_normal')(cl_conv_2)\n",
    "cl_res_4_1 = Conv2D(128, 3, strides=1, activation='selu', padding='same', kernel_initializer='lecun_normal')(cl_conv_2)\n",
    "cl_res_4_2 = Conv2D(128, 3, strides=1, activation='selu', padding='same', kernel_initializer='lecun_normal')(cl_res_4_1)\n",
    "cl_res_5_1 = Conv2D(128, 3, strides=1, activation='selu', padding='same', kernel_initializer='lecun_normal')(cl_res_4_2)\n",
    "cl_res_5_2 = Conv2D(128, 3, strides=1, activation='selu', padding='same', kernel_initializer='lecun_normal')(cl_res_5_1)\n",
    "cl_res_6_1 = Conv2D(128, 3, strides=1, activation='selu', padding='same', kernel_initializer='lecun_normal')(cl_res_5_2)\n",
    "cl_res_6_2 = Conv2D(128, 3, strides=1, activation='selu', padding='same', kernel_initializer='lecun_normal')(cl_res_6_1)\n",
    "cl_pl_2    = AveragePooling2D()(cl_res_6_2)\n",
    "cl_flatten = Flatten()(cl_pl_2)\n",
    "cl_fc100   = Dense(100, activation='softmax')(cl_flatten)\n",
    "classifier_noRes = Model(cl_in, cl_fc100)\n",
    "plot_model(classifier_noRes, 'classifier_noRes.png', show_layer_names=False)\n",
    "classifier_noRes.summary()"
   ]
  },
  {
   "cell_type": "code",
   "execution_count": null,
   "metadata": {
    "scrolled": true
   },
   "outputs": [],
   "source": [
    "OPT = Adam(0.00001)\n",
    "classifier_noRes.compile(loss='binary_crossentropy', optimizer=OPT, metrics=['binary_crossentropy', 'mse','acc'])\n",
    "hist_NoResNet_SELU = classifier_noRes.fit(x_train,y_train, batch_size=64, epochs=100, validation_data=(x_test, y_test))"
   ]
  },
  {
   "cell_type": "code",
   "execution_count": null,
   "metadata": {},
   "outputs": [],
   "source": [
    "plt.plot(hist_NoResNet_SELU.history['loss'])\n",
    "plt.plot(hist_NoResNet_SELU.history['val_loss'])"
   ]
  },
  {
   "cell_type": "code",
   "execution_count": null,
   "metadata": {},
   "outputs": [],
   "source": [
    "plt.plot(hist_NoResNet_SELU.history['acc'])\n",
    "plt.plot(hist_NoResNet_SELU.history['val_acc'])"
   ]
  },
  {
   "cell_type": "code",
   "execution_count": null,
   "metadata": {
    "collapsed": true
   },
   "outputs": [],
   "source": []
  },
  {
   "cell_type": "markdown",
   "metadata": {},
   "source": [
    "## DenseNet"
   ]
  },
  {
   "cell_type": "code",
   "execution_count": null,
   "metadata": {},
   "outputs": [],
   "source": [
    "dense_block_input = Input((9,4,87))\n",
    "dense_block_1     = Conv2D(87, 3 , strides=1,name='dense_block_1' , activation='selu', padding='same', kernel_initializer='lecun_normal')(dense_block_input)\n",
    "dense_block_2     = Conv2D(87, 3 , strides=1,name='dense_block_2' , padding='same', activation='selu', kernel_initializer='lecun_normal')(dense_block_1)\n",
    "dense_block_add1  = Add()([dense_block_input, dense_block_2])\n",
    "dense_block_3     = Conv2D(87, 3 , strides=1,name='dense_block_3' , padding='same', activation='selu', kernel_initializer='lecun_normal')(dense_block_add1)\n",
    "dense_block_add2  = Add()([dense_block_input, dense_block_1, dense_block_3])\n",
    "dense_block_4     = Conv2D(87, 3 , strides=1,name='dense_block_4' , padding='same', activation='selu', kernel_initializer='lecun_normal')(dense_block_add2)\n",
    "dense_block_add3  = Add()([dense_block_input, dense_block_1, dense_block_2, dense_block_4])\n",
    "dense_block_5     = Conv2D(87, 3 , strides=1,name='dense_block_5' , padding='same', activation='selu', kernel_initializer='lecun_normal')(dense_block_add3)\n",
    "dense_block_add4  = Add()([dense_block_input, dense_block_1, dense_block_2, dense_block_3, dense_block_5])\n",
    "dense_block_6     = Conv2D(87, 3 , strides=1,name='dense_block_6' , padding='same', activation='selu', kernel_initializer='lecun_normal')(dense_block_add4)\n",
    "dense_block_add5  = Add()([dense_block_input, dense_block_1, dense_block_2, dense_block_3, dense_block_4, dense_block_6])\n",
    "res_block = Model(dense_block_input, dense_block_add5, name='dense_block')\n",
    "plot_model(res_block, 'Dense_block.png')\n",
    "res_block.summary()"
   ]
  },
  {
   "cell_type": "code",
   "execution_count": null,
   "metadata": {
    "collapsed": true
   },
   "outputs": [],
   "source": []
  }
 ],
 "metadata": {
  "kernelspec": {
   "display_name": "Python 3",
   "language": "python",
   "name": "python3"
  },
  "language_info": {
   "codemirror_mode": {
    "name": "ipython",
    "version": 3
   },
   "file_extension": ".py",
   "mimetype": "text/x-python",
   "name": "python",
   "nbconvert_exporter": "python",
   "pygments_lexer": "ipython3",
   "version": "3.6.1"
  }
 },
 "nbformat": 4,
 "nbformat_minor": 2
}
